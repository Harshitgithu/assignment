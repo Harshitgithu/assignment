{
 "cells": [
  {
   "cell_type": "markdown",
   "id": "0bba361a-c18b-450d-ab2c-47547191d828",
   "metadata": {},
   "source": [
    "## Question-1 : You are work#ng on a mach#ne learn#ng project where you have a dataset conta#n#ng numer#cal and\n",
    "## categor#cal features. You have #dent#f#ed that some of the features are h#ghly correlated and there are\n",
    "## eng#neer#ng process and handles the m#ss#ng valuesD\n",
    "## Des#gn a p#pel#ne that #ncludes the follow#ng steps\"\n",
    "## Use an automated feature select#on method to #dent#fy the #mportant features #n the datasetC\n",
    "## Impute the m#ss#ng values #n the numer#cal columns us#ng the mean of the column valuesC\n",
    "## Scale the numer#cal columns us#ng standard#sat#onC\n",
    "## Create a categor#cal p#pel#ne that #ncludes the follow#ng steps\"\n",
    "## Impute the m#ss#ng values #n the categor#cal columns us#ng the most frequent value of the columnC\n",
    "## Comb#ne the numer#cal and categor#cal p#pel#nes us#ng a ColumnTransformerC\n",
    "## Use a Random Forest Class#f#er to bu#ld the f#nal modelC\n",
    "## Evaluate the accuracy of the model on the test datasetD"
   ]
  },
  {
   "cell_type": "code",
   "execution_count": null,
   "id": "9e1c4ae2-8dba-41da-9248-f91100a7fce2",
   "metadata": {},
   "outputs": [],
   "source": []
  },
  {
   "cell_type": "code",
   "execution_count": null,
   "id": "ccfa5fe1-b7a1-4149-8dc1-d499da1d005d",
   "metadata": {},
   "outputs": [],
   "source": [
    "## Question-2: "
   ]
  }
 ],
 "metadata": {
  "kernelspec": {
   "display_name": "Python 3 (ipykernel)",
   "language": "python",
   "name": "python3"
  },
  "language_info": {
   "codemirror_mode": {
    "name": "ipython",
    "version": 3
   },
   "file_extension": ".py",
   "mimetype": "text/x-python",
   "name": "python",
   "nbconvert_exporter": "python",
   "pygments_lexer": "ipython3",
   "version": "3.10.8"
  }
 },
 "nbformat": 4,
 "nbformat_minor": 5
}
