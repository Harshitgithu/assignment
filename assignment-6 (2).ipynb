{
 "cells": [
  {
   "cell_type": "markdown",
   "id": "cb9cc246-5ffa-4e2d-adcc-c57461ba0493",
   "metadata": {},
   "source": [
    "## Question-1: what is abstraction in oops ? give example."
   ]
  },
  {
   "cell_type": "code",
   "execution_count": 29,
   "id": "8e0e830c-9afe-4f9c-8031-d9fedaf16251",
   "metadata": {},
   "outputs": [],
   "source": [
    "\n",
    "## Abstrction can be defined as handling complexity by hiding unnessary information from the user. abstaction hides the internal implementation of function from the user."
   ]
  },
  {
   "cell_type": "code",
   "execution_count": 3,
   "id": "ede6bcff-9124-41b1-8c45-2b2bfa466d40",
   "metadata": {},
   "outputs": [],
   "source": [
    "import abc\n",
    "class pwskills:\n",
    "    @abc.abstractmethod\n",
    "    def student_details(self):\n",
    "        pass\n",
    "    @abc.abstractmethod\n",
    "    def student_assignment(self):\n",
    "        pass\n",
    "    @abc.abstractmethod\n",
    "    def student_marks(self):\n",
    "        pass\n"
   ]
  },
  {
   "cell_type": "code",
   "execution_count": 4,
   "id": "5d735b80-10ae-4607-8564-05205c712323",
   "metadata": {},
   "outputs": [],
   "source": [
    "class student(pwskills):\n",
    "    def student_details(self):\n",
    "        print(\"this function is for student details\")\n",
    "    def student_assignment(self):\n",
    "        print(\"this is the function for student assignment\")"
   ]
  },
  {
   "cell_type": "code",
   "execution_count": 5,
   "id": "6ca62112-8c78-41b3-9dee-2ddc96035256",
   "metadata": {},
   "outputs": [],
   "source": [
    "object=student()"
   ]
  },
  {
   "cell_type": "code",
   "execution_count": 6,
   "id": "0bb4b19c-79d8-4392-b1c6-2af0793fe499",
   "metadata": {},
   "outputs": [
    {
     "name": "stdout",
     "output_type": "stream",
     "text": [
      "this function is for student details\n"
     ]
    }
   ],
   "source": [
    "object.student_details()"
   ]
  },
  {
   "cell_type": "code",
   "execution_count": 7,
   "id": "cb8be7e3-b35f-4b65-9bc9-e9d18593671f",
   "metadata": {},
   "outputs": [
    {
     "name": "stdout",
     "output_type": "stream",
     "text": [
      "this is the function for student assignment\n"
     ]
    }
   ],
   "source": [
    "object.student_assignment()"
   ]
  },
  {
   "cell_type": "markdown",
   "id": "c21ac39b-572a-4ac5-8951-9828588d781e",
   "metadata": {},
   "source": [
    "## Question-2: difference between abstraction and encapsulation. give example."
   ]
  },
  {
   "cell_type": "code",
   "execution_count": 8,
   "id": "0f3211fd-1c55-4ca2-82df-17fbe72b114e",
   "metadata": {},
   "outputs": [],
   "source": [
    "## Abstraction is refer to providing only essential information about the data to user and hiding implementation .\n",
    "## In encapsulation the variable of class will be hidden from other class and can be accesed through the methods defined in their current class.  "
   ]
  },
  {
   "cell_type": "code",
   "execution_count": 1,
   "id": "9ab34e1a-f492-43a7-8bd6-4382e5abc1f5",
   "metadata": {},
   "outputs": [],
   "source": [
    "## example of encapsulation:\n"
   ]
  },
  {
   "cell_type": "code",
   "execution_count": 15,
   "id": "a0d23273-70f4-4cc7-acdf-f3cc8cecdc29",
   "metadata": {},
   "outputs": [],
   "source": [
    "## example of encapsulation\n",
    "class car:\n",
    "    def __init__(self,year,make,model,speed):\n",
    "        \n",
    "        self.__year=year\n",
    "        self.__make=make\n",
    "        self.__model=model\n",
    "        self.__speed=0\n",
    "        \n",
    "    def set_speed(self,speed):\n",
    "        self.__speed=0 if speed<0 else speed\n",
    "        \n",
    "    def get_speed():\n",
    "        return self.__speed\n",
    "        \n",
    "        "
   ]
  },
  {
   "cell_type": "code",
   "execution_count": 16,
   "id": "b968829d-b0b3-4f3d-a470-fa4808d5eba1",
   "metadata": {},
   "outputs": [],
   "source": [
    "object=car(2024,200,\"benz\",240)"
   ]
  },
  {
   "cell_type": "code",
   "execution_count": 17,
   "id": "fee28e45-ba66-41c8-84f4-8d6257c75d5d",
   "metadata": {},
   "outputs": [],
   "source": [
    "## example of abstraction:\n"
   ]
  },
  {
   "cell_type": "code",
   "execution_count": 18,
   "id": "a90011a1-b690-49df-b8bf-23aba5f284cc",
   "metadata": {},
   "outputs": [],
   "source": [
    "\n",
    "## example of abstract \n",
    "import abc\n",
    "class pwskills:\n",
    "    \n",
    "    @abc.abstractmethod\n",
    "    def student_details(self):\n",
    "        pass\n",
    "    \n",
    "    @abc.abstractmethod\n",
    "    def student_assignment(self):\n",
    "        pass\n",
    "    \n",
    "    @abc.abstractmethod\n",
    "    def student_marks(self):\n",
    "        pass\n",
    "        "
   ]
  },
  {
   "cell_type": "code",
   "execution_count": 19,
   "id": "af1c35b1-b68f-499d-a88b-642a6f40e737",
   "metadata": {},
   "outputs": [],
   "source": [
    "class student_details(pwskills):\n",
    "    \n",
    "    def students_details(self):\n",
    "        return \"this is method for taking student details\"\n",
    "    \n",
    "    def student_assignment(self):\n",
    "        return \"this is method for assing details for perticulat student\""
   ]
  },
  {
   "cell_type": "code",
   "execution_count": 21,
   "id": "eb8ee33a-b8dc-4e86-97ed-a4a405dd5d12",
   "metadata": {},
   "outputs": [
    {
     "data": {
      "text/plain": [
       "'this is method for taking student details'"
      ]
     },
     "execution_count": 21,
     "metadata": {},
     "output_type": "execute_result"
    }
   ],
   "source": [
    "sd=student_details()\n",
    "sd.students_details()"
   ]
  },
  {
   "cell_type": "markdown",
   "id": "4ccb63c7-3ee0-4d36-8c63-136dbd64c0b7",
   "metadata": {},
   "source": [
    "## Question-3: what is abc module in python? why it is used."
   ]
  },
  {
   "cell_type": "code",
   "execution_count": 23,
   "id": "60053e44-5a9c-4f4e-a9fb-073499d5b7a9",
   "metadata": {},
   "outputs": [],
   "source": [
    "## abc module provide the infrastructure for definnig abstract base class.\n",
    "## it is used because it provide neccesary tools for crafting an abstract base class."
   ]
  },
  {
   "cell_type": "code",
   "execution_count": 24,
   "id": "5d83ca4c-01bd-4a36-8935-97d81d78ad9f",
   "metadata": {},
   "outputs": [],
   "source": [
    "## in data abstrction we hide internal implementation of applicatio from the user.  data abstaction can be achieve by creating abstract classes and inherit them later."
   ]
  },
  {
   "cell_type": "code",
   "execution_count": 25,
   "id": "00fff010-c96c-4822-8338-f8f1401b04e0",
   "metadata": {},
   "outputs": [],
   "source": [
    " ## example:\n",
    "import abc\n",
    "class pwskills:\n",
    "    \n",
    "    @abc.abstractmethod\n",
    "    def student_details(self):\n",
    "        pass\n",
    "    \n",
    "    @abc.abstractmethod\n",
    "    def student_assignment(self):\n",
    "        pass\n",
    "    \n",
    "    @abc.abstractmethod\n",
    "    def student_marks(self):\n",
    "        pass\n",
    "        "
   ]
  },
  {
   "cell_type": "code",
   "execution_count": 26,
   "id": "edc4a010-216a-48a6-b29e-86df938901fe",
   "metadata": {},
   "outputs": [],
   "source": [
    "class student_details(pwskills):\n",
    "    \n",
    "    def students_details(self):\n",
    "        return \"this is method for taking student details\"\n",
    "    \n",
    "    def student_assignment(self):\n",
    "        return \"this is method for assing details for perticulat student\""
   ]
  },
  {
   "cell_type": "markdown",
   "id": "6dd5e482-aff3-4dfa-a0fe-07d66b558245",
   "metadata": {},
   "source": [
    "## Question-4: can we create instance of an abstract class."
   ]
  },
  {
   "cell_type": "code",
   "execution_count": 27,
   "id": "a819ede0-d502-4c3d-9fa4-7c4d921d487d",
   "metadata": {},
   "outputs": [],
   "source": [
    "\n",
    "## abstrct classes are not complete, as they have some methods that ae not define . we cannot create instance or object of an abstract class.\n",
    "\n",
    "\n"
   ]
  },
  {
   "cell_type": "code",
   "execution_count": null,
   "id": "49a377a0-4543-440b-bc0c-87344bad533c",
   "metadata": {},
   "outputs": [],
   "source": []
  }
 ],
 "metadata": {
  "kernelspec": {
   "display_name": "Python 3 (ipykernel)",
   "language": "python",
   "name": "python3"
  },
  "language_info": {
   "codemirror_mode": {
    "name": "ipython",
    "version": 3
   },
   "file_extension": ".py",
   "mimetype": "text/x-python",
   "name": "python",
   "nbconvert_exporter": "python",
   "pygments_lexer": "ipython3",
   "version": "3.10.8"
  }
 },
 "nbformat": 4,
 "nbformat_minor": 5
}
