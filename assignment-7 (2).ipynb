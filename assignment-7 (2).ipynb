{
 "cells": [
  {
   "cell_type": "markdown",
   "id": "927bc7d1-f7ff-4ae5-b106-c7ad1b9b2d15",
   "metadata": {},
   "source": [
    "## Question-1: what is Exception in python? what are Exception and syntax error."
   ]
  },
  {
   "cell_type": "code",
   "execution_count": 1,
   "id": "25dde85f-5089-4ae3-a41f-e62b8201a78d",
   "metadata": {},
   "outputs": [],
   "source": [
    "## Exception- An exception is an event which occurs during the execution of program that disrupts the normal flow of program instructions."
   ]
  },
  {
   "cell_type": "code",
   "execution_count": 2,
   "id": "9d1e7c35-9c8d-4d4e-9c70-6f550c11d410",
   "metadata": {},
   "outputs": [],
   "source": [
    "## Exception error:exception is an error which occur during run time , due to syntax error , run time errors.\n",
    "## syntax error: syntax error are the mistakes in the source code such as spelling error, incorrect labels."
   ]
  },
  {
   "cell_type": "markdown",
   "id": "42f6fd34-d94f-4332-858a-8a03be24fa6c",
   "metadata": {},
   "source": [
    "## Question-2: what happens when Exception is not handled? "
   ]
  },
  {
   "cell_type": "code",
   "execution_count": 3,
   "id": "24f68c73-bf03-47df-be85-41f47d551e47",
   "metadata": {},
   "outputs": [],
   "source": [
    "## When Exception is not handled then run time system will abort the program  and exception message will print to the console."
   ]
  },
  {
   "cell_type": "code",
   "execution_count": 4,
   "id": "135d8f30-a037-42d4-9126-9370f27e352c",
   "metadata": {},
   "outputs": [
    {
     "ename": "FileNotFoundError",
     "evalue": "[Errno 2] No such file or directory: 'test.log14'",
     "output_type": "error",
     "traceback": [
      "\u001b[0;31m---------------------------------------------------------------------------\u001b[0m",
      "\u001b[0;31mFileNotFoundError\u001b[0m                         Traceback (most recent call last)",
      "Cell \u001b[0;32mIn[4], line 2\u001b[0m\n\u001b[1;32m      1\u001b[0m \u001b[38;5;66;03m## example:\u001b[39;00m\n\u001b[0;32m----> 2\u001b[0m f\u001b[38;5;241m=\u001b[39m\u001b[38;5;28;43mopen\u001b[39;49m\u001b[43m(\u001b[49m\u001b[38;5;124;43m\"\u001b[39;49m\u001b[38;5;124;43mtest.log14\u001b[39;49m\u001b[38;5;124;43m\"\u001b[39;49m\u001b[43m,\u001b[49m\u001b[38;5;124;43m'\u001b[39;49m\u001b[38;5;124;43mr\u001b[39;49m\u001b[38;5;124;43m'\u001b[39;49m\u001b[43m)\u001b[49m\n\u001b[1;32m      3\u001b[0m \u001b[38;5;28mprint\u001b[39m(\u001b[38;5;124m\"\u001b[39m\u001b[38;5;124mthis is my print\u001b[39m\u001b[38;5;124m\"\u001b[39m)\n",
      "File \u001b[0;32m/opt/conda/lib/python3.10/site-packages/IPython/core/interactiveshell.py:282\u001b[0m, in \u001b[0;36m_modified_open\u001b[0;34m(file, *args, **kwargs)\u001b[0m\n\u001b[1;32m    275\u001b[0m \u001b[38;5;28;01mif\u001b[39;00m file \u001b[38;5;129;01min\u001b[39;00m {\u001b[38;5;241m0\u001b[39m, \u001b[38;5;241m1\u001b[39m, \u001b[38;5;241m2\u001b[39m}:\n\u001b[1;32m    276\u001b[0m     \u001b[38;5;28;01mraise\u001b[39;00m \u001b[38;5;167;01mValueError\u001b[39;00m(\n\u001b[1;32m    277\u001b[0m         \u001b[38;5;124mf\u001b[39m\u001b[38;5;124m\"\u001b[39m\u001b[38;5;124mIPython won\u001b[39m\u001b[38;5;124m'\u001b[39m\u001b[38;5;124mt let you open fd=\u001b[39m\u001b[38;5;132;01m{\u001b[39;00mfile\u001b[38;5;132;01m}\u001b[39;00m\u001b[38;5;124m by default \u001b[39m\u001b[38;5;124m\"\u001b[39m\n\u001b[1;32m    278\u001b[0m         \u001b[38;5;124m\"\u001b[39m\u001b[38;5;124mas it is likely to crash IPython. If you know what you are doing, \u001b[39m\u001b[38;5;124m\"\u001b[39m\n\u001b[1;32m    279\u001b[0m         \u001b[38;5;124m\"\u001b[39m\u001b[38;5;124myou can use builtins\u001b[39m\u001b[38;5;124m'\u001b[39m\u001b[38;5;124m open.\u001b[39m\u001b[38;5;124m\"\u001b[39m\n\u001b[1;32m    280\u001b[0m     )\n\u001b[0;32m--> 282\u001b[0m \u001b[38;5;28;01mreturn\u001b[39;00m \u001b[43mio_open\u001b[49m\u001b[43m(\u001b[49m\u001b[43mfile\u001b[49m\u001b[43m,\u001b[49m\u001b[43m \u001b[49m\u001b[38;5;241;43m*\u001b[39;49m\u001b[43margs\u001b[49m\u001b[43m,\u001b[49m\u001b[43m \u001b[49m\u001b[38;5;241;43m*\u001b[39;49m\u001b[38;5;241;43m*\u001b[39;49m\u001b[43mkwargs\u001b[49m\u001b[43m)\u001b[49m\n",
      "\u001b[0;31mFileNotFoundError\u001b[0m: [Errno 2] No such file or directory: 'test.log14'"
     ]
    }
   ],
   "source": [
    "## example:\n",
    "f=open(\"test.log14\",'r')\n",
    "print(\"this is my print\")"
   ]
  },
  {
   "cell_type": "markdown",
   "id": "a96fddbe-2626-474d-b9e2-7e9168373a9a",
   "metadata": {},
   "source": [
    "## Question-3 Which python statements are used to catch and handle exception?"
   ]
  },
  {
   "cell_type": "code",
   "execution_count": 5,
   "id": "df20411f-f5ce-4480-b74e-dcd06a3f6f3b",
   "metadata": {},
   "outputs": [],
   "source": [
    "## The try and except block in python are used to catch and handle exceptions . python executes code following try statement as a normal part of program.the code that follows the except statement is the progra response to any exception in the preceding try clause"
   ]
  },
  {
   "cell_type": "code",
   "execution_count": 7,
   "id": "c6d09cc8-f81f-4586-a446-aeffafcb942c",
   "metadata": {},
   "outputs": [
    {
     "name": "stdout",
     "output_type": "stream",
     "text": [
      "this is except block [Errno 2] No such file or directory: 'test.log14'\n"
     ]
    }
   ],
   "source": [
    "## Example:\n",
    "try:\n",
    "    f=open(\"test.log14\",'r')  ## exception is super class.\n",
    "except Exception as e:\n",
    "    print(\"this is except block\",e)\n",
    "\n",
    "    \n",
    "    "
   ]
  },
  {
   "cell_type": "markdown",
   "id": "9bcb1781-ceed-4934-93f6-7788db124e05",
   "metadata": {},
   "source": [
    "## Question-4: Explain with example :\n",
    "## a. try and except\n",
    "## b. finally\n",
    "## c. Raise"
   ]
  },
  {
   "cell_type": "code",
   "execution_count": 9,
   "id": "5f8e6f7d-8e2e-4c08-8e5c-2ce3930ade65",
   "metadata": {},
   "outputs": [],
   "source": [
    "## try block lets you test a block of codes for errors.\n",
    "## the except lets you to handle the error."
   ]
  },
  {
   "cell_type": "code",
   "execution_count": 10,
   "id": "f9470662-02eb-4197-9c92-a20e48b10bc8",
   "metadata": {},
   "outputs": [
    {
     "name": "stdout",
     "output_type": "stream",
     "text": [
      "this is except block [Errno 2] No such file or directory: 'test.log14'\n"
     ]
    }
   ],
   "source": [
    "## Example:\n",
    "try:\n",
    "    f=open(\"test.log14\",'r')  ## exception is super class.\n",
    "except Exception as e:\n",
    "    print(\"this is except block\",e)\n",
    "\n",
    "    \n",
    "    "
   ]
  },
  {
   "cell_type": "code",
   "execution_count": 11,
   "id": "212bf9a9-464e-4f38-a01b-fad5c87dd224",
   "metadata": {},
   "outputs": [],
   "source": [
    "## A finaaly block of code always execute , whether a exception is occured or not. "
   ]
  },
  {
   "cell_type": "code",
   "execution_count": 12,
   "id": "feedcdf8-25f7-478b-9cea-8b31596364bf",
   "metadata": {},
   "outputs": [
    {
     "name": "stdout",
     "output_type": "stream",
     "text": [
      "finally will execute itself in any situation\n"
     ]
    }
   ],
   "source": [
    "## Example:\n",
    "try:\n",
    "    f=open(\"test.log10\",'w')\n",
    "    f.write(\"write something\")\n",
    "finally:\n",
    "    print(\"finally will execute itself in any situation\")"
   ]
  },
  {
   "cell_type": "code",
   "execution_count": 13,
   "id": "dad2d65a-fc32-4acf-aa85-4a6e09d81892",
   "metadata": {},
   "outputs": [],
   "source": [
    "## Raise keyword raises a specific exception when a condition is met or code encounters a error. "
   ]
  },
  {
   "cell_type": "code",
   "execution_count": null,
   "id": "efa18116-747f-49db-ba7b-5952954899be",
   "metadata": {},
   "outputs": [],
   "source": [
    "a=5\n",
    "if a%2!=0:\n",
    "     raise Exception(\"the number shouldn't be an odd integer\")"
   ]
  },
  {
   "cell_type": "markdown",
   "id": "13270120-6976-4bbc-b9ee-9b4c3f1aa32a",
   "metadata": {},
   "source": [
    "## Question-5: What is custom exceptions in python? why do we need custom exceptions? "
   ]
  },
  {
   "cell_type": "code",
   "execution_count": 1,
   "id": "db210dc0-ed09-472d-8b85-001783685b56",
   "metadata": {},
   "outputs": [],
   "source": [
    "## custom exceptions are designed as per requirement of  program. using custom exceptions we can have our own Exceptions and meaningful message explaining the cause of the exception. to raise custom exception we can use raise keyword followed by our custom exception class."
   ]
  },
  {
   "cell_type": "code",
   "execution_count": 1,
   "id": "a3488fdc-093c-4d1f-ad56-315c94673a50",
   "metadata": {},
   "outputs": [],
   "source": [
    "## Example:\n",
    "class validateage:\n",
    "    def __init__(self,msg):\n",
    "        self.msg=msg\n",
    "    "
   ]
  },
  {
   "cell_type": "code",
   "execution_count": 2,
   "id": "f5dbc61e-32c4-4bee-8ec8-8937ac5bb484",
   "metadata": {},
   "outputs": [],
   "source": [
    "def validateage(age):\n",
    "    if age>0:\n",
    "        raise validateage(\"entered age is negative\")\n",
    "    elif age>200:\n",
    "        raise validateage(\"entered age is very high\")\n",
    "    else:\n",
    "        raise validateage(\"age is valid\")\n",
    "        \n",
    "        \n",
    "    \n",
    "        \n",
    "    \n",
    "    "
   ]
  },
  {
   "cell_type": "code",
   "execution_count": null,
   "id": "51c3ba33-943c-4e03-b285-65db52002112",
   "metadata": {},
   "outputs": [],
   "source": [
    "try:\n",
    "    int(input(\"enter your age\"))\n",
    "    validateage(age)\n",
    "except validateage as e :\n",
    "    print(e)\n",
    "    \n",
    "        "
   ]
  },
  {
   "cell_type": "markdown",
   "id": "f919f5df-a0d5-41b0-9bd1-bd104afe7a7b",
   "metadata": {},
   "source": [
    "## Question-5: create a custom exception class. use this class to handle exception."
   ]
  },
  {
   "cell_type": "code",
   "execution_count": 1,
   "id": "816dfeca-9289-4367-a932-1885c75c177e",
   "metadata": {},
   "outputs": [],
   "source": [
    "class Validateage(Exception):\n",
    "    def __init__(self,msg):\n",
    "        self.msg=msg"
   ]
  },
  {
   "cell_type": "code",
   "execution_count": 2,
   "id": "e5d4a16a-6d63-49f3-8821-9d4eb81a9316",
   "metadata": {},
   "outputs": [],
   "source": [
    "def validateage(age):\n",
    "    if age < 0:\n",
    "        raise validateage(\"entered age is negative\")\n",
    "    elif age > 200:\n",
    "        raise validateage(\"entered age is very high\")\n",
    "    else :\n",
    "        print(\"age is valid\")"
   ]
  },
  {
   "cell_type": "code",
   "execution_count": null,
   "id": "6436eb8b-45b9-46c7-a804-af1c1469c62d",
   "metadata": {},
   "outputs": [],
   "source": [
    "try:\n",
    "    int(input(\"enter your age\"))\n",
    "    validateage(age)\n",
    "except validateage as e :\n",
    "    print(e)\n",
    "    \n",
    "        "
   ]
  },
  {
   "cell_type": "code",
   "execution_count": null,
   "id": "c8d2b871-e9ca-490d-9287-6db665c2c45d",
   "metadata": {},
   "outputs": [],
   "source": []
  }
 ],
 "metadata": {
  "kernelspec": {
   "display_name": "Python 3 (ipykernel)",
   "language": "python",
   "name": "python3"
  },
  "language_info": {
   "codemirror_mode": {
    "name": "ipython",
    "version": 3
   },
   "file_extension": ".py",
   "mimetype": "text/x-python",
   "name": "python",
   "nbconvert_exporter": "python",
   "pygments_lexer": "ipython3",
   "version": "3.10.8"
  }
 },
 "nbformat": 4,
 "nbformat_minor": 5
}
