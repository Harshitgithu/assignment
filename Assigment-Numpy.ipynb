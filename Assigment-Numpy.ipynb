{
 "cells": [
  {
   "cell_type": "markdown",
   "id": "c244c6bc-3835-42be-beda-78171652a207",
   "metadata": {},
   "source": [
    "## Consider the below code to answer further questions:\n",
    "import numpy as np\n",
    "list_ = [ ‘1’ , ’2’ , ‘3’ , ‘4’ , ‘5’ ]\n",
    "array_list = np.array(object = list_)"
   ]
  },
  {
   "cell_type": "markdown",
   "id": "a237544c-720d-4a9c-bdeb-9406567779b2",
   "metadata": {},
   "source": [
    "## Question-1 :Is there any difference in the data type of variables list_ and array_list? If there is then write a code to print the data types of both the variables."
   ]
  },
  {
   "cell_type": "code",
   "execution_count": 2,
   "id": "0d61a4ba-fabb-4d3e-a360-800861532ff7",
   "metadata": {},
   "outputs": [
    {
     "data": {
      "text/plain": [
       "list"
      ]
     },
     "execution_count": 2,
     "metadata": {},
     "output_type": "execute_result"
    }
   ],
   "source": [
    "list_=['1','2','3','4','5']\n",
    "type(list_)"
   ]
  },
  {
   "cell_type": "code",
   "execution_count": 4,
   "id": "7fe0a23d-10f4-40d5-8259-e18a76fb3577",
   "metadata": {},
   "outputs": [],
   "source": [
    "import numpy as np"
   ]
  },
  {
   "cell_type": "code",
   "execution_count": 16,
   "id": "3fbc01c4-5aa0-4694-9824-367662359caa",
   "metadata": {},
   "outputs": [],
   "source": [
    "array_list=np.array(object=list_)"
   ]
  },
  {
   "cell_type": "code",
   "execution_count": 7,
   "id": "f80685af-b16f-4c04-be0a-8a0f1beb5a79",
   "metadata": {},
   "outputs": [
    {
     "data": {
      "text/plain": [
       "numpy.ndarray"
      ]
     },
     "execution_count": 7,
     "metadata": {},
     "output_type": "execute_result"
    }
   ],
   "source": [
    "type(array_list)"
   ]
  },
  {
   "cell_type": "markdown",
   "id": "cc5a7cdc-dd37-498a-8eda-ce9d12189830",
   "metadata": {},
   "source": [
    "## Question-2: Write a code to print the data type of each and every element of both the variables list_ and array_list."
   ]
  },
  {
   "cell_type": "code",
   "execution_count": 9,
   "id": "c9550b55-e281-4de1-9027-4c1607b88c56",
   "metadata": {},
   "outputs": [
    {
     "data": {
      "text/plain": [
       "['1', '2', '3', '4', '5']"
      ]
     },
     "execution_count": 9,
     "metadata": {},
     "output_type": "execute_result"
    }
   ],
   "source": [
    "list_"
   ]
  },
  {
   "cell_type": "markdown",
   "id": "31899da5-6106-46c4-ad6d-bd29b962df30",
   "metadata": {},
   "source": [
    "## Consider the below code to answer further questions:\n",
    "import numpy as np\n",
    "num_list = [ [ 1 , 2 , 3 ] , [ 4 , 5 , 6 ] ]\n",
    "num_array = np.array(object = num_list)"
   ]
  },
  {
   "cell_type": "code",
   "execution_count": 15,
   "id": "d392e977-a051-49bf-8ddb-35e6e22698b1",
   "metadata": {},
   "outputs": [],
   "source": [
    "import numpy as np\n",
    "num_list = [ [ 1 , 2 , 3 ] , [ 4 , 5 , 6 ] ]\n",
    "num_array = np.array(object = num_list)"
   ]
  },
  {
   "cell_type": "markdown",
   "id": "3cb85ec4-d6de-4221-ae79-f36326a6c71e",
   "metadata": {},
   "source": [
    "## Question-4 :Write a code to find the following characteristics of variable, num_array:\n",
    "(i) shape\n",
    "(ii) size"
   ]
  },
  {
   "cell_type": "code",
   "execution_count": 17,
   "id": "7dbf0286-9753-444d-9aca-068a268ea032",
   "metadata": {},
   "outputs": [
    {
     "data": {
      "text/plain": [
       "(2, 3)"
      ]
     },
     "execution_count": 17,
     "metadata": {},
     "output_type": "execute_result"
    }
   ],
   "source": [
    "num_array.shape"
   ]
  },
  {
   "cell_type": "code",
   "execution_count": 18,
   "id": "03e89cb8-b3b2-4020-98e6-20cf1e2ecc13",
   "metadata": {},
   "outputs": [
    {
     "data": {
      "text/plain": [
       "6"
      ]
     },
     "execution_count": 18,
     "metadata": {},
     "output_type": "execute_result"
    }
   ],
   "source": [
    "num_array.size"
   ]
  },
  {
   "cell_type": "markdown",
   "id": "56cead15-7097-4dc2-b8f5-beed7cc3a135",
   "metadata": {},
   "source": [
    "## Question-5 :Write a code to create numpy array of 3*3 matrix containing zeros only, using a numpy array creation function."
   ]
  },
  {
   "cell_type": "code",
   "execution_count": 20,
   "id": "591297cd-85c8-4a45-89e4-642277b07bd2",
   "metadata": {},
   "outputs": [
    {
     "data": {
      "text/plain": [
       "array([[0., 0., 0.],\n",
       "       [0., 0., 0.],\n",
       "       [0., 0., 0.]])"
      ]
     },
     "execution_count": 20,
     "metadata": {},
     "output_type": "execute_result"
    }
   ],
   "source": [
    "np.zeros((3,3))"
   ]
  },
  {
   "cell_type": "markdown",
   "id": "1e74b46a-d2f9-4a9b-af32-5dc44e14d16c",
   "metadata": {},
   "source": [
    "## Question-6 :Create an identity matrix of shape (5,5) using numpy functions?"
   ]
  },
  {
   "cell_type": "code",
   "execution_count": 21,
   "id": "7a0b94a9-1ca5-4647-b4a0-5bf45ac5f6e0",
   "metadata": {},
   "outputs": [
    {
     "data": {
      "text/plain": [
       "array([[1., 0., 0., 0., 0.],\n",
       "       [0., 1., 0., 0., 0.],\n",
       "       [0., 0., 1., 0., 0.],\n",
       "       [0., 0., 0., 1., 0.],\n",
       "       [0., 0., 0., 0., 1.]])"
      ]
     },
     "execution_count": 21,
     "metadata": {},
     "output_type": "execute_result"
    }
   ],
   "source": [
    "np.eye(5)"
   ]
  },
  {
   "cell_type": "markdown",
   "id": "05e16397-2b29-4fe7-9a7f-940de3a57223",
   "metadata": {},
   "source": [
    "## Q3. Considering the following changes in the variable, array_list:\n",
    "array_list = np.array(object = list_, dtype = int)\n",
    "Will there be any difference in the data type of the elements present in both the variables, list_ and\n",
    "arra_list? If so then print the data types of each and every element present in both the variables, list_\n",
    "and arra_list."
   ]
  },
  {
   "cell_type": "code",
   "execution_count": null,
   "id": "21db76e1-f537-4f64-bdeb-12f683ad2701",
   "metadata": {},
   "outputs": [],
   "source": []
  }
 ],
 "metadata": {
  "kernelspec": {
   "display_name": "Python 3 (ipykernel)",
   "language": "python",
   "name": "python3"
  },
  "language_info": {
   "codemirror_mode": {
    "name": "ipython",
    "version": 3
   },
   "file_extension": ".py",
   "mimetype": "text/x-python",
   "name": "python",
   "nbconvert_exporter": "python",
   "pygments_lexer": "ipython3",
   "version": "3.10.8"
  }
 },
 "nbformat": 4,
 "nbformat_minor": 5
}
