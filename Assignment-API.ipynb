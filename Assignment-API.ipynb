{
 "cells": [
  {
   "cell_type": "markdown",
   "id": "51dde376-cbdd-46c6-91aa-ffaa82999a28",
   "metadata": {},
   "source": [
    "## Question-1 What is an API? Give an example, where an API is used in real life."
   ]
  },
  {
   "cell_type": "code",
   "execution_count": 1,
   "id": "c02e46f4-d220-4f45-a166-4bdc4b2ef4d1",
   "metadata": {},
   "outputs": [],
   "source": [
    "## API is the acronym for application programming interface — a software intermediary that allows two applications to talk to each other. APIs are an accessible way to extract and share data within and across organizations."
   ]
  },
  {
   "cell_type": "code",
   "execution_count": 2,
   "id": "06e119d8-ab7f-4834-8255-b889fdbeda70",
   "metadata": {},
   "outputs": [],
   "source": [
    "##  Example of API-Public API examples include social media bots, third-party login, e-commerce transactions, and weather apps. Private API examples include streaming services, ensuring media compatibility on various devices, and financial apps that connect different aspects of managing finances in a bank."
   ]
  },
  {
   "cell_type": "markdown",
   "id": "73797f01-4c92-4702-87d4-e4f56eaa2286",
   "metadata": {},
   "source": [
    "## Question-2 Give advantages and disadvantages of using API."
   ]
  },
  {
   "cell_type": "code",
   "execution_count": 3,
   "id": "2655724d-cd1b-4e30-907a-4e616318f516",
   "metadata": {},
   "outputs": [],
   "source": [
    "## Advantages of API:\n",
    "## 1.Increased efficiency: APIs allow different software systems to communicate and share data with each other, which can save time and resources.\n",
    "## 2.Greater flexibility: By using APIs, developers can build new features and applications without having to start from scratch, which allows for greater innovation and faster development.\n",
    "## 3.Easier integration: APIs make it easy for different systems to be integrated and work together, which can improve overall functionality."
   ]
  },
  {
   "cell_type": "code",
   "execution_count": 4,
   "id": "0b3b06ef-22f8-4cfd-8417-5389bdee1e74",
   "metadata": {},
   "outputs": [],
   "source": [
    "## Disadvantages of API:\n",
    "## 1.Security risks: APIs can be vulnerable to hacking and other security breaches, which can expose sensitive information.\n",
    "## 2.Dependency: If the API provider goes out of business or shuts down the API, it can be difficult for users to find an alternative solution.\n",
    "## 3.Limited access: Some APIs may have usage limits or access restrictions, which can be frustrating for developers and users.\n",
    "## 4.Complexity: APIs can be complex to use and implement, which can be a barrier for some developers."
   ]
  },
  {
   "cell_type": "markdown",
   "id": "189fb674-5d24-478e-b776-0aae501fb2d0",
   "metadata": {},
   "source": [
    "## Question-3: What is a Web API? Differentiate between API and Web API."
   ]
  },
  {
   "cell_type": "code",
   "execution_count": 5,
   "id": "1e7e6b42-ae63-404a-9271-5019e32bc1f6",
   "metadata": {},
   "outputs": [],
   "source": [
    "## A Web API (Application Programming Interface) allows you to serve data over the web, typically in JSON or XML format."
   ]
  },
  {
   "cell_type": "code",
   "execution_count": 6,
   "id": "14fe60c3-d671-44bf-9a55-9969cf8b8090",
   "metadata": {},
   "outputs": [],
   "source": [
    " ## An example is the PokéAPI (https://pokeapi.co/), which gives you access to a Pokemon database. "
   ]
  },
  {
   "cell_type": "code",
   "execution_count": 7,
   "id": "0c40c5d7-5fb8-4787-b480-28551c913803",
   "metadata": {},
   "outputs": [],
   "source": [
    "## API is the acronym for application programming interface — a software intermediary that allows two applications to talk to each other. APIs are an accessible way to extract and share data within and across organizations."
   ]
  },
  {
   "cell_type": "markdown",
   "id": "27091182-2375-4394-9f52-b9c4ed8ab7ab",
   "metadata": {},
   "source": [
    "## Question-4: Explain REST and SOAP Architecture. Mention shortcomings of SOAP."
   ]
  },
  {
   "cell_type": "code",
   "execution_count": 8,
   "id": "33308c3f-83ed-40a9-9118-3f7dbd5efd47",
   "metadata": {},
   "outputs": [],
   "source": [
    "## SOAP and REST are two different approaches to API design. The SOAP approach is highly structured and uses XML data format. REST is more flexible and allows applications to exchange data in multiple formats."
   ]
  },
  {
   "cell_type": "code",
   "execution_count": 9,
   "id": "3f386f3c-1e17-4ab2-9f7f-913b2d1f5a4a",
   "metadata": {},
   "outputs": [],
   "source": [
    "## The disadvantages of the SOAP protocols are: SOAP is used only XML format data in web service, whereas JSON and other lightweight formats are not supported by it. It is slow because it uses XML format, whereas the payload for a simple string message is large. There are no security features in the SOAP specification."
   ]
  },
  {
   "cell_type": "markdown",
   "id": "5ba05435-916f-4e52-82ca-5a0fd65f1117",
   "metadata": {},
   "source": [
    "## Question-5: Differentiate between REST and SOAP."
   ]
  },
  {
   "cell_type": "code",
   "execution_count": 10,
   "id": "01e22df3-5d59-4865-b17a-e14aa590f4e8",
   "metadata": {},
   "outputs": [],
   "source": [
    "## SOAP uses only XML for exchanging information in its message format whereas REST is not restricted to XML and its the choice of implementer which Media-Type to use like XML, JSON, Plain-text. Moreover, REST can use SOAP protocol but SOAP cannot use REST.SOAP is a protocol. REST is an architectural style. SOAP stands for Simple Object Access Protocol. REST stands for Representational State Transfer."
   ]
  },
  {
   "cell_type": "code",
   "execution_count": null,
   "id": "7f522ce7-822a-4285-80b5-a13206f92e19",
   "metadata": {},
   "outputs": [],
   "source": []
  }
 ],
 "metadata": {
  "kernelspec": {
   "display_name": "Python 3 (ipykernel)",
   "language": "python",
   "name": "python3"
  },
  "language_info": {
   "codemirror_mode": {
    "name": "ipython",
    "version": 3
   },
   "file_extension": ".py",
   "mimetype": "text/x-python",
   "name": "python",
   "nbconvert_exporter": "python",
   "pygments_lexer": "ipython3",
   "version": "3.10.8"
  }
 },
 "nbformat": 4,
 "nbformat_minor": 5
}
