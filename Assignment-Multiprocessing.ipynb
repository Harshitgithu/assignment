{
 "cells": [
  {
   "cell_type": "markdown",
   "id": "f3bb7654-306a-4e7a-a21f-49728480ac0b",
   "metadata": {},
   "source": [
    "## Question-1:What is multiprocessing in python? Why is it useful?"
   ]
  },
  {
   "cell_type": "code",
   "execution_count": 1,
   "id": "ebdf8948-dd18-4864-a111-0a2799ee27e8",
   "metadata": {},
   "outputs": [],
   "source": [
    "## Multiprocessing refers to running multiple processes simultaneously, which can be incredibly useful for speeding up your code and handling large datasets and tasks. For example, running an operation in parallel can divide a job into several smaller parts that can be processed simultaneously."
   ]
  },
  {
   "cell_type": "markdown",
   "id": "912d4496-e775-482b-8ea9-5238b6701fa1",
   "metadata": {},
   "source": [
    "## Question-2: What are the differences between multiprocessing and multithreading?"
   ]
  },
  {
   "cell_type": "code",
   "execution_count": 2,
   "id": "cc1abc56-f64d-45ab-a6f3-65d24f0590d2",
   "metadata": {},
   "outputs": [],
   "source": [
    "## Multiprocessing uses two or more CPUs to increase computing power, whereas multithreading uses a single process with multiple code segments to increase computing power. Multithreading focuses on generating computing threads from a single process, whereas multiprocessing increases computing power by adding CPUs."
   ]
  },
  {
   "cell_type": "markdown",
   "id": "361772e7-664a-4979-886a-6e65beb73d2d",
   "metadata": {},
   "source": [
    "## Question-3: Write a python code to create a process using the multiprocessing module."
   ]
  },
  {
   "cell_type": "code",
   "execution_count": 2,
   "id": "35bdded6-6cd9-40e6-bfaf-8f1e2ea42d4e",
   "metadata": {},
   "outputs": [],
   "source": [
    "import multiprocessing"
   ]
  },
  {
   "cell_type": "code",
   "execution_count": 4,
   "id": "4b50d4fd-f596-4774-a4ea-6044beb1e4a8",
   "metadata": {},
   "outputs": [
    {
     "name": "stdout",
     "output_type": "stream",
     "text": [
      "this is main program\n",
      "this is my multiprocessing\n"
     ]
    }
   ],
   "source": [
    "def test():\n",
    "    print(\"this is my multiprocessing\")\n",
    "if __name__==\"__main__\":\n",
    "    m=multiprocessing.Process(target=test)\n",
    "    print(\"this is main program\")\n",
    "    m.start()\n",
    "    m.join()\n"
   ]
  },
  {
   "cell_type": "markdown",
   "id": "3399c14a-5292-4748-84b8-eaee4ecc2bea",
   "metadata": {},
   "source": [
    "## Question-4: What is a multiprocessing pool in python? Why is it used?"
   ]
  },
  {
   "cell_type": "code",
   "execution_count": 5,
   "id": "03c82b04-85c6-4fc3-915a-6c4e30dec25a",
   "metadata": {},
   "outputs": [],
   "source": [
    "## Python multiprocessing Pool can be used for parallel execution of a function across multiple input values, distributing the input data across processes (data parallelism)."
   ]
  },
  {
   "cell_type": "code",
   "execution_count": 7,
   "id": "ef79dd5f-e337-4dcb-96df-d1a6a76b539c",
   "metadata": {},
   "outputs": [
    {
     "name": "stdout",
     "output_type": "stream",
     "text": [
      "[1, 4, 9, 16, 25]\n"
     ]
    }
   ],
   "source": [
    "## Example:\n",
    "import multiprocessing\n",
    "def square(n):\n",
    "    return n**2;\n",
    "if __name__==\"__main__\":\n",
    "    pool=multiprocessing.Pool(processes=4)\n",
    "    out=pool.map(square,[1,2,3,4,5])\n",
    "    print(out)\n",
    "    \n",
    "\n",
    "\n"
   ]
  },
  {
   "cell_type": "markdown",
   "id": "52a8a6e9-e344-4d8f-80e0-6e01fbcf2439",
   "metadata": {},
   "source": [
    "## Question-5: How can we create a pool of worker processes in python using the multiprocessing module?"
   ]
  },
  {
   "cell_type": "code",
   "execution_count": 8,
   "id": "60c51787-a2b3-46da-88ac-5558a78bda0a",
   "metadata": {},
   "outputs": [
    {
     "name": "stdout",
     "output_type": "stream",
     "text": [
      "[1, 4, 9, 16, 25]\n"
     ]
    }
   ],
   "source": [
    "import multiprocessing\n",
    "def square(n):\n",
    "    return n**2;\n",
    "if __name__==\"__main__\":\n",
    "    pool=multiprocessing.Pool(processes=4)\n",
    "    out=pool.map(square,[1,2,3,4,5])\n",
    "    print(out)\n",
    "    "
   ]
  },
  {
   "cell_type": "code",
   "execution_count": null,
   "id": "1ecc9478-dae8-479f-8545-dd737faf0523",
   "metadata": {},
   "outputs": [],
   "source": []
  }
 ],
 "metadata": {
  "kernelspec": {
   "display_name": "Python 3 (ipykernel)",
   "language": "python",
   "name": "python3"
  },
  "language_info": {
   "codemirror_mode": {
    "name": "ipython",
    "version": 3
   },
   "file_extension": ".py",
   "mimetype": "text/x-python",
   "name": "python",
   "nbconvert_exporter": "python",
   "pygments_lexer": "ipython3",
   "version": "3.10.8"
  }
 },
 "nbformat": 4,
 "nbformat_minor": 5
}
