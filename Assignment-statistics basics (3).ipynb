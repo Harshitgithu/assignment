{
 "cells": [
  {
   "cell_type": "markdown",
   "id": "78d848f4-bdac-4ecd-a618-c1671d624af8",
   "metadata": {},
   "source": [
    "## Question-1:what is statistics?"
   ]
  },
  {
   "cell_type": "code",
   "execution_count": 1,
   "id": "c76b2296-5dea-4409-ad8c-7a5aacc9c122",
   "metadata": {},
   "outputs": [],
   "source": [
    " ## statictics is the science of collecting ,organizing and analyzing data."
   ]
  },
  {
   "cell_type": "markdown",
   "id": "69323fe4-953c-499c-85c9-0169dc6a7a04",
   "metadata": {},
   "source": [
    "## Question-2 Define different type of statictics and give an example of each type."
   ]
  },
  {
   "cell_type": "code",
   "execution_count": 2,
   "id": "471dec64-0f65-4799-87e3-cc159fde5ba5",
   "metadata": {},
   "outputs": [],
   "source": [
    "## there are two types of statictics :\n",
    "## 1.descriptive statictics: it consist of organising and summarising data. example: for measuring average height of entire classroom. \n",
    "## 2.inferential staticticsit consists of using data you have measured to form conclusion. example:  are the height of the students in classroom similar to what you have except in the entire college.\n",
    "\n"
   ]
  },
  {
   "cell_type": "markdown",
   "id": "b2fe86bc-4a70-4d19-aac2-cb83f314e214",
   "metadata": {},
   "source": [
    "## Question-3: What are the different types of data and how do they differ from each other? Provide an example of each type of data."
   ]
  },
  {
   "cell_type": "code",
   "execution_count": 3,
   "id": "56355762-b775-4e30-9697-5cb541de03ad",
   "metadata": {},
   "outputs": [],
   "source": [
    "## there are two types of data mainly: 1.Qualitative 2.Quantitative\n",
    "## futher on Qualitative are of two types: 1.nominal 2.ordinal\n",
    "## Quantitative are also of two types: 1.discrete 2.continuos\n",
    "## nominal data are  categorical data  which are not ranked.\n",
    "## ordinal data is also categorical data which arranged according to the rank.\n",
    "## discrete data is data which have fixed value.for - number of bank account.\n",
    "## continuos data are those data which are not fixed. for example- weight. \n"
   ]
  },
  {
   "cell_type": "markdown",
   "id": "460b4a5e-01c1-4beb-b163-7e6fedeb89b1",
   "metadata": {},
   "source": [
    "## Q4. Categorise the following datasets with respect to quantitative and qualitative data types:\n",
    "## (i) Grading in exam: A+, A, B+, B, C+, C, D, E\n",
    "## (ii) Colour of mangoes: yellow, green, orange, red\n",
    "## (iii) Height data of a class: [178.9, 179, 179.5, 176, 177.2, 178.3, 175.8,...]\n",
    "## (iv) Number of mangoes exported by a farm: [500, 600, 478, 672, ...]"
   ]
  },
  {
   "cell_type": "code",
   "execution_count": 4,
   "id": "ff12cf9f-e40b-451d-ab00-87a759c5535e",
   "metadata": {},
   "outputs": [],
   "source": [
    "## i) : it is ordinal data .\n",
    "## ii) :it is nominal data.\n",
    "## iii) :it is continuos data.\n",
    "## iv) :it is discrete."
   ]
  },
  {
   "cell_type": "markdown",
   "id": "35ac7fbf-76c8-4e49-998d-e2b3298ddf30",
   "metadata": {},
   "source": [
    " ## Question-7: How nominal data type is different from ordinal data type."
   ]
  },
  {
   "cell_type": "code",
   "execution_count": 5,
   "id": "c2fed941-fd68-494b-99cb-d3d0d11a6319",
   "metadata": {},
   "outputs": [],
   "source": [
    "## The main differences between Nominal Data and Ordinal Data are: While Nominal Data is classified without any intrinsic ordering or rank, Ordinal Data has some predetermined or natural order."
   ]
  },
  {
   "cell_type": "markdown",
   "id": "e8f3ae98-ca80-4c2e-bef0-03b5d8551ab4",
   "metadata": {},
   "source": [
    "## Question-9: Describe the difference between descriptive and inferential statistics. Give an example of each type of statistics and explain how they are used."
   ]
  },
  {
   "cell_type": "code",
   "execution_count": 6,
   "id": "5722cdbe-3222-4688-beb0-a1ec879088fb",
   "metadata": {},
   "outputs": [],
   "source": [
    "## Descriptive statistics summarize and describe data, while inferential statistics draw conclusions and make predictions about populations based on sample data."
   ]
  },
  {
   "cell_type": "markdown",
   "id": "4dcd8e5d-22e3-49ae-bb5a-46f919eceb43",
   "metadata": {},
   "source": [
    "## Question-5:Explain the concept of levels of measurement and give an example of a variable for each level."
   ]
  },
  {
   "cell_type": "code",
   "execution_count": 1,
   "id": "55c259b4-301d-4e79-b838-135e063ad5d7",
   "metadata": {},
   "outputs": [],
   "source": [
    "## Levels of measurement, also called scales of measurement, tell you how precisely variables are recorded. In scientific research, a variable is anything that can take on different values across your data set (e.g., height or test scores)."
   ]
  },
  {
   "cell_type": "code",
   "execution_count": 2,
   "id": "1c1d4625-d652-48ed-8288-1976a2cf10c5",
   "metadata": {},
   "outputs": [],
   "source": [
    "## There are 4 levels of measurement:\n",
    "\n",
    "## Nominal: the data can only be categorized\n",
    "## Ordinal: the data can be categorized and ranked\n",
    "## Interval: the data can be categorized, ranked, and evenly spaced\n",
    "## Ratio: the data can be categorized, ranked, evenly spaced, and has a natural zero."
   ]
  },
  {
   "cell_type": "code",
   "execution_count": 4,
   "id": "e85b9d2b-8741-4a28-9a6b-3146b855ffea",
   "metadata": {},
   "outputs": [],
   "source": [
    "## Examples of nominal scale:\t\n",
    "## City of birth\n",
    "## Gender\n"
   ]
  },
  {
   "cell_type": "code",
   "execution_count": 5,
   "id": "bf4594e8-a8ce-44c7-b9dc-826eb4304563",
   "metadata": {},
   "outputs": [],
   "source": [
    "## example of  ordinal series :\n",
    "## 1) grades\n"
   ]
  },
  {
   "cell_type": "code",
   "execution_count": 6,
   "id": "08e7792d-d4c0-405f-9e39-9f5aa8f9f2cd",
   "metadata": {},
   "outputs": [],
   "source": [
    "## example of interval series:\n",
    "## 1) test score\n"
   ]
  },
  {
   "cell_type": "code",
   "execution_count": 7,
   "id": "4f521cae-0f0d-40ed-a568-33d49d5d6eb9",
   "metadata": {},
   "outputs": [],
   "source": [
    "## example of rato scale:\n",
    "## 1) Height"
   ]
  },
  {
   "cell_type": "markdown",
   "id": "7e9c9735-1fd9-4769-9d76-03ef5862b3f6",
   "metadata": {},
   "source": [
    "## Question-8: Which type of plot can be used to display data in terms of range?"
   ]
  },
  {
   "cell_type": "code",
   "execution_count": 8,
   "id": "d3feef01-e000-4eb6-b81b-71bf75570453",
   "metadata": {},
   "outputs": [],
   "source": [
    "## Histogram. If the groups depicted in a bar chart are actually continuous numeric ranges, we can push the bars together to generate a histogram. Bar lengths in histograms typically correspond to counts of data points, and their patterns demonstrate the distribution of variables in your data."
   ]
  },
  {
   "cell_type": "markdown",
   "id": "716dacdd-93d6-45c1-9acb-ed8e1aa1eb23",
   "metadata": {},
   "source": [
    "## Question-10  What are some common measures of central tendency and variability used in statistics? Explain how each measure can be used to describe a dataset."
   ]
  },
  {
   "cell_type": "code",
   "execution_count": 9,
   "id": "722d47fb-fbfc-458b-8a17-a8cc485b3ab1",
   "metadata": {},
   "outputs": [],
   "source": [
    "## Measures of central tendency tell us what is common or typical about our variable. Three measures of central tendency are the mode, the median and the mean. The mode is used almost exclusively with nominal-level data, as it is the only measure of central tendency available for such variables."
   ]
  },
  {
   "cell_type": "markdown",
   "id": "635e4910-b29f-4dc3-be72-ddf15618b19c",
   "metadata": {},
   "source": [
    "## Question-6 :Why is it important to understand the level of measurement when analyzing data? Provide an example to illustrate your answer."
   ]
  },
  {
   "cell_type": "code",
   "execution_count": 1,
   "id": "6a05368f-b43a-4ab4-8f73-88073c40d7be",
   "metadata": {},
   "outputs": [],
   "source": [
    "## It is important to understand the level of measurement of variables in research, because the level of measurement determines the type of statistical analysis that can be conducted, and, therefore, the type of conclusions that can be drawn from the research."
   ]
  },
  {
   "cell_type": "code",
   "execution_count": null,
   "id": "37ad66c0-f228-4654-a3c7-dc437b7bb940",
   "metadata": {},
   "outputs": [],
   "source": []
  }
 ],
 "metadata": {
  "kernelspec": {
   "display_name": "Python 3 (ipykernel)",
   "language": "python",
   "name": "python3"
  },
  "language_info": {
   "codemirror_mode": {
    "name": "ipython",
    "version": 3
   },
   "file_extension": ".py",
   "mimetype": "text/x-python",
   "name": "python",
   "nbconvert_exporter": "python",
   "pygments_lexer": "ipython3",
   "version": "3.10.8"
  }
 },
 "nbformat": 4,
 "nbformat_minor": 5
}
