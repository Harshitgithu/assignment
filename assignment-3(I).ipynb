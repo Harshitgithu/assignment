{
 "cells": [
  {
   "cell_type": "markdown",
   "id": "ba7e013e-d61e-4bc2-9e28-7239def77dcb",
   "metadata": {},
   "source": [
    "## Question-1 : which keyword is used to create funnction? create function to return list of odd numbers in range of 1 to 25."
   ]
  },
  {
   "cell_type": "markdown",
   "id": "316644f7-7894-400c-929b-bfd12fc5cb10",
   "metadata": {},
   "source": [
    "def keyword is used to define a function ,it is placed before a function namethat is provided by a user to create a user defined function."
   ]
  },
  {
   "cell_type": "code",
   "execution_count": 11,
   "id": "c76606f9-209c-4b3a-b0e0-bd7658524aa1",
   "metadata": {},
   "outputs": [],
   "source": [
    " def odd_number():\n",
    "    l=[]\n",
    "    for i in range(1,25):\n",
    "        if i%2!=0:\n",
    "            l.append(i)\n",
    "    return l"
   ]
  },
  {
   "cell_type": "code",
   "execution_count": 12,
   "id": "0b51a55a-f9c1-4387-920c-d1601c8778fe",
   "metadata": {},
   "outputs": [
    {
     "data": {
      "text/plain": [
       "[1, 3, 5, 7, 9, 11, 13, 15, 17, 19, 21, 23]"
      ]
     },
     "execution_count": 12,
     "metadata": {},
     "output_type": "execute_result"
    }
   ],
   "source": [
    " odd_number()"
   ]
  },
  {
   "cell_type": "markdown",
   "id": "389b4a57-cb4c-4bb1-9706-2f25ed068c0e",
   "metadata": {},
   "source": [
    "## Question-2: why *args and **kwargs used in some function ? create a function each for *args and **kwargs."
   ]
  },
  {
   "cell_type": "markdown",
   "id": "e39be9bc-0a6e-4233-8f06-518558fdb236",
   "metadata": {},
   "source": [
    "we can use*args **kwargs as a argument of function when we are unsure about number of arguments passed in funcion.\n",
    " the args stand for argument passed in function whereas kwargs stand for keyword argument passed in a function along with the values ."
   ]
  },
  {
   "cell_type": "code",
   "execution_count": 14,
   "id": "5337f440-40df-4a92-a21e-b5b8bc374496",
   "metadata": {},
   "outputs": [],
   "source": [
    "def test14(*args,a):\n",
    "    return args,a\n",
    "    "
   ]
  },
  {
   "cell_type": "code",
   "execution_count": 15,
   "id": "49710dff-a787-4c44-b245-2f22beb354df",
   "metadata": {},
   "outputs": [
    {
     "data": {
      "text/plain": [
       "((1, 2, 3, 4, 5), 13)"
      ]
     },
     "execution_count": 15,
     "metadata": {},
     "output_type": "execute_result"
    }
   ],
   "source": [
    "test14(1,2,3,4,5,a=13)"
   ]
  },
  {
   "cell_type": "code",
   "execution_count": 17,
   "id": "35b4db25-1724-427d-a701-53d36d9f4a9a",
   "metadata": {},
   "outputs": [],
   "source": [
    "def test16(**kwargs):\n",
    "    return kwargs"
   ]
  },
  {
   "cell_type": "code",
   "execution_count": 19,
   "id": "aeb6aef6-c4b4-48f3-b037-8b987d862d1b",
   "metadata": {},
   "outputs": [
    {
     "data": {
      "text/plain": [
       "{'a': [1, 3, 2, 4, 5, 6], 'b': 'Harshit'}"
      ]
     },
     "execution_count": 19,
     "metadata": {},
     "output_type": "execute_result"
    }
   ],
   "source": [
    "test16(a=[1,3,2,4,5,6],b=\"Harshit\")"
   ]
  },
  {
   "cell_type": "markdown",
   "id": "27eae124-907c-41ad-8097-991e7e30d22a",
   "metadata": {},
   "source": [
    "## Question-4 what is generator function? why yield keyword is used ? give example."
   ]
  },
  {
   "cell_type": "markdown",
   "id": "8d184187-916a-47f5-9733-f67764229f1d",
   "metadata": {},
   "source": [
    "a function that return an iterator that produces a sequence of value when iterated over. generators are usefulwe want to produce a large sequence of values ."
   ]
  },
  {
   "cell_type": "markdown",
   "id": "5dc1d2bf-35fb-49fe-abeb-8e1c273d6195",
   "metadata": {},
   "source": [
    "yield keyword is used to create generator ."
   ]
  },
  {
   "cell_type": "code",
   "execution_count": 21,
   "id": "8fee6b0a-0172-4fac-96e8-4b47d1b510ca",
   "metadata": {},
   "outputs": [],
   "source": [
    "def fib(n):\n",
    "    a,b=0,1\n",
    "    for i in range(n):\n",
    "        yield a\n",
    "        a,b=b,a+b"
   ]
  },
  {
   "cell_type": "code",
   "execution_count": 22,
   "id": "2610f302-2c3f-49d9-ad14-319128f5d7f1",
   "metadata": {},
   "outputs": [
    {
     "data": {
      "text/plain": [
       "<generator object fib at 0x7f97b4578dd0>"
      ]
     },
     "execution_count": 22,
     "metadata": {},
     "output_type": "execute_result"
    }
   ],
   "source": [
    "fib(6)"
   ]
  },
  {
   "cell_type": "code",
   "execution_count": 23,
   "id": "189fdbf4-c4de-4efd-93db-54e9b16caa5c",
   "metadata": {},
   "outputs": [
    {
     "name": "stdout",
     "output_type": "stream",
     "text": [
      "0\n",
      "1\n",
      "1\n",
      "2\n",
      "3\n",
      "5\n"
     ]
    }
   ],
   "source": [
    "for i in fib(6):\n",
    "    print(i)"
   ]
  },
  {
   "cell_type": "markdown",
   "id": "c57b8861-09d6-467c-84f6-d05b575003fc",
   "metadata": {},
   "source": [
    "## Question-7:write a list comprehension to iterate through given string-\"pwskills\".\n"
   ]
  },
  {
   "cell_type": "code",
   "execution_count": 24,
   "id": "12c3bb29-ab82-43e5-abd3-d62fd4710ef7",
   "metadata": {},
   "outputs": [],
   "source": [
    "s=\"pwskills\""
   ]
  },
  {
   "cell_type": "code",
   "execution_count": 32,
   "id": "a2fab3b5-566c-4660-981c-06f9bdb88f42",
   "metadata": {},
   "outputs": [],
   "source": [
    "a=list(map(lambda s:s.upper(),s))"
   ]
  },
  {
   "cell_type": "code",
   "execution_count": 33,
   "id": "2d377ff9-e82d-4822-a49f-941588607b29",
   "metadata": {},
   "outputs": [
    {
     "data": {
      "text/plain": [
       "['P', 'W', 'S', 'K', 'I', 'L', 'L', 'S']"
      ]
     },
     "execution_count": 33,
     "metadata": {},
     "output_type": "execute_result"
    }
   ],
   "source": [
    "a"
   ]
  },
  {
   "cell_type": "markdown",
   "id": "a1ea9c74-e5d9-4dad-af43-b7a65d70a6ec",
   "metadata": {},
   "source": [
    "## Question-6: write a python program to print first 10 fibonacci numbers using while loop."
   ]
  },
  {
   "cell_type": "code",
   "execution_count": 46,
   "id": "d5cb4176-4b73-44e7-9627-b188ed58ac05",
   "metadata": {},
   "outputs": [],
   "source": [
    "def test14():\n",
    "    a,b=0,1\n",
    "    while True:\n",
    "        yield a \n",
    "        a,b=b,a+b\n",
    "    "
   ]
  },
  {
   "cell_type": "code",
   "execution_count": 47,
   "id": "9dffc78c-ec2f-4425-9079-248bb13ee73c",
   "metadata": {},
   "outputs": [],
   "source": [
    "fib=test14()"
   ]
  },
  {
   "cell_type": "code",
   "execution_count": 48,
   "id": "33de07a7-a345-40aa-9d27-5f6bc0a12904",
   "metadata": {},
   "outputs": [
    {
     "name": "stdout",
     "output_type": "stream",
     "text": [
      "0\n",
      "1\n",
      "1\n",
      "2\n",
      "3\n",
      "5\n",
      "8\n",
      "13\n",
      "21\n",
      "34\n"
     ]
    }
   ],
   "source": [
    "for i in range(10):\n",
    "    print(next(fib))"
   ]
  },
  {
   "cell_type": "markdown",
   "id": "7bf7bbde-ae9c-4701-873b-3e3515f5666a",
   "metadata": {},
   "source": [
    "## Question-9: write a code to print odd numbers between 1 to 100."
   ]
  },
  {
   "cell_type": "code",
   "execution_count": 60,
   "id": "ea133356-df82-4b36-bb22-b3163a799428",
   "metadata": {},
   "outputs": [],
   "source": [
    "def test_12():\n",
    "    l=[]\n",
    "    for i in range(2,100):\n",
    "        if i%2!=0:\n",
    "            l.append(i)\n",
    "    return l"
   ]
  },
  {
   "cell_type": "code",
   "execution_count": 61,
   "id": "767a5f42-2d3d-43e8-b397-be1ed6f46df7",
   "metadata": {},
   "outputs": [
    {
     "data": {
      "text/plain": [
       "[3,\n",
       " 5,\n",
       " 7,\n",
       " 9,\n",
       " 11,\n",
       " 13,\n",
       " 15,\n",
       " 17,\n",
       " 19,\n",
       " 21,\n",
       " 23,\n",
       " 25,\n",
       " 27,\n",
       " 29,\n",
       " 31,\n",
       " 33,\n",
       " 35,\n",
       " 37,\n",
       " 39,\n",
       " 41,\n",
       " 43,\n",
       " 45,\n",
       " 47,\n",
       " 49,\n",
       " 51,\n",
       " 53,\n",
       " 55,\n",
       " 57,\n",
       " 59,\n",
       " 61,\n",
       " 63,\n",
       " 65,\n",
       " 67,\n",
       " 69,\n",
       " 71,\n",
       " 73,\n",
       " 75,\n",
       " 77,\n",
       " 79,\n",
       " 81,\n",
       " 83,\n",
       " 85,\n",
       " 87,\n",
       " 89,\n",
       " 91,\n",
       " 93,\n",
       " 95,\n",
       " 97,\n",
       " 99]"
      ]
     },
     "execution_count": 61,
     "metadata": {},
     "output_type": "execute_result"
    }
   ],
   "source": [
    "test_12()"
   ]
  },
  {
   "cell_type": "markdown",
   "id": "177b9114-d42c-4635-912b-f46f7b886601",
   "metadata": {},
   "source": [
    "## Question-8: write a python program  to find whether a string is palindrome or not."
   ]
  },
  {
   "cell_type": "code",
   "execution_count": 2,
   "id": "141135cf-54a9-442c-956b-1262af5514b7",
   "metadata": {},
   "outputs": [],
   "source": [
    "def ispalindrome(s):\n",
    "    if(s==s[::-1]):\n",
    "        return \"The string is palindrome\"\n",
    "    else:\n",
    "        return \"The string is not palindrome\""
   ]
  },
  {
   "cell_type": "code",
   "execution_count": 3,
   "id": "be6b446e-43fe-45f9-8ba8-858956a642ac",
   "metadata": {},
   "outputs": [
    {
     "data": {
      "text/plain": [
       "'The string is palindrome'"
      ]
     },
     "execution_count": 3,
     "metadata": {},
     "output_type": "execute_result"
    }
   ],
   "source": [
    "ispalindrome(\"malayalam\")"
   ]
  },
  {
   "cell_type": "markdown",
   "id": "1022c08c-9ea0-4c26-b032-e79b8efa1c91",
   "metadata": {},
   "source": [
    "## Question-3: what is iterator in python? name method to initialise iterator object and method used for iteration.use these methods to print first five elements of given list."
   ]
  },
  {
   "cell_type": "markdown",
   "id": "f57ebbb3-206a-4e4c-8cb3-3c7702351042",
   "metadata": {},
   "source": [
    "an iterator in python is an object that is used to iterate over iterable objects like list,tuples,dicts,and sets.the python iterators object is initialized using the iter() method.it uses next() method for iteration . the next method next value for iterable. "
   ]
  },
  {
   "cell_type": "code",
   "execution_count": 25,
   "id": "f7649817-3376-4628-b7cd-018991b5505e",
   "metadata": {},
   "outputs": [],
   "source": [
    "l=[2,4,6,8,10,12,14,16,18,20]"
   ]
  },
  {
   "cell_type": "code",
   "execution_count": 26,
   "id": "c559fc12-8d78-4c51-b24b-45fdc09724df",
   "metadata": {},
   "outputs": [],
   "source": [
    "l1=iter(l)"
   ]
  },
  {
   "cell_type": "code",
   "execution_count": 28,
   "id": "7e3aa42a-abcb-465b-9103-9637879123a1",
   "metadata": {},
   "outputs": [
    {
     "name": "stdout",
     "output_type": "stream",
     "text": [
      "4\n",
      "6\n",
      "8\n",
      "10\n",
      "12\n"
     ]
    }
   ],
   "source": [
    "i=1\n",
    "n=5\n",
    "while i<=n:\n",
    "    print(next(l1))\n",
    "    i=i+1\n",
    "    "
   ]
  },
  {
   "cell_type": "markdown",
   "id": "19e16b05-b320-43a8-ad2c-b76f1aa66024",
   "metadata": {},
   "source": [
    "## Question-5 create a generator function for prime number less than 1000.use next() method to print first 20 prime numbers."
   ]
  },
  {
   "cell_type": "code",
   "execution_count": 5,
   "id": "ea7bc6be-f602-4f1f-b216-3640ceaa4120",
   "metadata": {},
   "outputs": [],
   "source": [
    "def get_prime(n):\n",
    "    i=2\n",
    "    while i<n:\n",
    "        prime=True\n",
    "        for a in range(2,i):\n",
    "            if a%i==0:\n",
    "                prime=False\n",
    "                break\n",
    "            if prime:\n",
    "                yield i \n",
    "                i=i+1"
   ]
  },
  {
   "cell_type": "code",
   "execution_count": 6,
   "id": "5d468ba5-53b4-4842-8109-e56e5411f12f",
   "metadata": {},
   "outputs": [
    {
     "data": {
      "text/plain": [
       "<generator object get_prime at 0x7f582c706e30>"
      ]
     },
     "execution_count": 6,
     "metadata": {},
     "output_type": "execute_result"
    }
   ],
   "source": [
    " get_prime(1000)"
   ]
  },
  {
   "cell_type": "code",
   "execution_count": null,
   "id": "8060187d-3275-449f-aae0-1a2d8864910f",
   "metadata": {},
   "outputs": [],
   "source": [
    "for l in  get_prime(1000):\n",
    "    print(l)"
   ]
  },
  {
   "cell_type": "code",
   "execution_count": null,
   "id": "b79dcc6e-4a10-476e-9f23-ff094ce7f73f",
   "metadata": {},
   "outputs": [],
   "source": []
  }
 ],
 "metadata": {
  "kernelspec": {
   "display_name": "Python 3 (ipykernel)",
   "language": "python",
   "name": "python3"
  },
  "language_info": {
   "codemirror_mode": {
    "name": "ipython",
    "version": 3
   },
   "file_extension": ".py",
   "mimetype": "text/x-python",
   "name": "python",
   "nbconvert_exporter": "python",
   "pygments_lexer": "ipython3",
   "version": "3.10.8"
  }
 },
 "nbformat": 4,
 "nbformat_minor": 5
}
