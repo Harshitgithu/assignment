{
 "cells": [
  {
   "cell_type": "markdown",
   "id": "190cd5a4-7828-4fb3-a276-4f18d1e159e7",
   "metadata": {},
   "source": [
    "## Question-1 :Calculate the 95% confidence interval for a sample of data with a mean of 50 and a standard deviation of 5 using Python. Interpret the results."
   ]
  },
  {
   "cell_type": "code",
   "execution_count": 1,
   "id": "492785d1-f5d3-4433-b04d-b8512fde262b",
   "metadata": {},
   "outputs": [
    {
     "name": "stdout",
     "output_type": "stream",
     "text": [
      "Sample Mean: 50\n",
      "Standard Deviation: 5\n",
      "Sample Size: 30\n",
      "Confidence Level: 0.95\n",
      "Margin of Error: 1.8670306837904995\n",
      "95% Confidence Interval: (48.1329693162095, 51.8670306837905)\n"
     ]
    }
   ],
   "source": [
    "import scipy.stats as stats\n",
    "\n",
    "# Sample data\n",
    "mean = 50\n",
    "std_dev = 5\n",
    "sample_size = 30  # You need to replace this with your actual sample size\n",
    "\n",
    "# Confidence level\n",
    "confidence_level = 0.95\n",
    "\n",
    "# Calculate the standard error of the mean\n",
    "standard_error = std_dev / (sample_size ** 0.5)\n",
    "\n",
    "# Calculate the degrees of freedom for a t-distribution\n",
    "degrees_of_freedom = sample_size - 1\n",
    "\n",
    "# Calculate the margin of error\n",
    "margin_of_error = stats.t.ppf((1 + confidence_level) / 2, degrees_of_freedom) * standard_error\n",
    "\n",
    "# Calculate the confidence interval\n",
    "confidence_interval = stats.t.interval(confidence_level, degrees_of_freedom, mean, standard_error)\n",
    "\n",
    "# Print the results\n",
    "print(f\"Sample Mean: {mean}\")\n",
    "print(f\"Standard Deviation: {std_dev}\")\n",
    "print(f\"Sample Size: {sample_size}\")\n",
    "print(f\"Confidence Level: {confidence_level}\")\n",
    "print(f\"Margin of Error: {margin_of_error}\")\n",
    "print(f\"95% Confidence Interval: {confidence_interval}\")"
   ]
  },
  {
   "cell_type": "markdown",
   "id": "00422a7f-ac90-4c37-b7aa-4c76a1e7d34e",
   "metadata": {},
   "source": [
    "## Question-2 :Conduct a chi-square goodness of fit test to determine if the distribution of colors of M&Ms in a bag matches the expected distribution of 20% blue, 20% orange, 20% green, 10% yellow, 10% red, and 20% brown. Use Python to perform the test with a significance level of 0.05."
   ]
  },
  {
   "cell_type": "code",
   "execution_count": 2,
   "id": "64e61a9d-a6c7-4f36-8124-ba0caccb5a46",
   "metadata": {},
   "outputs": [
    {
     "name": "stdout",
     "output_type": "stream",
     "text": [
      "Chi-square Statistic: 3.9583333333333335\n",
      "P-value: 0.5554304329530974\n",
      "Fail to reject the null hypothesis. The distribution of colors is not significantly different from the expected distribution.\n"
     ]
    }
   ],
   "source": [
    "import numpy as np\n",
    "from scipy.stats import chisquare\n",
    "\n",
    "# Observed frequencies of colors in the M&Ms bag\n",
    "observed_frequencies = np.array([30, 25, 20, 15, 10, 20])  # Replace with your actual observed frequencies\n",
    "\n",
    "# Expected frequencies based on the given distribution\n",
    "expected_frequencies = np.array([0.2, 0.2, 0.2, 0.1, 0.1, 0.2]) * np.sum(observed_frequencies)\n",
    "\n",
    "# Perform the chi-square goodness of fit test\n",
    "chi2_stat, p_value = chisquare(f_obs=observed_frequencies, f_exp=expected_frequencies)\n",
    "\n",
    "# Print the results\n",
    "print(f\"Chi-square Statistic: {chi2_stat}\")\n",
    "print(f\"P-value: {p_value}\")\n",
    "\n",
    "# Check for significance at a 0.05 level\n",
    "alpha = 0.05\n",
    "if p_value < alpha:\n",
    "    print(\"Reject the null hypothesis. The distribution of colors is significantly different from the expected distribution.\")\n",
    "else:\n",
    "    print(\"Fail to reject the null hypothesis. The distribution of colors is not significantly different from the expected distribution.\")"
   ]
  },
  {
   "cell_type": "markdown",
   "id": "54f4176d-d189-4d3e-a36b-ffb2c5fc34fa",
   "metadata": {},
   "source": [
    "## Question-3 :Use Python to calculate the chi-square statistic and p-value for a contingency table with the following data:"
   ]
  },
  {
   "cell_type": "code",
   "execution_count": 4,
   "id": "86435c0f-d13e-45f0-ba6d-980e08569342",
   "metadata": {},
   "outputs": [
    {
     "name": "stdout",
     "output_type": "stream",
     "text": [
      "Chi-square Statistic: 5.833333333333334\n",
      "P-value: 0.05411376622282158\n",
      "Degrees of Freedom: 2\n",
      "Expected Frequencies:\n",
      "[[15. 20.]\n",
      " [15. 20.]\n",
      " [15. 20.]]\n"
     ]
    }
   ],
   "source": [
    "import numpy as np\n",
    "from scipy.stats import chi2_contingency\n",
    "\n",
    "# Contingency table data\n",
    "data = np.array([[20, 15],\n",
    "                 [10, 25],\n",
    "                 [15, 20]])\n",
    "\n",
    "# Perform the chi-square test for independence\n",
    "chi2_stat, p_value, dof, expected = chi2_contingency(data)\n",
    "\n",
    "# Print the results\n",
    "print(f\"Chi-square Statistic: {chi2_stat}\")\n",
    "print(f\"P-value: {p_value}\")\n",
    "print(f\"Degrees of Freedom: {dof}\")\n",
    "print(\"Expected Frequencies:\")\n",
    "print(expected)"
   ]
  },
  {
   "cell_type": "markdown",
   "id": "d729ba70-57c5-48e9-ba49-5b0c988c6ba5",
   "metadata": {},
   "source": [
    "## Question-4 :A study of the prevalence of smoking in a population of 500 individuals found that 60 individuals smoked. Use Python to calculate the 95% confidence interval for the true proportion of individuals in the population who smoke."
   ]
  },
  {
   "cell_type": "code",
   "execution_count": null,
   "id": "3d3f3ec6-d33d-4725-ab94-a517f3229c1f",
   "metadata": {},
   "outputs": [],
   "source": [
    "import statsmodels.api as sm\n",
    "import numpy as np\n",
    "\n",
    "# Sample size and number of individuals who smoke\n",
    "n = 500\n",
    "x = 60\n",
    "\n",
    "# Calculate the sample proportion\n",
    "p_hat = x / n\n",
    "\n",
    "# Calculate the standard error of the proportion\n",
    "standard_error = np.sqrt((p_hat * (1 - p_hat)) / n)\n",
    "\n",
    "# Set the confidence level\n",
    "confidence_level = 0.95\n",
    "\n",
    "# Calculate the margin of error\n",
    "margin_of_error = sm.stats.proportion.proportion_confint(x, n, alpha=1-confidence_level, method='normal') - p_hat\n",
    "\n",
    "# Calculate the confidence interval\n",
    "confidence_interval = [p_hat - margin_of_error[0], p_hat + margin_of_error[1]]\n",
    "\n",
    "# Print the results\n",
    "print(f\"Sample Proportion: {p_hat}\")\n",
    "print(f\"Margin of Error: {margin_of_error[0]}\")\n",
    "print(f\"95% Confidence Interval: {confidence_interval}\")"
   ]
  },
  {
   "cell_type": "markdown",
   "id": "bd2f2b6d-728a-4d08-9835-b3d8cb05274f",
   "metadata": {},
   "source": [
    "## Question-5 :Calculate the 90% confidence interval for a sample of data with a mean of 75 and a standard deviation of 12 using Python. Interpret the results."
   ]
  },
  {
   "cell_type": "code",
   "execution_count": 6,
   "id": "993bd7d2-e963-4f35-b2e4-b17faa22d6bf",
   "metadata": {},
   "outputs": [
    {
     "name": "stdout",
     "output_type": "stream",
     "text": [
      "Sample Mean: 75\n",
      "Standard Deviation: 12\n",
      "Sample Size: 30\n",
      "Confidence Level: 0.9\n",
      "Margin of Error: 3.7226008019963013\n",
      "90% Confidence Interval: (71.27739919800369, 78.72260080199631)\n"
     ]
    }
   ],
   "source": [
    "import scipy.stats as stats\n",
    "\n",
    "# Sample data\n",
    "mean = 75\n",
    "std_dev = 12\n",
    "sample_size = 30  # You need to replace this with your actual sample size\n",
    "\n",
    "# Confidence level\n",
    "confidence_level = 0.90\n",
    "\n",
    "# Calculate the standard error of the mean\n",
    "standard_error = std_dev / (sample_size ** 0.5)\n",
    "\n",
    "# Calculate the margin of error\n",
    "margin_of_error = stats.t.ppf((1 + confidence_level) / 2, sample_size - 1) * standard_error\n",
    "\n",
    "# Calculate the confidence interval\n",
    "confidence_interval = (mean - margin_of_error, mean + margin_of_error)\n",
    "\n",
    "# Print the results\n",
    "print(f\"Sample Mean: {mean}\")\n",
    "print(f\"Standard Deviation: {std_dev}\")\n",
    "print(f\"Sample Size: {sample_size}\")\n",
    "print(f\"Confidence Level: {confidence_level}\")\n",
    "print(f\"Margin of Error: {margin_of_error}\")\n",
    "print(f\"90% Confidence Interval: {confidence_interval}\")"
   ]
  },
  {
   "cell_type": "markdown",
   "id": "4e5f7228-22d6-4511-bffe-1a07abea7687",
   "metadata": {},
   "source": [
    "## Question-6 :Use Python to plot the chi-square distribution with 10 degrees of freedom. Label the axes and shade the area corresponding to a chi-square statistic of 15."
   ]
  },
  {
   "cell_type": "code",
   "execution_count": 7,
   "id": "ffe567b9-6750-480f-bfa0-73efaf0ff759",
   "metadata": {},
   "outputs": [
    {
     "data": {
      "image/png": "[encoded data removed]",
      "text/plain": [
       "<Figure size 640x480 with 1 Axes>"
      ]
     },
     "metadata": {},
     "output_type": "display_data"
    }
   ],
   "source": [
    "import numpy as np\n",
    "import matplotlib.pyplot as plt\n",
    "import scipy.stats as stats\n",
    "\n",
    "# Degrees of freedom\n",
    "df = 10\n",
    "\n",
    "# Create a range of chi-square values\n",
    "x = np.linspace(0, 30, 1000)\n",
    "\n",
    "# Plot the chi-square distribution\n",
    "plt.plot(x, stats.chi2.pdf(x, df), label=f'Chi-square Distribution (df={df})')\n",
    "\n",
    "# Shade the area corresponding to a chi-square statistic of 15\n",
    "x_fill = np.linspace(0, 15, 100)\n",
    "plt.fill_between(x_fill, stats.chi2.pdf(x_fill, df), alpha=0.3, color='orange', label='Area for Chi-square = 15')\n",
    "\n",
    "# Label the axes\n",
    "plt.xlabel('Chi-square Value')\n",
    "plt.ylabel('Probability Density Function (PDF)')\n",
    "plt.title(f'Chi-square Distribution with {df} Degrees of Freedom')\n",
    "\n",
    "# Add a legend\n",
    "plt.legend()\n",
    "\n",
    "# Show the plot\n",
    "plt.show()"
   ]
  },
  {
   "cell_type": "markdown",
   "id": "5bd88748-dc74-4f55-ba2d-63bfab1a0f26",
   "metadata": {},
   "source": [
    "## Question-7 :A random sample of 1000 people was asked if they preferred Coke or Pepsi. Of the sample, 520 preferred Coke. Calculate a 99% confidence interval for the true proportion of people in the population who prefer Coke."
   ]
  },
  {
   "cell_type": "code",
   "execution_count": 8,
   "id": "d26d3ae0-8460-492e-862f-2e2b4034d994",
   "metadata": {},
   "outputs": [
    {
     "name": "stdout",
     "output_type": "stream",
     "text": [
      "Sample Proportion: 0.52\n",
      "Margin of Error: 0.040694842322030134\n",
      "99% Confidence Interval: (0.4793051576779699, 0.5606948423220302)\n"
     ]
    }
   ],
   "source": [
    "import scipy.stats as stats\n",
    "import math\n",
    "\n",
    "# Sample information\n",
    "sample_size = 1000\n",
    "prefer_coke = 520\n",
    "sample_proportion = prefer_coke / sample_size\n",
    "\n",
    "# Confidence level\n",
    "confidence_level = 0.99\n",
    "\n",
    "# Calculate the standard error of the proportion\n",
    "standard_error = math.sqrt((sample_proportion * (1 - sample_proportion)) / sample_size)\n",
    "\n",
    "# Calculate the critical value (Z)\n",
    "z_critical = stats.norm.ppf((1 + confidence_level) / 2)\n",
    "\n",
    "# Calculate the margin of error\n",
    "margin_of_error = z_critical * standard_error\n",
    "\n",
    "# Calculate the confidence interval\n",
    "confidence_interval = (sample_proportion - margin_of_error, sample_proportion + margin_of_error)\n",
    "\n",
    "# Print the results\n",
    "print(f\"Sample Proportion: {sample_proportion}\")\n",
    "print(f\"Margin of Error: {margin_of_error}\")\n",
    "print(f\"99% Confidence Interval: {confidence_interval}\")"
   ]
  },
  {
   "cell_type": "markdown",
   "id": "f221de5f-9e2c-42f1-a7cf-04d705de23c1",
   "metadata": {},
   "source": [
    "## Question-8 :A study was conducted to determine if there is an association between smoking status (smoker or\n",
    "non-smoker) and lung cancer diagnosis (yes or no). The results are shown in the contingency table below.\n",
    "Conduct a chi-square test for independence to determine if there is a significant association between\n",
    "smoking status and lung cancer diagnosis.\n",
    "\n",
    "Use a significance level of 0.05.\n",
    "Group A\n",
    "\n",
    "Outcome 1 20 15\n",
    "Outcome 2 10 25\n",
    "Outcome 3 15 20\n",
    "Group B\n",
    "\n",
    "Lung Cancer: Yes\n",
    "\n",
    "Smoker 60 140\n",
    "Non-smoker 30 170\n",
    "Lung Cancer: No"
   ]
  },
  {
   "cell_type": "code",
   "execution_count": 10,
   "id": "f83f1153-9516-451b-ab61-5719681d02c8",
   "metadata": {},
   "outputs": [
    {
     "name": "stdout",
     "output_type": "stream",
     "text": [
      "Chi-square Statistic: 36.37834262834262\n",
      "P-value: 2.4187973713603094e-07\n",
      "Degrees of Freedom: 4\n",
      "Expected Frequencies:\n",
      "[[  9.35643564  25.64356436]\n",
      " [  9.35643564  25.64356436]\n",
      " [  9.35643564  25.64356436]\n",
      " [ 53.46534653 146.53465347]\n",
      " [ 53.46534653 146.53465347]]\n"
     ]
    }
   ],
   "source": [
    "import numpy as np\n",
    "from scipy.stats import chi2_contingency\n",
    "\n",
    "# Create the contingency table\n",
    "data = np.array([[20, 15],\n",
    "                 [10, 25],\n",
    "                 [15, 20],\n",
    "                 [60, 140],\n",
    "                 [30, 170]])\n",
    "\n",
    "# Perform the chi-square test for independence\n",
    "chi2_stat, p_value, dof, expected = chi2_contingency(data)\n",
    "\n",
    "# Print the results\n",
    "print(f\"Chi-square Statistic: {chi2_stat}\")\n",
    "print(f\"P-value: {p_value}\")\n",
    "print(f\"Degrees of Freedom: {dof}\")\n",
    "print(\"Expected Frequencies:\")\n",
    "print(expected)"
   ]
  },
  {
   "cell_type": "markdown",
   "id": "3700fcc9-210c-494c-9152-218c5fd8afee",
   "metadata": {},
   "source": [
    "## Question-9 :A random sample of 30 people was selected from a population with an unknown mean and standard deviation. The sample mean was found to be 72 and the sample standard deviation was found to be 10. Conduct a hypothesis test to determine if the population mean is significantly different from 70. Use a significance level of 0.05."
   ]
  },
  {
   "cell_type": "code",
   "execution_count": null,
   "id": "b7137ef2-9e98-42dc-87c8-0336e2e62a18",
   "metadata": {},
   "outputs": [],
   "source": [
    "To conduct a hypothesis test for the population mean, you can use the t-test since the population standard deviation is unknown. Here are the steps:\n",
    "\n",
    "Formulate the Hypotheses:\n",
    "\n",
    "Null Hypothesis (H₀): The population mean is equal to 70 (μ = 70).\n",
    "Alternative Hypothesis (H₁): The population mean is significantly different from 70 (μ ≠ 70).\n",
    "Mathematically:\n",
    "\n",
    "H₀: μ = 70\n",
    "H₁: μ ≠ 70\n",
    "Set the Significance Level (α):\n",
    "\n",
    "Given a significance level of 0.05, this means you want to be 95% confident in your results.\n",
    "Calculate the Test Statistic:\n",
    "\n",
    "The formula for the t-test statistic is given by:\n",
    "�\n",
    "=\n",
    "�\n",
    "ˉ\n",
    "−\n",
    "�\n",
    "�\n",
    "/\n",
    "�\n",
    "t= \n",
    "s/ \n",
    "n\n",
    "​\n",
    " \n",
    "X\n",
    "ˉ\n",
    " −μ\n",
    "​\n",
    " \n",
    "where \n",
    "�\n",
    "ˉ\n",
    "X\n",
    "ˉ\n",
    "  is the sample mean, \n",
    "�\n",
    "μ is the population mean under the null hypothesis, \n",
    "�\n",
    "s is the sample standard deviation, and \n",
    "�\n",
    "n is the sample size.\n",
    "\n",
    "Substitute the given values:\n",
    "�\n",
    "=\n",
    "72\n",
    "−\n",
    "70\n",
    "10\n",
    "/\n",
    "30\n",
    "t= \n",
    "10/ \n",
    "30\n",
    "​\n",
    " \n",
    "72−70\n",
    "​\n",
    " \n",
    "\n",
    "Determine the Critical Region:\n",
    "\n",
    "Since it's a two-tailed test (significantly different from 70, not just greater or smaller), you need to find the critical t-values at the 0.025 level for both tails.\n",
    "Make a Decision:\n",
    "\n",
    "If the calculated t-statistic falls into the critical region, reject the null hypothesis. Otherwise, fail to reject the null hypothesis.\n",
    "Interpret the Results:\n",
    "\n",
    "If you reject the null hypothesis, you can conclude that there is enough evidence to suggest that the population mean is significantly different from 70.\n",
    "Please note that you can use statistical software or t-tables to find the critical t-values and perform the calculations. The degrees of freedom for the t-distribution will be \n",
    "�\n",
    "−\n",
    "1\n",
    "n−1, where \n",
    "�\n",
    "n is the sample size."
   ]
  },
  {
   "cell_type": "code",
   "execution_count": null,
   "id": "e2ef5571-a1ba-479b-958b-3a105e4dc9c4",
   "metadata": {},
   "outputs": [],
   "source": []
  }
 ],
 "metadata": {
  "kernelspec": {
   "display_name": "Python 3 (ipykernel)",
   "language": "python",
   "name": "python3"
  },
  "language_info": {
   "codemirror_mode": {
    "name": "ipython",
    "version": 3
   },
   "file_extension": ".py",
   "mimetype": "text/x-python",
   "name": "python",
   "nbconvert_exporter": "python",
   "pygments_lexer": "ipython3",
   "version": "3.10.8"
  }
 },
 "nbformat": 4,
 "nbformat_minor": 5
}
