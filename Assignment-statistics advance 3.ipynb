{
 "cells": [
  {
   "cell_type": "markdown",
   "id": "c2b69c24-8d3d-4a1c-8332-cbf561779768",
   "metadata": {},
   "source": [
    "## Question-1: What is Estimation Statistics? Explain point estimate and interval estimate."
   ]
  },
  {
   "cell_type": "code",
   "execution_count": 1,
   "id": "5b260e1f-f180-4c10-95de-51656f4fba42",
   "metadata": {},
   "outputs": [],
   "source": [
    "## Estimation statics: it is an observed numerical value used to estimate unknown population parameter.\n",
    "## point estimate: A single numerical value used to estimate unknown population parameter.\n",
    "## interval estimate: range of values usd to estimate unknown population parameter."
   ]
  },
  {
   "cell_type": "markdown",
   "id": "77534a19-929b-44fe-abf4-e80e5ad6a745",
   "metadata": {},
   "source": [
    "## Question-2: Write a Python function to estimate the population mean using a sample mean and standard deviation."
   ]
  },
  {
   "cell_type": "code",
   "execution_count": 4,
   "id": "c9a1773c-ec4b-4eb4-9202-d15b97906116",
   "metadata": {},
   "outputs": [],
   "source": [
    "## let sample be x=[21,32,42,54]\n",
    "x=[21,32,42,54]\n",
    "import numpy as np\n",
    "mean=np.mean(x)"
   ]
  },
  {
   "cell_type": "code",
   "execution_count": 5,
   "id": "7d8f8ec0-6250-4af7-b413-3def75e389ae",
   "metadata": {},
   "outputs": [
    {
     "data": {
      "text/plain": [
       "37.25"
      ]
     },
     "execution_count": 5,
     "metadata": {},
     "output_type": "execute_result"
    }
   ],
   "source": [
    "mean"
   ]
  },
  {
   "cell_type": "code",
   "execution_count": 6,
   "id": "61ed33cb-6e0f-4cd9-bb38-ecb65aeffb5b",
   "metadata": {},
   "outputs": [],
   "source": [
    "## sample mean is same as population mean . so that sample mean=population mean."
   ]
  },
  {
   "cell_type": "code",
   "execution_count": 7,
   "id": "48004ef0-15c6-4286-a229-06be40cfa478",
   "metadata": {},
   "outputs": [
    {
     "data": {
      "text/plain": [
       "[21, 32, 42, 54]"
      ]
     },
     "execution_count": 7,
     "metadata": {},
     "output_type": "execute_result"
    }
   ],
   "source": [
    "x"
   ]
  },
  {
   "cell_type": "code",
   "execution_count": 9,
   "id": "4fbfbef0-da63-4b82-bf64-036b2b853c16",
   "metadata": {},
   "outputs": [],
   "source": [
    "sample_deviation=np.std(x,ddof=1)"
   ]
  },
  {
   "cell_type": "code",
   "execution_count": 10,
   "id": "5828fa10-9f2c-4235-9db4-4a3141066326",
   "metadata": {},
   "outputs": [
    {
     "data": {
      "text/plain": [
       "14.080127840328723"
      ]
     },
     "execution_count": 10,
     "metadata": {},
     "output_type": "execute_result"
    }
   ],
   "source": [
    "sample_deviation"
   ]
  },
  {
   "cell_type": "code",
   "execution_count": 11,
   "id": "50b486ec-b4cb-4113-9e87-40b9515dd34f",
   "metadata": {},
   "outputs": [],
   "source": [
    "population_deviation=np.std(x,ddof=0)"
   ]
  },
  {
   "cell_type": "code",
   "execution_count": 13,
   "id": "3f64b9ce-5d36-4644-9dba-a60b423dc704",
   "metadata": {},
   "outputs": [
    {
     "data": {
      "text/plain": [
       "12.193748398257199"
      ]
     },
     "execution_count": 13,
     "metadata": {},
     "output_type": "execute_result"
    }
   ],
   "source": [
    "population_deviation"
   ]
  },
  {
   "cell_type": "markdown",
   "id": "f396b57f-0777-4233-878e-0270a7adac88",
   "metadata": {},
   "source": [
    "## Question-3:What is Hypothesis testing? Why is it used? State the importance of Hypothesis testing."
   ]
  },
  {
   "cell_type": "code",
   "execution_count": 14,
   "id": "47c251b5-50d1-411b-a340-f8c98bfe54d2",
   "metadata": {},
   "outputs": [],
   "source": [
    "## Hypothesis testing is one of the most important inferential tools of application of statistics to real life problems. It is used when we need to make decisions concerning populations on the basis of only sample information."
   ]
  },
  {
   "cell_type": "markdown",
   "id": "b7778ff5-fdf2-461a-a5b7-f0f829bcdd73",
   "metadata": {},
   "source": [
    "## Question-4: Create a hypothesis that states whether the average weight of male college students is greater than the average weight of female college students."
   ]
  },
  {
   "cell_type": "code",
   "execution_count": 15,
   "id": "a8666d05-e1ec-491e-a10f-bab4eda69139",
   "metadata": {},
   "outputs": [],
   "source": [
    "## u1= average weight of male students.\n",
    "## u2= average weight of female students.\n",
    "## Null hypothesis: u1>u2\n",
    "## alternate hypothesis: u1<=u2"
   ]
  },
  {
   "cell_type": "markdown",
   "id": "61098f58-92e5-46b5-a53d-ca782a8bf3ef",
   "metadata": {},
   "source": [
    "## Question-5 :Write a Python script to conduct a hypothesis test on the difference between two population means, given a sample from each population."
   ]
  },
  {
   "cell_type": "code",
   "execution_count": 2,
   "id": "6665892e-fd74-44b9-9587-ae0e6a54b08d",
   "metadata": {},
   "outputs": [
    {
     "name": "stdout",
     "output_type": "stream",
     "text": [
      "7.727500000000001 12.260000000000002\n"
     ]
    }
   ],
   "source": [
    "# Python program to display variance of data groups\n",
    " \n",
    "# Import library\n",
    "import numpy as np\n",
    "import scipy.stats as stats\n",
    " \n",
    "# Creating data groups\n",
    "data_group1 = np.array([14, 15, 15, 16, 13, 8, 14,\n",
    "                        17, 16, 14, 19, 20, 21, 15,\n",
    "                        15, 16, 16, 13, 14, 12])\n",
    "data_group2 = np.array([15, 17, 14, 17, 14, 8, 12,\n",
    "                        19, 19, 14, 17, 22, 24, 16,\n",
    "                        13, 16, 13, 18, 15, 13])\n",
    " \n",
    "# Print the variance of both data groups\n",
    "print(np.var(data_group1), np.var(data_group2))"
   ]
  },
  {
   "cell_type": "code",
   "execution_count": 3,
   "id": "e141f1e7-e93f-4d44-94f4-d92de7c0d6bc",
   "metadata": {},
   "outputs": [
    {
     "data": {
      "text/plain": [
       "Ttest_indResult(statistic=-0.6337397070250238, pvalue=0.5300471010405257)"
      ]
     },
     "execution_count": 3,
     "metadata": {},
     "output_type": "execute_result"
    }
   ],
   "source": [
    "# Python program to demonstrate how to \n",
    "# perform two sample T-test\n",
    " \n",
    "# Import the library\n",
    "import scipy.stats as stats\n",
    " \n",
    "# Creating data groups\n",
    "data_group1 = np.array([14, 15, 15, 16, 13, 8, 14, \n",
    "                        17, 16, 14, 19, 20, 21, 15,\n",
    "                        15, 16, 16, 13, 14, 12])\n",
    " \n",
    "data_group2 = np.array([15, 17, 14, 17, 14, 8, 12, \n",
    "                        19, 19, 14, 17, 22, 24, 16, \n",
    "                        13, 16, 13, 18, 15, 13])\n",
    " \n",
    "# Perform the two sample t-test with equal variances\n",
    "stats.ttest_ind(a=data_group1, b=data_group2, equal_var=True)"
   ]
  },
  {
   "cell_type": "markdown",
   "id": "d29e6d3c-682c-4713-b0b5-f48a499b2fcb",
   "metadata": {},
   "source": [
    "## Question-6 What is a null and alternative hypothesis? Give some examples."
   ]
  },
  {
   "cell_type": "code",
   "execution_count": 4,
   "id": "4a9d6327-dbbc-45d3-be66-110832b6c883",
   "metadata": {},
   "outputs": [],
   "source": [
    "## Null Hypothesis: On the average, the dosage sold under this brand is 50 mg (population mean dosage = 50 mg). Alternative Hypothesis: On the average, the dosage sold under this brand is not 50 mg (population mean dosage ≠ 50 mg). This is a two-sided alternative hypothesis."
   ]
  },
  {
   "cell_type": "markdown",
   "id": "4dd9d04a-6d2c-44a0-910a-7d8ab781d994",
   "metadata": {},
   "source": [
    "## Question-7 Write down the steps involved in hypothesis testing."
   ]
  },
  {
   "cell_type": "code",
   "execution_count": 5,
   "id": "5e577891-6831-42a7-a23f-82089eefda13",
   "metadata": {},
   "outputs": [],
   "source": [
    "## Making assumptions. ...\n",
    "## Stating the research and null hypotheses and selecting alpha. ..\n",
    "## Selecting the sampling distribution and specifying the test statistic. ...\n",
    "## Computing the test statistic. ...\n",
    "## Making a decision and interpreting the results.\n"
   ]
  },
  {
   "cell_type": "markdown",
   "id": "4a35e1b8-fb0d-4fe3-9f1f-0253e52e6d77",
   "metadata": {},
   "source": [
    "## Question-8 :Define p-value and explain its significance in hypothesis testing."
   ]
  },
  {
   "cell_type": "code",
   "execution_count": 6,
   "id": "ed516119-b2fc-4391-ac8d-a81ea7ce0ad9",
   "metadata": {},
   "outputs": [],
   "source": [
    "## The P-value is known as the level of marginal significance within the hypothesis testing that represents the probability of occurrence of the given event. The P-value is used as an alternative to the rejection point to provide the least significance at which the null hypothesis would be rejected."
   ]
  },
  {
   "cell_type": "markdown",
   "id": "6d8b2729-2c6d-4245-81be-c45988779442",
   "metadata": {},
   "source": [
    "## Question-9 : Generate a Student's t-distribution plot using Python's matplotlib library, with the degrees of freedom parameter set to 10."
   ]
  },
  {
   "cell_type": "code",
   "execution_count": 1,
   "id": "0ee2b750-0ede-4bb9-862d-3e914482f0c3",
   "metadata": {},
   "outputs": [
    {
     "data": {
      "image/png": "[encoded data removed]",
      "text/plain": [
       "<Figure size 1000x600 with 1 Axes>"
      ]
     },
     "metadata": {},
     "output_type": "display_data"
    }
   ],
   "source": [
    "import numpy as np\n",
    "import matplotlib.pyplot as plt\n",
    "from scipy.stats import t\n",
    "\n",
    "# Set the degrees of freedom\n",
    "degrees_of_freedom = 10\n",
    "\n",
    "# Generate x values\n",
    "x = np.linspace(-4, 4, 1000)\n",
    "\n",
    "# Create the t-distribution object\n",
    "t_distribution = t(degrees_of_freedom)\n",
    "\n",
    "# Calculate the probability density function (PDF) for each x value\n",
    "pdf_values = t_distribution.pdf(x)\n",
    "\n",
    "# Plot the t-distribution\n",
    "plt.figure(figsize=(10, 6))\n",
    "plt.plot(x, pdf_values, label=f\"t-distribution (df={degrees_of_freedom})\")\n",
    "plt.title(\"Student's t-distribution\")\n",
    "plt.xlabel(\"x\")\n",
    "plt.ylabel(\"Probability Density Function (PDF)\")\n",
    "plt.legend()\n",
    "plt.grid(True)\n",
    "plt.show()\n"
   ]
  },
  {
   "cell_type": "markdown",
   "id": "d7279565-56ba-4374-9374-a88815c85a42",
   "metadata": {},
   "source": [
    "## Question-13 A coffee shop owner wants to estimate the average daily revenue for their shop. They take a random sample of 50 days and find the sample mean revenue to be $500 with a standard deviation of $50. Estimate the population mean revenue with a 95% confidence interval."
   ]
  },
  {
   "cell_type": "code",
   "execution_count": null,
   "id": "cc136901-09da-4d68-90ec-c1f31bf5d696",
   "metadata": {},
   "outputs": [],
   "source": [
    " To estimate the population mean revenue with a 95% confidence interval, you can use the formula for the confidence interval of the mean when the population standard deviation is known:\n",
    "\n",
    "\n",
    "Confidence Interval= \n",
    "X\n",
    "ˉ\n",
    " ±Z( \n",
    "n\n",
    "​\n",
    " \n",
    "σ\n",
    "​\n",
    " )\n",
    "\n",
    "where:\n",
    "Xis the sample mean,\n",
    "Z is the Z-score corresponding to the desired confidence level,\n",
    "\n",
    "σ is the population standard deviation,\n",
    "\n",
    "n is the sample size.\n",
    "In this case, the sample mean ( ) is $500, the standard deviation (σ) is $50, the sample size (n) is 50, and we want a 95% confidence interval, which corresponds to a Z-score of 1.96 (for a two-tailed interval).\n",
    "\n",
    "Let's plug in the values:\n",
    "\n",
    "Confidence Interval\n",
    "=\n",
    "500\n",
    "±\n",
    "1.96\n",
    "(\n",
    "50\n",
    "50\n",
    ")\n",
    "Confidence Interval=500±1.96( \n",
    "50\n",
    "​\n",
    " \n",
    "50\n",
    "​\n",
    " )\n",
    "\n",
    "Calculate the standard error (\n",
    "\n",
    "n\n",
    "​\n",
    " \n",
    "σ\n",
    "​\n",
    " ):\n",
    "\n",
    "Standard Error\n",
    "=\n",
    "50\n",
    "50\n",
    "Standard Error= \n",
    "50\n",
    "​\n",
    " \n",
    "50\n",
    "​\n",
    " \n",
    "\n",
    "Now, calculate the confidence interval:\n",
    "\n",
    "Confidence Interval\n",
    "=\n",
    "500\n",
    "±\n",
    "1.96\n",
    "×\n",
    "Standard Error\n",
    "Confidence Interval=500±1.96×Standard Error\n",
    "\n",
    "Confidence Interval\n",
    "=\n",
    "500\n",
    "±\n",
    "1.96\n",
    "×\n",
    "(\n",
    "50\n",
    "50\n",
    ")\n",
    "Confidence Interval=500±1.96×( \n",
    "50\n",
    "​\n",
    " \n",
    "50\n",
    "​\n",
    " )\n",
    "\n",
    "Now, perform the calculations:\n",
    "\n",
    "Confidence Interval\n",
    "=\n",
    "500\n",
    "±\n",
    "1.96\n",
    "×\n",
    "7.071\n",
    "Confidence Interval=500±1.96×7.071\n",
    "\n",
    "Confidence Interval\n",
    "=\n",
    "500\n",
    "±\n",
    "13.843\n",
    "Confidence Interval=500±13.843\n",
    "\n",
    "Now, calculate the lower and upper bounds of the confidence interval:\n",
    "\n",
    "Lower Bound: \n",
    "500\n",
    "−\n",
    "13.843\n",
    "=\n",
    "486.157\n",
    "500−13.843=486.157\n",
    "\n",
    "Upper Bound: \n",
    "500\n",
    "+\n",
    "13.843\n",
    "=\n",
    "513.843\n",
    "500+13.843=513.843\n",
    "\n",
    "Therefore, the 95% confidence interval for the population mean revenue is approximately $486.16 to $513.84.\n",
    "\n",
    "\n",
    "\n",
    "\n",
    "\n"
   ]
  },
  {
   "cell_type": "markdown",
   "id": "4a5ffa1d-d4e8-4ea3-8825-3ca075df0a3c",
   "metadata": {},
   "source": [
    "## Question-10 Write a Python program to calculate the two-sample t-test for independent samples, given two random samples of equal size and a null hypothesis that the population means are equal."
   ]
  },
  {
   "cell_type": "code",
   "execution_count": 3,
   "id": "35b518b0-6d72-4def-a057-0aeadbb053d0",
   "metadata": {},
   "outputs": [
    {
     "name": "stdout",
     "output_type": "stream",
     "text": [
      "Two-Sample T-Test Results:\n",
      "T-Statistic: -2.3981151520102473\n",
      "P-Value: 0.01971794186575796\n",
      "Reject the null hypothesis. There is significant evidence that the population means are different.\n"
     ]
    }
   ],
   "source": [
    " import numpy as np\n",
    "from scipy.stats import ttest_ind\n",
    "\n",
    "def two_sample_t_test(sample1, sample2):\n",
    "    \"\"\"\n",
    "    Perform two-sample t-test for independent samples.\n",
    "\n",
    "    Parameters:\n",
    "    - sample1: First sample data\n",
    "    - sample2: Second sample data\n",
    "\n",
    "    Returns:\n",
    "    - t_statistic: Calculated t-statistic\n",
    "    - p_value: Two-tailed p-value\n",
    "    \"\"\"\n",
    "    t_statistic, p_value = ttest_ind(sample1, sample2)\n",
    "    return t_statistic, p_value\n",
    "\n",
    "# Example: Generate two random samples\n",
    "np.random.seed(42)  # For reproducibility\n",
    "sample_size = 30\n",
    "sample1 = np.random.normal(loc=5, scale=2, size=sample_size)\n",
    "sample2 = np.random.normal(loc=6, scale=2, size=sample_size)\n",
    "\n",
    "# Perform two-sample t-test\n",
    "t_statistic, p_value = two_sample_t_test(sample1, sample2)\n",
    "\n",
    "# Display results\n",
    "print(\"Two-Sample T-Test Results:\")\n",
    "print(f\"T-Statistic: {t_statistic}\")\n",
    "print(f\"P-Value: {p_value}\")\n",
    "\n",
    "# Check the significance level (e.g., alpha = 0.05)\n",
    "alpha = 0.05\n",
    "if p_value < alpha:\n",
    "    print(\"Reject the null hypothesis. There is significant evidence that the population means are different.\")\n",
    "else:\n",
    "    print(\"Fail to reject the null hypothesis. There is no significant evidence that the population means are different.\")"
   ]
  },
  {
   "cell_type": "markdown",
   "id": "0f14da79-6364-4e8c-8947-c65eb0f57ba6",
   "metadata": {},
   "source": [
    "## Question-11 What is Student’s t distribution? When to use the t-Distribution."
   ]
  },
  {
   "cell_type": "code",
   "execution_count": 4,
   "id": "d55a81c1-ec37-4109-b513-7b051dea6105",
   "metadata": {},
   "outputs": [],
   "source": [
    "## Student's t-distribution, commonly referred to as the t-distribution, is a probability distribution that arises in the context of estimating the population mean of a normally distributed population when the sample size is small and the population standard deviation is unknown."
   ]
  },
  {
   "cell_type": "markdown",
   "id": "fd8a158a-c3c0-47aa-b579-4b657b908369",
   "metadata": {},
   "source": [
    "## Question-12 What is t-statistic? State the formula for t-statistic."
   ]
  },
  {
   "cell_type": "code",
   "execution_count": 5,
   "id": "2ed3cad3-519d-4f91-9dbc-d2d10308090b",
   "metadata": {},
   "outputs": [],
   "source": [
    "## The t-statistic is a measure that helps assess the statistical significance of an estimated population parameter, typically the mean, when working with small sample sizes and unknown population standard deviations. It is commonly used in hypothesis testing and constructing confidence intervals."
   ]
  },
  {
   "cell_type": "markdown",
   "id": "a7561a3c-efa3-4291-a1b0-d9f620c09172",
   "metadata": {},
   "source": [
    "## Question-14 A researcher hypothesizes that a new drug will decrease blood pressure by 10 mmHg. They conduct a clinical trial with 100 patients and find that the sample mean decrease in blood pressure is 8 mmHg with a standard deviation of 3 mmHg. Test the hypothesis with a significance level of 0.05."
   ]
  },
  {
   "cell_type": "code",
   "execution_count": null,
   "id": "542c34b7-f033-45d8-a92b-2e930eed2ebe",
   "metadata": {},
   "outputs": [],
   "source": [
    "To test the hypothesis about the decrease in blood pressure, you can perform a one-sample t-test. The null hypothesis (\n",
    "�\n",
    "0\n",
    "H \n",
    "0\n",
    "​\n",
    " ) is that the true mean decrease in blood pressure is 10 mmHg, and the alternative hypothesis (\n",
    "�\n",
    "�\n",
    "H \n",
    "a\n",
    "​\n",
    " ) is that the true mean decrease is not equal to 10 mmHg.\n",
    "\n",
    "Here are the steps to conduct the one-sample t-test:\n",
    "\n",
    "Formulate Hypotheses:\n",
    "\n",
    "Null Hypothesis (\n",
    "�\n",
    "0\n",
    "H \n",
    "0\n",
    "​\n",
    " ): The true mean decrease in blood pressure is 10 mmHg (\n",
    "�\n",
    "=\n",
    "10\n",
    "μ=10).\n",
    "Alternative Hypothesis (\n",
    "�\n",
    "�\n",
    "H \n",
    "a\n",
    "​\n",
    " ): The true mean decrease in blood pressure is not equal to 10 mmHg (\n",
    "�\n",
    "≠\n",
    "10\n",
    "μ\n",
    "\n",
    "=10).\n",
    "Set Significance Level (\n",
    "�\n",
    "α):\n",
    "\n",
    "Given a significance level of 0.05, this means we are willing to accept a 5% chance of making a Type I error (rejecting a true null hypothesis).\n",
    "Collect and Analyze Data:\n",
    "\n",
    "Sample mean (\n",
    "�\n",
    "ˉ\n",
    "X\n",
    "ˉ\n",
    " ): 8 mmHg\n",
    "Sample standard deviation (\n",
    "�\n",
    "s): 3 mmHg\n",
    "Sample size (\n",
    "�\n",
    "n): 100\n",
    "Calculate the t-statistic:\n",
    "�\n",
    "=\n",
    "�\n",
    "ˉ\n",
    "−\n",
    "�\n",
    "0\n",
    "�\n",
    "�\n",
    "t= \n",
    "n\n",
    "​\n",
    " \n",
    "s\n",
    "​\n",
    " \n",
    "X\n",
    "ˉ\n",
    " −μ \n",
    "0\n",
    "​\n",
    " \n",
    "​\n",
    " \n",
    "\n",
    "Determine the Critical Region:\n",
    "\n",
    "Since it's a two-tailed test (not equal to), we need to find the critical t-values corresponding to the tails of the distribution with 99 degrees of freedom (100 - 1).\n",
    "Compare t-statistic and Critical Values:\n",
    "\n",
    "If the absolute value of the t-statistic is greater than the critical value, we reject the null hypothesis.\n",
    "Let's perform the calculations:\n",
    "\n",
    "�\n",
    "=\n",
    "8\n",
    "−\n",
    "10\n",
    "3\n",
    "100\n",
    "t= \n",
    "100\n",
    "​\n",
    " \n",
    "3\n",
    "​\n",
    " \n",
    "8−10\n",
    "​\n",
    " \n",
    "\n",
    "�\n",
    "=\n",
    "−\n",
    "2\n",
    "0.3\n",
    "≈\n",
    "−\n",
    "6.67\n",
    "t= \n",
    "0.3\n",
    "−2\n",
    "​\n",
    " ≈−6.67\n",
    "\n",
    "Now, we compare the absolute value of -6.67 with the critical t-values. Given the large absolute t-value, we can reject the null hypothesis at a significance level of 0.05.\n",
    "\n",
    "In conclusion, there is sufficient evidence to reject the null hypothesis, suggesting that the new drug has a significant effect on decreasing blood pressure, and the mean decrease is not equal to 10 mmHg.\n",
    "\n",
    "\n",
    "\n",
    "\n",
    "\n"
   ]
  },
  {
   "cell_type": "markdown",
   "id": "4f907403-bbaf-42e2-9c66-86985c5f0bc2",
   "metadata": {},
   "source": [
    "## Question-15 An electronics company produces a certain type of product with a mean weight of 5 pounds and a standard deviation of 0.5 pounds. A random sample of 25 products is taken, and the sample mean weight is found to be 4.8 pounds. Test the hypothesis that the true mean weight of the products is less than 5\n",
    "pounds with a significance level of 0.01."
   ]
  },
  {
   "cell_type": "code",
   "execution_count": null,
   "id": "54978ba3-c638-4632-9664-a029ccc5f0ab",
   "metadata": {},
   "outputs": [],
   "source": [
    "To test the hypothesis that the true mean weight of the products is less than 5 pounds, you can perform a one-sample t-test for a population mean (\n",
    "�\n",
    "μ).\n",
    "\n",
    "Here are the steps to conduct the one-sample t-test:\n",
    "\n",
    "Formulate Hypotheses:\n",
    "\n",
    "Null Hypothesis (\n",
    "�\n",
    "0\n",
    "H \n",
    "0\n",
    "​\n",
    " ): The true mean weight of the products is 5 pounds (\n",
    "�\n",
    "=\n",
    "5\n",
    "μ=5).\n",
    "Alternative Hypothesis (\n",
    "�\n",
    "�\n",
    "H \n",
    "a\n",
    "​\n",
    " ): The true mean weight of the products is less than 5 pounds (\n",
    "�\n",
    "<\n",
    "5\n",
    "μ<5).\n",
    "Set Significance Level (\n",
    "�\n",
    "α):\n",
    "\n",
    "Given a significance level of 0.01, this means we are willing to accept a 1% chance of making a Type I error (rejecting a true null hypothesis).\n",
    "Collect and Analyze Data:\n",
    "\n",
    "Population mean (\n",
    "�\n",
    "μ): 5 pounds\n",
    "Population standard deviation (\n",
    "�\n",
    "σ): 0.5 pounds\n",
    "Sample mean (\n",
    "�\n",
    "ˉ\n",
    "X\n",
    "ˉ\n",
    " ): 4.8 pounds\n",
    "Sample size (\n",
    "�\n",
    "n): 25\n",
    "Calculate the t-statistic:\n",
    "�\n",
    "=\n",
    "�\n",
    "ˉ\n",
    "−\n",
    "�\n",
    "0\n",
    "�\n",
    "�\n",
    "t= \n",
    "n\n",
    "​\n",
    " \n",
    "s\n",
    "​\n",
    " \n",
    "X\n",
    "ˉ\n",
    " −μ \n",
    "0\n",
    "​\n",
    " \n",
    "​\n",
    " \n",
    "\n",
    "In this case, since the population standard deviation (\n",
    "�\n",
    "σ) is known, you can use the Z-statistic formula:\n",
    "�\n",
    "=\n",
    "�\n",
    "ˉ\n",
    "−\n",
    "�\n",
    "0\n",
    "�\n",
    "�\n",
    "Z= \n",
    "n\n",
    "​\n",
    " \n",
    "σ\n",
    "​\n",
    " \n",
    "X\n",
    "ˉ\n",
    " −μ \n",
    "0\n",
    "​\n",
    " \n",
    "​\n",
    " \n",
    "\n",
    "Determine the Critical Region:\n",
    "\n",
    "Since it's a one-tailed test (less than), find the critical Z-value corresponding to a cumulative probability of 0.01.\n",
    "Compare t-statistic (or Z-statistic) and Critical Value:\n",
    "\n",
    "If the t-statistic (or Z-statistic) is less than the critical value, we reject the null hypothesis.\n",
    "Let's perform the calculations:\n",
    "\n",
    "�\n",
    "=\n",
    "4.8\n",
    "−\n",
    "5\n",
    "0.5\n",
    "25\n",
    "Z= \n",
    "25\n",
    "​\n",
    " \n",
    "0.5\n",
    "​\n",
    " \n",
    "4.8−5\n",
    "​\n",
    " \n",
    "\n",
    "�\n",
    "=\n",
    "−\n",
    "0.2\n",
    "0.1\n",
    "=\n",
    "−\n",
    "2\n",
    "Z= \n",
    "0.1\n",
    "−0.2\n",
    "​\n",
    " =−2\n",
    "\n",
    "Now, we compare the Z-statistic (-2) with the critical Z-value. The critical Z-value for a cumulative probability of 0.01 is approximately -2.33. Since -2 is greater than -2.33, we fail to reject the null hypothesis.\n",
    "\n",
    "In conclusion, at a significance level of 0.01, there is not enough evidence to reject the null hypothesis. It suggests that the true mean weight of the products is not significantly less than 5 pounds.\n",
    "\n",
    "\n"
   ]
  },
  {
   "cell_type": "markdown",
   "id": "f89842a4-0b47-4cea-b119-20883a6ccf33",
   "metadata": {},
   "source": [
    "## Question-17 A marketing company wants to estimate the average number of ads watched by viewers during a TV program. They take a random sample of 50 viewers and find that the sample mean is 4 with a standard deviation of 1.5. Estimate the population mean with a 99% confidence interval."
   ]
  },
  {
   "cell_type": "code",
   "execution_count": null,
   "id": "1b1b47f5-38a2-4ec7-abe6-5e35364a22d5",
   "metadata": {},
   "outputs": [],
   "source": []
  }
 ],
 "metadata": {
  "kernelspec": {
   "display_name": "Python 3 (ipykernel)",
   "language": "python",
   "name": "python3"
  },
  "language_info": {
   "codemirror_mode": {
    "name": "ipython",
    "version": 3
   },
   "file_extension": ".py",
   "mimetype": "text/x-python",
   "name": "python",
   "nbconvert_exporter": "python",
   "pygments_lexer": "ipython3",
   "version": "3.10.8"
  }
 },
 "nbformat": 4,
 "nbformat_minor": 5
}
