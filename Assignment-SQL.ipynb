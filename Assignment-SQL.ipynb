{
 "cells": [
  {
   "cell_type": "markdown",
   "id": "541de2d5-b13f-43a9-aff1-12e0fe7893de",
   "metadata": {},
   "source": [
    "## Question-1: what is database? Differrentiate between sql and nosql database."
   ]
  },
  {
   "cell_type": "code",
   "execution_count": 1,
   "id": "1a05425f-c127-4ab2-81f6-ed9f5a44d753",
   "metadata": {},
   "outputs": [],
   "source": [
    " ## Database: a database is a organised collection of structured information , or data , stored in computer system. you can organize data into table,row,columns to make it easier to find relevant information."
   ]
  },
  {
   "cell_type": "code",
   "execution_count": 2,
   "id": "47340fff-ca67-4b21-8a67-a82c41884091",
   "metadata": {},
   "outputs": [],
   "source": [
    "## SQL: SQL database are relational . SQL database use structured query language. SQL database are vertically scalable. SQL database consists of table. SQL database have predefined schema."
   ]
  },
  {
   "cell_type": "code",
   "execution_count": 3,
   "id": "9005d325-c6fd-4240-b466-c33f00606200",
   "metadata": {},
   "outputs": [],
   "source": [
    "## NOSQL: NOSQL databse are non-relational. NOSQL database have dyanmic schema for unstructred data . NOSQL database are horizontally scalable.  "
   ]
  },
  {
   "cell_type": "markdown",
   "id": "c1588c7c-7357-4e0f-89e8-aeb172cb6ffa",
   "metadata": {},
   "source": [
    "## Question-2 what is DDL? explain why CREATE, DROP , ALTER ,  and TRUNCATE are used with example."
   ]
  },
  {
   "cell_type": "code",
   "execution_count": 4,
   "id": "18d89c7a-d3b3-4afc-9b11-1fcfbdb8f2e9",
   "metadata": {},
   "outputs": [],
   "source": [
    "## DDL: data defination language(DDL) is used to create and modify the databse objects such as tables,indices,views and users.\n",
    "## DDL commands are used to define the structure and schema of database . all command of DDL are auto-commited."
   ]
  },
  {
   "cell_type": "code",
   "execution_count": 5,
   "id": "47d3a301-d800-4840-b4c5-0ab081d76489",
   "metadata": {},
   "outputs": [],
   "source": [
    "## DDL commands:\n",
    "## 1. CREATE - to create to table or database. CREATE is used to create a dtabase and table.\n",
    "## 2. ALTER - to modify the structure of table.\n",
    "## 3.DROP - to delete table from databse. drop command is also used on database.\n",
    "## 4. TRUNCATE- to delete all records from table. it is used to remove all rows. it is similar to DELETE statement."
   ]
  },
  {
   "cell_type": "code",
   "execution_count": null,
   "id": "a79e7772-caef-4e86-b9e7-dbe90f7dde57",
   "metadata": {},
   "outputs": [],
   "source": [
    "## example of CREATE:\n",
    "#    1. CREATE DATABASE database_name;\n",
    "#    2. CREATE TABLE ( c1 INT , c2 VARCHAR(50) , c3 FLOAT, c4 VARCHAR(40) ) "
   ]
  },
  {
   "cell_type": "code",
   "execution_count": null,
   "id": "21deb9f8-8103-43d2-9dc2-eee884e7aafd",
   "metadata": {},
   "outputs": [],
   "source": [
    "## example of ALTER:\n",
    "# ALTER TABLE table_name\n",
    "# ADD column name datatype;"
   ]
  },
  {
   "cell_type": "code",
   "execution_count": null,
   "id": "0a40b908-42e9-48fc-b590-4d86e0057028",
   "metadata": {},
   "outputs": [],
   "source": [
    "## Example of DROP:\n",
    "# DROP TABLE table_name;"
   ]
  },
  {
   "cell_type": "code",
   "execution_count": null,
   "id": "91e25272-490f-4fd2-a630-1a740473e9d6",
   "metadata": {},
   "outputs": [],
   "source": [
    "## Example of TRUNCATE:\n",
    "# TRUNCATE TEBLE table_name;"
   ]
  },
  {
   "cell_type": "markdown",
   "id": "23a644a5-95ef-41d9-a4d0-35a5edf5ec31",
   "metadata": {
    "tags": []
   },
   "source": [
    "## Question-5: What is primary key and foregin key?"
   ]
  },
  {
   "cell_type": "code",
   "execution_count": 8,
   "id": "15dbe98d-cd78-466a-b608-a333d74e7f53",
   "metadata": {},
   "outputs": [],
   "source": [
    "## Primary Key : A combination of NOT NULL AND UNIQUE . uniquely identifies each row in a table. primary key must contain unique value and cannot contain NULL value. a table can only have one primary key."
   ]
  },
  {
   "cell_type": "code",
   "execution_count": 9,
   "id": "3004757d-912a-465b-b555-2973148fc0eb",
   "metadata": {},
   "outputs": [],
   "source": [
    "## Foregin Key: a foregin key constraints is used to links two tables together. a foregin key is field in one table that refers to primary key in another table."
   ]
  },
  {
   "cell_type": "code",
   "execution_count": null,
   "id": "fba10397-7d5f-4f87-a18c-5ef049057740",
   "metadata": {},
   "outputs": [],
   "source": [
    "## Example:\n",
    "# CREATE TABLE EMP:\n",
    "#        Emp_id int NOT NULL;\n",
    "#        Name varchar (20) NOT NULL;\n",
    "#        Age int NOT NULL;\n",
    "#        Address varchar(100) DEFAULT 'INDIA';\n",
    "#        Salary numeric (10,2) NOT NULL;\n",
    "#        Dept_id int,\n",
    "        \n",
    "#        PRIMARY KEY (Emp_id)\n",
    "#        FOREGIN KEY(Dept_id) REFERENCE Dept(Dept_id)\n",
    "#        CHECK(Age>=18)\n",
    "\n",
    "        "
   ]
  },
  {
   "cell_type": "markdown",
   "id": "9d3b6bae-9626-40e2-b1fa-2135cf8f11f3",
   "metadata": {},
   "source": [
    "## Question-4: What is DQL? explain SELECT with an example."
   ]
  },
  {
   "cell_type": "code",
   "execution_count": 16,
   "id": "590b62db-a50b-43f6-9b7a-b5437cc2cec7",
   "metadata": {},
   "outputs": [],
   "source": [
    "## DQL: Data Query Language is used to make varios queries in informaton system and database. DQL statements are used to query the data contained in schema objects."
   ]
  },
  {
   "cell_type": "code",
   "execution_count": null,
   "id": "b6d2b0a2-3141-4bc2-8ff2-f943e936bd5b",
   "metadata": {},
   "outputs": [],
   "source": [
    "## DQL command:\n",
    "##SELECT: to reterive data from database.\n",
    "\n",
    "## basic syntax of SELECT:\n",
    "##    SELECT column1,column2,column3,...columnN \n",
    "##    FROM table_name;"
   ]
  },
  {
   "cell_type": "code",
   "execution_count": null,
   "id": "f8210728-6895-429a-b4eb-02849a4d43f4",
   "metadata": {},
   "outputs": [],
   "source": [
    "## WHERE clause is used to select a particular record based on condition. it is used to filter records. WHERE clause also used in UPDATE and DELETE statement.\n",
    "## Example:\n",
    "# SELECT column1,column2,...columnN\n",
    "# FROM table_name\n",
    "# WHERE condition;"
   ]
  },
  {
   "cell_type": "markdown",
   "id": "a4c63d5d-c35e-4096-bba3-ebf5b0bab3bd",
   "metadata": {},
   "source": [
    "## Question-3 : What is DML? explain INSERT,DELETE and UPDATE with the help of example."
   ]
  },
  {
   "cell_type": "code",
   "execution_count": null,
   "id": "89de4f12-5fd4-48ae-bcbf-2e6f7936ab7d",
   "metadata": {},
   "outputs": [],
   "source": [
    "## DML: Data manipulation language are used for accessing and manipulating data stored in the database. DML commmands are not auto-commited.\n"
   ]
  },
  {
   "cell_type": "code",
   "execution_count": 17,
   "id": "481c7734-d536-4d3f-b405-2a52c9be9a86",
   "metadata": {},
   "outputs": [],
   "source": [
    "## DML commmands:\n",
    "## 1.INSERT: to insert new row in a table.\n",
    "## 2.DELETE: to delete a row from the table.\n",
    "## 3.UPDATE: to update existing row in a table."
   ]
  },
  {
   "cell_type": "code",
   "execution_count": 18,
   "id": "67583236-8958-42f7-ab32-c929a4443894",
   "metadata": {},
   "outputs": [],
   "source": [
    "## INSERT Example:\n",
    "# INSERT INTO table_name(column1,column2,column3,olumn4)\n",
    "# VALUES(v1,v2,v3,v4);"
   ]
  },
  {
   "cell_type": "code",
   "execution_count": 19,
   "id": "621905c2-7b37-4f84-9aee-d6bcf24809d9",
   "metadata": {},
   "outputs": [],
   "source": [
    "## UPDATE:\n",
    "# UPDATE table_name\n",
    "# SET column1=value1,column2=value2..\n",
    "# WHERE condition;\n"
   ]
  },
  {
   "cell_type": "code",
   "execution_count": 20,
   "id": "9455e712-59ad-4bb7-b938-f11c372c43fc",
   "metadata": {},
   "outputs": [],
   "source": [
    "## DELETE :\n",
    "# DELETE FROM table_name\n",
    "# WHERE condition;"
   ]
  },
  {
   "cell_type": "markdown",
   "id": "a01fa384-24e6-4fe4-b298-842eac797ac1",
   "metadata": {},
   "source": [
    "## Question-7: Give order of execution sql clauses in sql query."
   ]
  },
  {
   "cell_type": "code",
   "execution_count": 21,
   "id": "2f389bcb-e8b5-4343-9fc9-d02bcc0015ba",
   "metadata": {},
   "outputs": [],
   "source": [
    "# There are mainly these clauses:\n",
    "#    1. WHERE clause\n",
    "#    2. GROUP BY clause\n",
    "#    3. HAVING clause\n",
    "#    4. ORDER BY clause\n",
    "#    5. DISTINCT clause"
   ]
  },
  {
   "cell_type": "code",
   "execution_count": 22,
   "id": "02e62820-7e88-49df-b604-c54a55d690c6",
   "metadata": {},
   "outputs": [],
   "source": [
    "# Example:\n",
    "#  SELECT dept_name,count(dept_name)\n",
    "#  FROM emp\n",
    "#  WHERE city='delhi'\n",
    "#  GROUP BY dept_name\n",
    "#  HAVING count(dept_name)<5\n",
    "#  ORDER BY count(dept_name) desc\n",
    "#  LIMIT 1\n"
   ]
  },
  {
   "cell_type": "code",
   "execution_count": 23,
   "id": "fdcc6481-b8ac-4ed9-8652-dd17bb4696fd",
   "metadata": {},
   "outputs": [],
   "source": [
    "# order of execution :FROM,JOIN,WHERE,GROUP BY,HAVING,SELECT,DISTINCT,ORDER BY,LIMIT "
   ]
  },
  {
   "cell_type": "markdown",
   "id": "b9d68f71-2852-44db-ad8c-b03d227fcbcb",
   "metadata": {},
   "source": [
    "## Question-6: Write a python code to connect Mysql to python. Explain cursor() and execute() method."
   ]
  },
  {
   "cell_type": "code",
   "execution_count": null,
   "id": "a0fbc433-104c-48b7-8e6e-57b760195d93",
   "metadata": {},
   "outputs": [],
   "source": [
    "import mysql.connector\n",
    "mydb=mysql.connector.connect(\n",
    "    host=\"localhost\",\n",
    "    user='abc',\n",
    "    password='password'\n",
    ")\n",
    "mycursor=mydb.cursor()\n",
    "mycursor.execute(\"CREATE DATABASE if not exists test2\")\n",
    "mydb.close()\n",
    "    "
   ]
  },
  {
   "cell_type": "code",
   "execution_count": 25,
   "id": "2338ca2c-4984-484e-86da-cce7463280f3",
   "metadata": {},
   "outputs": [],
   "source": [
    "## cursor()= a corsor is an object which help to execute the query and fetch records from datbase. the cursor plays a important role in executing the query. "
   ]
  },
  {
   "cell_type": "code",
   "execution_count": 26,
   "id": "0b07c280-e524-4076-a381-6b27a799b201",
   "metadata": {},
   "outputs": [],
   "source": [
    "## execute()= the execute the query , SQL statement or procedure specified in command text property of command object. "
   ]
  },
  {
   "cell_type": "code",
   "execution_count": null,
   "id": "35285e12-e8ee-45a6-a552-7cd9ed50b2a6",
   "metadata": {},
   "outputs": [],
   "source": []
  }
 ],
 "metadata": {
  "kernelspec": {
   "display_name": "Python 3 (ipykernel)",
   "language": "python",
   "name": "python3"
  },
  "language_info": {
   "codemirror_mode": {
    "name": "ipython",
    "version": 3
   },
   "file_extension": ".py",
   "mimetype": "text/x-python",
   "name": "python",
   "nbconvert_exporter": "python",
   "pygments_lexer": "ipython3",
   "version": "3.10.8"
  }
 },
 "nbformat": 4,
 "nbformat_minor": 5
}
