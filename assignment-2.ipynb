{
 "cells": [
  {
   "cell_type": "markdown",
   "id": "40ad742a-14c9-44b2-bd2b-efbc95df9bee",
   "metadata": {},
   "source": [
    "Question-1 :how do you comment and type of comment ?"
   ]
  },
  {
   "cell_type": "code",
   "execution_count": 2,
   "id": "5d02177f-fbe4-45c1-8287-b9e2972f2f06",
   "metadata": {},
   "outputs": [
    {
     "name": "stdout",
     "output_type": "stream",
     "text": [
      "10\n"
     ]
    }
   ],
   "source": [
    "#declare and initialise two variables \n",
    "\n",
    "num1=6\n",
    "num2=4\n",
    "\n",
    "num3=num1+num2\n",
    "\n",
    "#print the output\n",
    "print(num3)\n",
    "\n"
   ]
  },
  {
   "cell_type": "raw",
   "id": "1df99518-18e1-4f8e-bac6-076e2c77d4b5",
   "metadata": {},
   "source": [
    "we use following comments:\n",
    "1) declare and initialise two variables\n",
    "2) print the output\n",
    "\n",
    "   types of comments in python:\n",
    "   1) single line comment\n",
    "   2) multi line comment "
   ]
  },
  {
   "cell_type": "raw",
   "id": "6a7e92d4-4a9d-437e-b735-b9ab783983ca",
   "metadata": {},
   "source": [
    "1) single line comment: a single line comment strats and ends in a same line . for example:-"
   ]
  },
  {
   "cell_type": "code",
   "execution_count": 4,
   "id": "9489e9b8-fac2-4d40-b8fd-fb3ca262bc2f",
   "metadata": {},
   "outputs": [],
   "source": [
    "name=\"Harshit\" # name is a string"
   ]
  },
  {
   "cell_type": "raw",
   "id": "0b56c153-febf-4ab3-9e98-997fce49a18f",
   "metadata": {},
   "source": [
    "2) multi line comment : \"\"\"or ''' these triple quotes are gnerally are generally used as multi line string . but if we do not assign it to any variable or function we use it as comment.for example:-"
   ]
  },
  {
   "cell_type": "code",
   "execution_count": null,
   "id": "98ffae34-881c-4f9d-b8fd-8874e0fefd16",
   "metadata": {},
   "outputs": [],
   "source": [
    "'''this is an perfect example of multi line comment'''"
   ]
  },
  {
   "cell_type": "markdown",
   "id": "cbe65162-bf5e-4f7e-b789-2b8f949fc05a",
   "metadata": {},
   "source": [
    "Question-2 : what are variables in python and how do you assign value to them?"
   ]
  },
  {
   "cell_type": "raw",
   "id": "75a07501-143b-40bb-9afe-241f6b22cc1e",
   "metadata": {},
   "source": [
    "in programming variable is like a container to hold data. for example:-"
   ]
  },
  {
   "cell_type": "code",
   "execution_count": 7,
   "id": "3c791f04-ad3e-4d0c-a34b-5570a4016d30",
   "metadata": {},
   "outputs": [],
   "source": [
    "num=10"
   ]
  },
  {
   "cell_type": "raw",
   "id": "4db1cd6a-fdcf-4a12-9ca3-e0ef2eeb7944",
   "metadata": {},
   "source": [
    "num is a variable storing the value 10. we use the assignment operator = to assign the value to a variable.we can assign multi values to varaibles."
   ]
  },
  {
   "cell_type": "code",
   "execution_count": 8,
   "id": "6afe1cfd-0236-4ca7-b086-d863c1532587",
   "metadata": {},
   "outputs": [],
   "source": [
    "a,b,c=5,'Wrute',4"
   ]
  },
  {
   "cell_type": "raw",
   "id": "7f835019-c2b6-4aef-96e6-819119613e96",
   "metadata": {},
   "source": [
    "we can use variables to store data of different data type . foe example -"
   ]
  },
  {
   "cell_type": "code",
   "execution_count": 9,
   "id": "be4857f2-5a3c-477a-8507-f7ce32fea428",
   "metadata": {},
   "outputs": [],
   "source": [
    "a=2"
   ]
  },
  {
   "cell_type": "code",
   "execution_count": 10,
   "id": "68145a3d-1bc8-4da1-b048-98b14e630c11",
   "metadata": {},
   "outputs": [],
   "source": [
    "b=30.4"
   ]
  },
  {
   "cell_type": "code",
   "execution_count": 11,
   "id": "43a235c3-35ee-4b8a-a87c-dc36175461d7",
   "metadata": {},
   "outputs": [],
   "source": [
    "c=\"Harshit\""
   ]
  },
  {
   "cell_type": "code",
   "execution_count": 12,
   "id": "fd642506-8ec8-4b86-bc49-b8a156ff9193",
   "metadata": {},
   "outputs": [],
   "source": [
    "l=[23,34.7,\"harshit\"]"
   ]
  },
  {
   "cell_type": "code",
   "execution_count": 13,
   "id": "66ff3817-c25d-45fa-b004-5f25d08903c9",
   "metadata": {},
   "outputs": [
    {
     "data": {
      "text/plain": [
       "int"
      ]
     },
     "execution_count": 13,
     "metadata": {},
     "output_type": "execute_result"
    }
   ],
   "source": [
    "type(a)"
   ]
  },
  {
   "cell_type": "code",
   "execution_count": 14,
   "id": "6f33b157-eaa1-4ab6-bbea-65325e30ec45",
   "metadata": {},
   "outputs": [
    {
     "data": {
      "text/plain": [
       "float"
      ]
     },
     "execution_count": 14,
     "metadata": {},
     "output_type": "execute_result"
    }
   ],
   "source": [
    "type(b)"
   ]
  },
  {
   "cell_type": "code",
   "execution_count": 15,
   "id": "c6a1d3bb-1f00-4d9f-9d52-1e64f54a17b6",
   "metadata": {},
   "outputs": [
    {
     "data": {
      "text/plain": [
       "str"
      ]
     },
     "execution_count": 15,
     "metadata": {},
     "output_type": "execute_result"
    }
   ],
   "source": [
    "type(c)"
   ]
  },
  {
   "cell_type": "code",
   "execution_count": 16,
   "id": "15d22316-fe1b-44b0-9260-8448f4c7214f",
   "metadata": {},
   "outputs": [
    {
     "data": {
      "text/plain": [
       "list"
      ]
     },
     "execution_count": 16,
     "metadata": {},
     "output_type": "execute_result"
    }
   ],
   "source": [
    "type(l)"
   ]
  },
  {
   "cell_type": "markdown",
   "id": "2dc3ad7c-7f08-4af6-ab5d-f6a02aa2af10",
   "metadata": {},
   "source": [
    "Question-3 : how do you convert one data to another in python?"
   ]
  },
  {
   "cell_type": "raw",
   "id": "942e716f-7b4f-4a66-94dc-73ff634e7885",
   "metadata": {},
   "source": [
    "we can convert one data type into another in two ways :-\n",
    "1) implict type conversion \n",
    "2) explicit type conversion\n",
    "\n",
    "\n",
    "1) in implict conversion we can cconvert one data type to another without any involvement of user , handles automatically convert one data type to another .\n",
    " for example:-"
   ]
  },
  {
   "cell_type": "code",
   "execution_count": 22,
   "id": "fd8acc56-c5f1-4393-a746-1e3847307604",
   "metadata": {},
   "outputs": [
    {
     "name": "stdout",
     "output_type": "stream",
     "text": [
      "<class 'int'>\n",
      "<class 'float'>\n",
      "<class 'float'>\n"
     ]
    }
   ],
   "source": [
    "a=1\n",
    "print(type(a))\n",
    "b=1.0\n",
    "print(type(b))\n",
    "c=a//b\n",
    "print(type(c))"
   ]
  },
  {
   "cell_type": "raw",
   "id": "e3a5a9e0-19a7-4f82-9551-33270f651114",
   "metadata": {},
   "source": [
    "2) in explict type of onversion user involvement is required . this can done with help of int(), float(),str(). for example:-"
   ]
  },
  {
   "cell_type": "code",
   "execution_count": 23,
   "id": "e01d7f2a-0290-4655-9d4c-8db79c6c8c3a",
   "metadata": {},
   "outputs": [
    {
     "name": "stdout",
     "output_type": "stream",
     "text": [
      "<class 'int'>\n",
      "10\n",
      "<class 'str'>\n"
     ]
    }
   ],
   "source": [
    "a=10\n",
    "print(type(a))\n",
    "\n",
    "s=str(a)\n",
    "print(s)\n",
    "print(type(s))"
   ]
  },
  {
   "cell_type": "markdown",
   "id": "a69cf5cc-66d1-4fef-a927-51784f5de7db",
   "metadata": {},
   "source": [
    "Question-5: code to slice the list "
   ]
  },
  {
   "cell_type": "code",
   "execution_count": 24,
   "id": "476986b3-4a98-4d33-b1a8-6ba5077dbfa5",
   "metadata": {},
   "outputs": [
    {
     "data": {
      "text/plain": [
       "[2, 3]"
      ]
     },
     "execution_count": 24,
     "metadata": {},
     "output_type": "execute_result"
    }
   ],
   "source": [
    "given_my_list=[1,2,3,4,5]\n",
    "\n",
    "given_my_list[1:3]"
   ]
  },
  {
   "cell_type": "code",
   "execution_count": 25,
   "id": "954e1bce-87c5-4de2-9850-5482ed667dbd",
   "metadata": {},
   "outputs": [
    {
     "data": {
      "text/plain": [
       "list"
      ]
     },
     "execution_count": 25,
     "metadata": {},
     "output_type": "execute_result"
    }
   ],
   "source": [
    "type(given_my_list)"
   ]
  },
  {
   "cell_type": "markdown",
   "id": "339a7c1b-5be9-47ce-8e76-abec1707d2aa",
   "metadata": {},
   "source": [
    "Question-6: what are complex number in python and how it is declare in python?"
   ]
  },
  {
   "cell_type": "raw",
   "id": "10724523-c607-4f87-9a2f-f19ccdfd121a",
   "metadata": {},
   "source": [
    "complex number is a number containng both imaginary as well as real number . in mathematics imaginary number is denoted by i. while in python it is represented by j. for example-"
   ]
  },
  {
   "cell_type": "code",
   "execution_count": 26,
   "id": "a3bdf376-3ff4-4a1c-8f93-7107ee7703c7",
   "metadata": {},
   "outputs": [],
   "source": [
    "c=8+6j"
   ]
  },
  {
   "cell_type": "code",
   "execution_count": 27,
   "id": "5e2f13a5-4da1-4bb9-a4ba-1993adf5099c",
   "metadata": {},
   "outputs": [
    {
     "data": {
      "text/plain": [
       "complex"
      ]
     },
     "execution_count": 27,
     "metadata": {},
     "output_type": "execute_result"
    }
   ],
   "source": [
    "type(c)"
   ]
  },
  {
   "cell_type": "code",
   "execution_count": 28,
   "id": "377b71d4-9f14-4868-bef4-2fb709bb7a24",
   "metadata": {},
   "outputs": [
    {
     "data": {
      "text/plain": [
       "8.0"
      ]
     },
     "execution_count": 28,
     "metadata": {},
     "output_type": "execute_result"
    }
   ],
   "source": [
    "c.real"
   ]
  },
  {
   "cell_type": "code",
   "execution_count": 29,
   "id": "bcbf7e18-4531-4e6b-a201-686a43884ee1",
   "metadata": {},
   "outputs": [
    {
     "data": {
      "text/plain": [
       "6.0"
      ]
     },
     "execution_count": 29,
     "metadata": {},
     "output_type": "execute_result"
    }
   ],
   "source": [
    "c.imag"
   ]
  },
  {
   "cell_type": "markdown",
   "id": "a3aed57e-fa74-4ecc-86c4-b90e3fe23faf",
   "metadata": {},
   "source": [
    "Question-7: what is correct way to declare variable named age and assign value 25 to it ?"
   ]
  },
  {
   "cell_type": "raw",
   "id": "8dcc9f66-0e11-4262-a687-a0445009c311",
   "metadata": {},
   "source": [
    "first of all we create a variable name age and value 25 to it with the help of assignment operator."
   ]
  },
  {
   "cell_type": "code",
   "execution_count": 31,
   "id": "3a26c7a8-69f2-4694-88f1-e91ab11d6267",
   "metadata": {},
   "outputs": [],
   "source": [
    "age =25"
   ]
  },
  {
   "cell_type": "code",
   "execution_count": 32,
   "id": "052a8007-5601-4518-aa69-b8cbb5ba5573",
   "metadata": {},
   "outputs": [
    {
     "name": "stdout",
     "output_type": "stream",
     "text": [
      "25\n"
     ]
    }
   ],
   "source": [
    "print(age)"
   ]
  },
  {
   "cell_type": "code",
   "execution_count": 33,
   "id": "580dd315-3451-49ba-a7aa-2fd8d26369f3",
   "metadata": {},
   "outputs": [
    {
     "data": {
      "text/plain": [
       "int"
      ]
     },
     "execution_count": 33,
     "metadata": {},
     "output_type": "execute_result"
    }
   ],
   "source": [
    "type(age)"
   ]
  },
  {
   "cell_type": "markdown",
   "id": "984e8a32-b82d-4c7f-a323-b633342c59c1",
   "metadata": {},
   "source": [
    "Question-8: declare a variable price and assign the value 9.99 to it ."
   ]
  },
  {
   "cell_type": "raw",
   "id": "2db86bd9-78ad-41de-a1c1-f492cfde40bb",
   "metadata": {},
   "source": [
    "create a variable named price and assign value 9.99 to it with the help of assignment operator."
   ]
  },
  {
   "cell_type": "code",
   "execution_count": 34,
   "id": "9053ee63-105c-4357-b250-928054b2dd8c",
   "metadata": {},
   "outputs": [
    {
     "name": "stdout",
     "output_type": "stream",
     "text": [
      "9.99\n",
      "<class 'float'>\n"
     ]
    }
   ],
   "source": [
    "price=9.99\n",
    "\n",
    "print(price)\n",
    "print(type(price))"
   ]
  },
  {
   "cell_type": "markdown",
   "id": "03b65ca6-fffa-47aa-a6eb-4351bfc76698",
   "metadata": {},
   "source": [
    "Question-9 :create a variable named name and assign your full name to it as a string."
   ]
  },
  {
   "cell_type": "code",
   "execution_count": 35,
   "id": "d96360cb-ed68-4f01-9060-38c8a07171c6",
   "metadata": {},
   "outputs": [],
   "source": [
    "s=\"Harshit\""
   ]
  },
  {
   "cell_type": "code",
   "execution_count": 36,
   "id": "2e862c02-f982-4056-ad0f-3ffc97a5a487",
   "metadata": {},
   "outputs": [
    {
     "data": {
      "text/plain": [
       "str"
      ]
     },
     "execution_count": 36,
     "metadata": {},
     "output_type": "execute_result"
    }
   ],
   "source": [
    "type(s)"
   ]
  },
  {
   "cell_type": "code",
   "execution_count": 37,
   "id": "69e0f169-80cc-47cf-b581-0bc1e37c5463",
   "metadata": {},
   "outputs": [
    {
     "data": {
      "text/plain": [
       "7"
      ]
     },
     "execution_count": 37,
     "metadata": {},
     "output_type": "execute_result"
    }
   ],
   "source": [
    "len(s)"
   ]
  },
  {
   "cell_type": "code",
   "execution_count": 38,
   "id": "e6c3d08c-2608-461c-9ca5-2f41dfa0a41c",
   "metadata": {},
   "outputs": [
    {
     "name": "stdout",
     "output_type": "stream",
     "text": [
      "Harshit\n"
     ]
    }
   ],
   "source": [
    "print(s)"
   ]
  },
  {
   "cell_type": "markdown",
   "id": "a81c5c36-d518-49e1-b088-188ef154a1be",
   "metadata": {},
   "source": [
    "Question-10: given the string \"Hello,World!\".extract the subsrting World from it."
   ]
  },
  {
   "cell_type": "code",
   "execution_count": 39,
   "id": "01d5d8ad-2389-4ccb-842b-a44b41cd5da0",
   "metadata": {},
   "outputs": [],
   "source": [
    "s1=\"Hello,World!\""
   ]
  },
  {
   "cell_type": "code",
   "execution_count": 40,
   "id": "9327cf16-6338-4189-b0ba-7d80bd7a26b4",
   "metadata": {},
   "outputs": [
    {
     "data": {
      "text/plain": [
       "str"
      ]
     },
     "execution_count": 40,
     "metadata": {},
     "output_type": "execute_result"
    }
   ],
   "source": [
    "type(s1)"
   ]
  },
  {
   "cell_type": "code",
   "execution_count": 42,
   "id": "a83d80e3-63cb-4d0a-8df3-ee7d5ee6f82f",
   "metadata": {},
   "outputs": [],
   "source": [
    " sub_string=s1[6:11]"
   ]
  },
  {
   "cell_type": "code",
   "execution_count": 43,
   "id": "79fabfc9-5eb1-41c7-8a08-955624d40f65",
   "metadata": {},
   "outputs": [
    {
     "name": "stdout",
     "output_type": "stream",
     "text": [
      "World\n"
     ]
    }
   ],
   "source": [
    "print(sub_string)"
   ]
  },
  {
   "cell_type": "raw",
   "id": "ddc150d8-8928-457e-8284-4432c7cdfbea",
   "metadata": {},
   "source": [
    "we can extract substring World by the help of slicing."
   ]
  },
  {
   "cell_type": "markdown",
   "id": "d22d586e-a881-4814-a8de-65a4dca239c1",
   "metadata": {},
   "source": [
    "Question-11: crate a variable named \"is_student\" and assin it a boolean value indicating currently you are the student or not."
   ]
  },
  {
   "cell_type": "raw",
   "id": "455c5a73-4bf1-4d27-9e50-2e9692f6e778",
   "metadata": {},
   "source": [
    "create variable named \"is_student\" and assin a bollean value."
   ]
  },
  {
   "cell_type": "code",
   "execution_count": 44,
   "id": "d59f512b-78a1-4488-b134-b86f5548e262",
   "metadata": {},
   "outputs": [],
   "source": [
    "is_student=1"
   ]
  },
  {
   "cell_type": "code",
   "execution_count": 45,
   "id": "2f5401c2-724e-4498-8747-9855beea5567",
   "metadata": {},
   "outputs": [
    {
     "data": {
      "text/plain": [
       "int"
      ]
     },
     "execution_count": 45,
     "metadata": {},
     "output_type": "execute_result"
    }
   ],
   "source": [
    "type(is_student)"
   ]
  },
  {
   "cell_type": "code",
   "execution_count": 46,
   "id": "95dbc3d6-865e-4bab-b437-2f3b51082bcd",
   "metadata": {},
   "outputs": [
    {
     "ename": "SyntaxError",
     "evalue": "invalid syntax (3179872881.py, line 4)",
     "output_type": "error",
     "traceback": [
      "\u001b[0;36m  Cell \u001b[0;32mIn[46], line 4\u001b[0;36m\u001b[0m\n\u001b[0;31m    elif:\u001b[0m\n\u001b[0m        ^\u001b[0m\n\u001b[0;31mSyntaxError\u001b[0m\u001b[0;31m:\u001b[0m invalid syntax\n"
     ]
    }
   ],
   "source": [
    "for i in is_student:\n",
    "    if(i==1):\n",
    "        print(\"i am currently a student\")\n",
    "    elif:\n",
    "        print(\"i am not a student currently\")"
   ]
  },
  {
   "cell_type": "code",
   "execution_count": null,
   "id": "06edb2aa-d3a2-4a36-8d74-ea1f43e59405",
   "metadata": {},
   "outputs": [],
   "source": []
  }
 ],
 "metadata": {
  "kernelspec": {
   "display_name": "Python 3 (ipykernel)",
   "language": "python",
   "name": "python3"
  },
  "language_info": {
   "codemirror_mode": {
    "name": "ipython",
    "version": 3
   },
   "file_extension": ".py",
   "mimetype": "text/x-python",
   "name": "python",
   "nbconvert_exporter": "python",
   "pygments_lexer": "ipython3",
   "version": "3.10.8"
  }
 },
 "nbformat": 4,
 "nbformat_minor": 5
}
