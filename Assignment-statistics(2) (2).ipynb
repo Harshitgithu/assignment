{
 "cells": [
  {
   "cell_type": "markdown",
   "id": "7a7b9679-e6b2-489f-9776-7f1e938d4913",
   "metadata": {},
   "source": [
    "## Question-1: what are three measures of central tendency?"
   ]
  },
  {
   "cell_type": "code",
   "execution_count": 1,
   "id": "6f948de7-ba33-47d5-aa55-953e9b79ffa1",
   "metadata": {},
   "outputs": [],
   "source": [
    "## Threee measures of centrl tendency are:\n",
    "## 1) mean \n",
    "## 2) median\n",
    "## 3) mode"
   ]
  },
  {
   "cell_type": "markdown",
   "id": "c01f07b7-fa54-4ec0-a167-147f2a239ac9",
   "metadata": {},
   "source": [
    "## Question-2 What is the difference between the mean, median, and mode? How are they used to measure the central tendency of a dataset?"
   ]
  },
  {
   "cell_type": "code",
   "execution_count": 2,
   "id": "27c5e5af-b13b-48d4-b364-9e5d0743027c",
   "metadata": {},
   "outputs": [],
   "source": [
    "## The difference between mean, median and mode are: Mean is the average value of the given observations. Median is the middle value of the given observations. Mode is the most repeated value in the given observation.\n"
   ]
  },
  {
   "cell_type": "markdown",
   "id": "2359ae12-31c6-4287-bae3-4fa7319f2516",
   "metadata": {},
   "source": [
    "## Question-3: Measure the three measures of central tendency for the given height data:\n",
    "## [178,177,176,177,178.2,178,175,179,180,175,178.9,176.2,177,172.5,178,176.5]\n"
   ]
  },
  {
   "cell_type": "code",
   "execution_count": 3,
   "id": "b5b454a2-9a2f-48ff-8744-4b898917d869",
   "metadata": {},
   "outputs": [],
   "source": [
    "d=[178,177,176,177,178.2,178,175,179,180,175,178.9,176.2,177,172.5,178,176.5]"
   ]
  },
  {
   "cell_type": "code",
   "execution_count": 4,
   "id": "5ff00e62-0239-458f-a3aa-91eff02cdb67",
   "metadata": {},
   "outputs": [],
   "source": [
    "import numpy as np"
   ]
  },
  {
   "cell_type": "code",
   "execution_count": 5,
   "id": "219dc054-3daf-4b8c-98ad-80a55d98a458",
   "metadata": {},
   "outputs": [
    {
     "data": {
      "text/plain": [
       "177.01875"
      ]
     },
     "execution_count": 5,
     "metadata": {},
     "output_type": "execute_result"
    }
   ],
   "source": [
    "np.mean(d)"
   ]
  },
  {
   "cell_type": "code",
   "execution_count": 8,
   "id": "d3b19340-f9ac-4fad-907b-3b6d8b262860",
   "metadata": {},
   "outputs": [
    {
     "data": {
      "text/plain": [
       "177.0"
      ]
     },
     "execution_count": 8,
     "metadata": {},
     "output_type": "execute_result"
    }
   ],
   "source": [
    "np.median(d)"
   ]
  },
  {
   "cell_type": "code",
   "execution_count": 9,
   "id": "70752535-b7de-4a42-813e-4771c832c5d3",
   "metadata": {},
   "outputs": [],
   "source": [
    "from scipy import stats"
   ]
  },
  {
   "cell_type": "code",
   "execution_count": 10,
   "id": "22d7af47-471d-4ea9-bdab-82d64a06595e",
   "metadata": {},
   "outputs": [
    {
     "name": "stderr",
     "output_type": "stream",
     "text": [
      "/tmp/ipykernel_127/3857837850.py:1: FutureWarning: Unlike other reduction functions (e.g. `skew`, `kurtosis`), the default behavior of `mode` typically preserves the axis it acts along. In SciPy 1.11.0, this behavior will change: the default value of `keepdims` will become False, the `axis` over which the statistic is taken will be eliminated, and the value None will no longer be accepted. Set `keepdims` to True or False to avoid this warning.\n",
      "  stats.mode(d)\n"
     ]
    },
    {
     "data": {
      "text/plain": [
       "ModeResult(mode=array([177.]), count=array([3]))"
      ]
     },
     "execution_count": 10,
     "metadata": {},
     "output_type": "execute_result"
    }
   ],
   "source": [
    "stats.mode(d)"
   ]
  },
  {
   "cell_type": "markdown",
   "id": "98218230-6aeb-49f9-b1e3-6ad24dbd27bd",
   "metadata": {},
   "source": [
    "## Question-5 How are measures of dispersion such as range, variance, and standard deviation used to describe the spread of a dataset? Provide an example."
   ]
  },
  {
   "cell_type": "code",
   "execution_count": 11,
   "id": "7fa10a34-131d-4c92-849d-7c0a1a18e271",
   "metadata": {},
   "outputs": [],
   "source": [
    "## Range, variance, and standard deviation all measure the spread or variability of a data set in different ways. The range is easy to calculate—it's the difference between the largest and smallest data points in a set. Standard deviation is the square root of the variance."
   ]
  },
  {
   "cell_type": "code",
   "execution_count": 12,
   "id": "3b442263-482e-4995-aac5-324efe9edcd2",
   "metadata": {},
   "outputs": [],
   "source": [
    "ages_lst=[23,43,23,56,74,32,68,98,45,32]"
   ]
  },
  {
   "cell_type": "code",
   "execution_count": 13,
   "id": "5f72f4c6-8c52-4e9b-bd77-d6ce53565a41",
   "metadata": {},
   "outputs": [],
   "source": [
    "import numpy as np"
   ]
  },
  {
   "cell_type": "code",
   "execution_count": 14,
   "id": "149c143b-455b-4174-b6fe-6f0165b4ca1f",
   "metadata": {},
   "outputs": [
    {
     "data": {
      "text/plain": [
       "541.64"
      ]
     },
     "execution_count": 14,
     "metadata": {},
     "output_type": "execute_result"
    }
   ],
   "source": [
    "## variance\n",
    "np.var(ages_lst)"
   ]
  },
  {
   "cell_type": "code",
   "execution_count": 15,
   "id": "9fb1a93d-ea16-4396-a234-76d08031eb6e",
   "metadata": {},
   "outputs": [
    {
     "data": {
      "text/plain": [
       "23.273160507331188"
      ]
     },
     "execution_count": 15,
     "metadata": {},
     "output_type": "execute_result"
    }
   ],
   "source": [
    "#std\n",
    "np.std(ages_lst)"
   ]
  },
  {
   "cell_type": "markdown",
   "id": "12ae518a-0098-484c-b5e2-2c9523acd16f",
   "metadata": {},
   "source": [
    "## Question-4: Find the standard deviation for the given data:\n",
    "## [178,177,176,177,178.2,178,175,179,180,175,178.9,176.2,177,172.5,178,176.5]"
   ]
  },
  {
   "cell_type": "code",
   "execution_count": 16,
   "id": "38b742fd-34d8-44b1-835c-5238077abf92",
   "metadata": {},
   "outputs": [],
   "source": [
    "a=[178,177,176,177,178.2,178,175,179,180,175,178.9,176.2,177,172.5,178,176.5]"
   ]
  },
  {
   "cell_type": "code",
   "execution_count": 17,
   "id": "29ce96d8-72bb-4a4a-9f7b-2f0e5de2e335",
   "metadata": {},
   "outputs": [],
   "source": [
    "import numpy as np"
   ]
  },
  {
   "cell_type": "code",
   "execution_count": 18,
   "id": "2233c2ba-843c-4c54-bca8-4c504e09bad1",
   "metadata": {},
   "outputs": [
    {
     "data": {
      "text/plain": [
       "1.7885814036548633"
      ]
     },
     "execution_count": 18,
     "metadata": {},
     "output_type": "execute_result"
    }
   ],
   "source": [
    "np.std(a)"
   ]
  },
  {
   "cell_type": "markdown",
   "id": "734df5a9-e587-48e9-950d-192fb44131cd",
   "metadata": {},
   "source": [
    "## Question-6 What is a Venn diagram?"
   ]
  },
  {
   "cell_type": "code",
   "execution_count": 19,
   "id": "11134f2e-a186-4363-ac8e-3526afdcae36",
   "metadata": {},
   "outputs": [],
   "source": [
    "## A Venn diagram is an illustration that uses circles to show the relationships among things or finite groups of things.\n"
   ]
  },
  {
   "cell_type": "markdown",
   "id": "e9637008-d821-42e8-b397-6b6e18b040c6",
   "metadata": {},
   "source": [
    "## Question-7:For the two given sets A = (2,3,4,5,6,7) & B = (0,2,6,8,10). Find:\n",
    "## (i) A B\n",
    "## (ii) A ⋃ B "
   ]
  },
  {
   "cell_type": "code",
   "execution_count": 21,
   "id": "071e508f-96c6-409c-8d6a-38fee41d9d7f",
   "metadata": {},
   "outputs": [],
   "source": [
    "## i) A intersection B is (2,6)\n",
    "## ii) A union B is (0,2,6,7,5,4,3,10,8)"
   ]
  },
  {
   "cell_type": "markdown",
   "id": "4090c32a-cad6-4205-98f5-78f3f97ce862",
   "metadata": {},
   "source": [
    "## Question-8: What do you understand about skewness in data?"
   ]
  },
  {
   "cell_type": "code",
   "execution_count": 22,
   "id": "d2cefaac-b779-4ecc-b745-633ce554f8c2",
   "metadata": {},
   "outputs": [],
   "source": [
    "## Skewness is a measurement of the distortion of symmetrical distribution or asymmetry in a data set. Skewness is demonstrated on a bell curve when data points are not distributed symmetrically to the left and right sides of the median on a bell curve."
   ]
  },
  {
   "cell_type": "markdown",
   "id": "39d5173b-606f-44b1-aa65-dbf11852fcae",
   "metadata": {},
   "source": [
    "## Question-9 If a data is right skewed then what will be the position of median with respect to mean?"
   ]
  },
  {
   "cell_type": "code",
   "execution_count": 23,
   "id": "d6a9346c-32b6-4d25-b774-47df6f1cd55e",
   "metadata": {},
   "outputs": [],
   "source": [
    "## if data is right skewed then mode<median<mean."
   ]
  },
  {
   "cell_type": "code",
   "execution_count": 24,
   "id": "5869a7d1-e47d-4621-b5fe-0df6e2c6b35a",
   "metadata": {},
   "outputs": [],
   "source": [
    "## On a right-skewed histogram, the mean, median, and mode are all different. In this case, the mode is the highest point of the histogram, whereas the median and mean fall to the right of it (or, visually, the right of the peak). Note that the mean will always be to the right of the median."
   ]
  },
  {
   "cell_type": "markdown",
   "id": "32d716f3-ab0b-4bdb-8af7-dbb6a2de50c9",
   "metadata": {},
   "source": [
    "## Question-10 Explain the difference between covariance and correlation. How are these measures used in statistical analysis?"
   ]
  },
  {
   "cell_type": "code",
   "execution_count": 2,
   "id": "1ffd6122-60b1-4464-8cae-9be96ad0f7b9",
   "metadata": {},
   "outputs": [],
   "source": [
    "## Both covariance and correlation measure the relationship and the dependency between two variables. Covariance indicates the direction of the linear relationship between variables. Correlation measures both the strength and direction of the linear relationship between two variables."
   ]
  },
  {
   "cell_type": "markdown",
   "id": "a4f57250-67c4-40bc-9245-f1918535b3f8",
   "metadata": {},
   "source": [
    "## Question-12 For a normal distribution data what is the relationship between its measure of central tendency?"
   ]
  },
  {
   "cell_type": "code",
   "execution_count": 3,
   "id": "9b16e6b5-2668-4d1f-92cd-755fde2368b5",
   "metadata": {},
   "outputs": [],
   "source": [
    "## For normally distributed data, all three measures of central tendency will give you the same answer so they can all be used."
   ]
  },
  {
   "cell_type": "markdown",
   "id": "35148400-57da-456e-b0f0-1c13bcc0fdc3",
   "metadata": {},
   "source": [
    "## Question-13: How is covariance different from correlation?"
   ]
  },
  {
   "cell_type": "code",
   "execution_count": 4,
   "id": "3cfc784a-be80-477b-85f3-30039993ee8d",
   "metadata": {},
   "outputs": [],
   "source": [
    "## Covariance describes the extent to which one variable is related to another whereas correlation states how strongly the given two random variables are related to each other."
   ]
  },
  {
   "cell_type": "markdown",
   "id": "f5532704-23c0-40b4-809d-fd9dfbf4c5da",
   "metadata": {},
   "source": [
    "## Question-14: How do outliers affect measures of central tendency and dispersion? Provide an example."
   ]
  },
  {
   "cell_type": "code",
   "execution_count": 1,
   "id": "91abfbde-8cd4-45e1-935e-f8b69eb3369f",
   "metadata": {},
   "outputs": [],
   "source": [
    "## Outliers are numbers in a data set that are vastly larger or smaller than the other values in the set. Mean, median and mode are measures of central tendency. Mean is the only measure of central tendency that is always affected by an outlier. Mean, the average, is the most popular measure of central tendency."
   ]
  },
  {
   "cell_type": "markdown",
   "id": "1b4e92d1-bd4c-4619-9c9a-49d894a6eaa6",
   "metadata": {},
   "source": [
    "## Question-11 :What is the formula for calculating the sample mean? Provide an example calculation for a dataset."
   ]
  },
  {
   "cell_type": "code",
   "execution_count": 2,
   "id": "a1110d44-1dc1-49a0-bbfd-8bd68d72b340",
   "metadata": {},
   "outputs": [],
   "source": [
    "## The general formula for calculating the sample mean is given by x̄ = ( Σ xi ) / n. Here, x̄ represents the sample mean, xi refers all X sample values and n stands for the number of sample terms in the data set."
   ]
  },
  {
   "cell_type": "code",
   "execution_count": 3,
   "id": "31d87cb5-b306-4b4d-98b9-145845d2ccc5",
   "metadata": {},
   "outputs": [],
   "source": [
    "## Example 1: Find the sample mean of 60, 57, 109, 50.\n",
    "\n",
    "## Solution: \n",
    "\n",
    "## To find: Sample mean\n",
    "## Sum of terms = 60 + 57 + 109 + 50 = 276\n",
    "## Number of terms = 4\n",
    "## Using sample mean formula,\n",
    "## mean = (sum of terms)/(number of terms)\n",
    "## mean = 276/4 = 69"
   ]
  },
  {
   "cell_type": "code",
   "execution_count": null,
   "id": "34edfa1a-721b-478d-a952-644c42578494",
   "metadata": {},
   "outputs": [],
   "source": []
  }
 ],
 "metadata": {
  "kernelspec": {
   "display_name": "Python 3 (ipykernel)",
   "language": "python",
   "name": "python3"
  },
  "language_info": {
   "codemirror_mode": {
    "name": "ipython",
    "version": 3
   },
   "file_extension": ".py",
   "mimetype": "text/x-python",
   "name": "python",
   "nbconvert_exporter": "python",
   "pygments_lexer": "ipython3",
   "version": "3.10.8"
  }
 },
 "nbformat": 4,
 "nbformat_minor": 5
}
