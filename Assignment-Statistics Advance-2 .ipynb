{
 "cells": [
  {
   "cell_type": "markdown",
   "id": "ba45e75b-0621-411a-ac45-44495ce105bb",
   "metadata": {},
   "source": [
    "## Question-1: What are the Probability Mass Function (PMF) and Probability Density Function (PDF)? Explain with an example."
   ]
  },
  {
   "cell_type": "code",
   "execution_count": 1,
   "id": "83e43946-5855-412a-9149-7e9185eb0bfb",
   "metadata": {},
   "outputs": [],
   "source": [
    "## Probability mass function denotes the probability that a discrete random variable will take on a particular value. Probability density function gives the probability that a continuous random variable will lie between a certain specified interval. It is used for discrete random variables."
   ]
  },
  {
   "cell_type": "markdown",
   "id": "eff8ba94-f460-4aee-be2f-3cae2838150c",
   "metadata": {},
   "source": [
    "## Question-2: What is Cumulative Density Function (CDF)? Explain with an example. Why CDF is used?"
   ]
  },
  {
   "cell_type": "code",
   "execution_count": 2,
   "id": "440b49e1-1904-4fd6-9afb-6be660f0c02a",
   "metadata": {},
   "outputs": [],
   "source": [
    "## The cumulative distribution function is used to describe the probability distribution of random variables. It can be used to describe the probability for a discrete, continuous or mixed variable. It is obtained by summing up the probability density function and getting the cumulative probability for a random variable."
   ]
  },
  {
   "cell_type": "markdown",
   "id": "8b9a1e00-5266-4334-8099-633336589310",
   "metadata": {},
   "source": [
    "## Question-4: Explain the importance of Normal Distribution. Give a few real-life examples of Normal Distribution."
   ]
  },
  {
   "cell_type": "code",
   "execution_count": 3,
   "id": "757eccd6-d2ca-4a1b-8c2b-00df264ee119",
   "metadata": {},
   "outputs": [],
   "source": [
    "## normal distribution is good enough to represent the distribution of continuous variable like-height,weight,blood pressure etc.. often used to aproximate other distribution. normal distribution has significant use in statistical quality control."
   ]
  },
  {
   "cell_type": "markdown",
   "id": "f70f73b4-20a1-41d8-96fc-ac1d9981048d",
   "metadata": {},
   "source": [
    "## Question-5: What is Bernaulli Distribution? Give an Example. What is the difference between Bernoulli Distribution and Binomial Distribution?"
   ]
  },
  {
   "cell_type": "code",
   "execution_count": 4,
   "id": "5b92cca0-db6e-481d-a739-175f7ce49503",
   "metadata": {},
   "outputs": [],
   "source": [
    "## Bernoulli deals with the outcome of the single trial of the event, whereas Binomial deals with the outcome of the multiple trials of the single event. Bernoulli is used when the outcome of an event is required for only one time, whereas the Binomial is used when the outcome of an event is required multiple times."
   ]
  },
  {
   "cell_type": "markdown",
   "id": "e2ac9860-7a34-4b63-b577-dde8971474b0",
   "metadata": {},
   "source": [
    "## Question-7: Explain uniform Distribution with an example."
   ]
  },
  {
   "cell_type": "code",
   "execution_count": 6,
   "id": "f1c31713-c5ae-468f-bef2-d9bd078eee4e",
   "metadata": {},
   "outputs": [],
   "source": [
    "## n statistics, uniform distribution refers to a type of probability distribution in which all outcomes are equally likely. A deck of cards has within it uniform distributions because the likelihood of drawing a heart, a club, a diamond, or a spade is equally likely."
   ]
  },
  {
   "cell_type": "markdown",
   "id": "4fe18f65-ed69-4d40-aa29-38e1a8d7df04",
   "metadata": {},
   "source": [
    "## Question-8: What is the z score? State the importance of the z score."
   ]
  },
  {
   "cell_type": "code",
   "execution_count": 7,
   "id": "fb150b91-a606-4ace-a494-9fd8f8540cdc",
   "metadata": {},
   "outputs": [],
   "source": [
    "## A z-score measures the distance between a data point and the mean using standard deviations. Z-scores can be positive or negative. The sign tells you whether the observation is above or below the mean."
   ]
  },
  {
   "cell_type": "markdown",
   "id": "b2eee79f-488f-46ea-91d6-a8858b93ce12",
   "metadata": {},
   "source": [
    "## Question-9: What is Central Limit Theorem? State the significance of the Central Limit Theorem."
   ]
  },
  {
   "cell_type": "code",
   "execution_count": 9,
   "id": "50a09ed5-ec75-4023-8170-0c34ca35e778",
   "metadata": {},
   "outputs": [],
   "source": [
    "## if you take a sufficiently large sample size from a population with a finite level of variance, the mean of all samples from that population will be roughly equal to the population mean."
   ]
  },
  {
   "cell_type": "markdown",
   "id": "8a54da0d-4191-4da9-97d1-0a826e2b4c90",
   "metadata": {},
   "source": [
    "## Question-10: State the assumptions of the Central Limit Theorem."
   ]
  },
  {
   "cell_type": "code",
   "execution_count": 10,
   "id": "793e9c2d-050d-4dbd-9ef2-6d89b245db65",
   "metadata": {},
   "outputs": [],
   "source": [
    "##  as long as the sample is based on 30 or more observations, the sampling distribution of the mean can be safely assumed to be normal."
   ]
  },
  {
   "cell_type": "markdown",
   "id": "1e812bfe-ca86-44a6-8d49-08e4fc9ae844",
   "metadata": {},
   "source": [
    "## Question-3: What are some examples of situations where the normal distribution might be used as a model? Explain how the parameters of the normal distribution relate to the shape of the distribution."
   ]
  },
  {
   "cell_type": "code",
   "execution_count": 11,
   "id": "2fe576d8-4c08-4286-84f4-58ddcec67613",
   "metadata": {},
   "outputs": [],
   "source": [
    "## The height of people is an example of normal distribution. Most of the people in a specific population are of average height. The number of people taller and shorter than the average height people is almost equal, and a very small number of people are either extremely tall or extremely short."
   ]
  },
  {
   "cell_type": "code",
   "execution_count": null,
   "id": "71380345-0ffc-49c7-98a5-a7417b505bb6",
   "metadata": {},
   "outputs": [],
   "source": []
  }
 ],
 "metadata": {
  "kernelspec": {
   "display_name": "Python 3 (ipykernel)",
   "language": "python",
   "name": "python3"
  },
  "language_info": {
   "codemirror_mode": {
    "name": "ipython",
    "version": 3
   },
   "file_extension": ".py",
   "mimetype": "text/x-python",
   "name": "python",
   "nbconvert_exporter": "python",
   "pygments_lexer": "ipython3",
   "version": "3.10.8"
  }
 },
 "nbformat": 4,
 "nbformat_minor": 5
}
