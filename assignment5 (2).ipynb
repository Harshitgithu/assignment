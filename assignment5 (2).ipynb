{
 "cells": [
  {
   "cell_type": "markdown",
   "id": "99cd4a4c-d458-4615-ae37-eb4cb130b066",
   "metadata": {},
   "source": [
    "## Question-1: explain class and objects with respect to oops. give suitable example."
   ]
  },
  {
   "cell_type": "code",
   "execution_count": 1,
   "id": "19ebe1a8-e74f-4289-9458-04b274ff7c7a",
   "metadata": {},
   "outputs": [],
   "source": [
    "## class- classes are user defined data types that act as a blueprint for individual object,attributes and methods.\n",
    "\n",
    "## objects- objects are instances of class created with specially defined data type and object is collection of variables and methods."
   ]
  },
  {
   "cell_type": "code",
   "execution_count": 8,
   "id": "2d9d8921-1a7d-4aca-8870-43638577bebd",
   "metadata": {},
   "outputs": [],
   "source": [
    "class bike:\n",
    "    def __init__(self,bike_name,model,year,speed):\n",
    "        self.bike_name=bike_name\n",
    "        self.model=model\n",
    "        self.year=year\n",
    "        self.speed=speed\n",
    "        "
   ]
  },
  {
   "cell_type": "code",
   "execution_count": 9,
   "id": "8cd549a5-6d53-4da8-b7c7-44299a2eb68d",
   "metadata": {},
   "outputs": [],
   "source": [
    "class_object=bike(\"duve\",\"huve\",2024,240)"
   ]
  },
  {
   "cell_type": "markdown",
   "id": "12c56711-9844-4539-ae0b-570bc0be64dd",
   "metadata": {},
   "source": [
    "## Question-2: Nam four pillars of oops."
   ]
  },
  {
   "cell_type": "code",
   "execution_count": 16,
   "id": "fd872282-c6ef-4131-8bbf-0af21f4180e1",
   "metadata": {},
   "outputs": [],
   "source": [
    "## four pillars of oops are as follows:\n",
    "      ##  1.encapsulation\n",
    "      ##  2.abstraction\n",
    "      ##  3.polymorphism\n",
    "      ##  4.inheritance"
   ]
  },
  {
   "cell_type": "markdown",
   "id": "3c18635c-b47b-4253-8799-4e88a85f3d0e",
   "metadata": {},
   "source": [
    "## Question-3: explin why __init__() function is used."
   ]
  },
  {
   "cell_type": "code",
   "execution_count": 17,
   "id": "67544547-5229-4ba2-89ab-01c91fa01f06",
   "metadata": {},
   "outputs": [],
   "source": [
    "## __init__ function is called the constructor or initializer. the __init__ is called every time automaticaaly when a class is being used to create objects. the __init__ method lets the class initialize the object attributes .\n"
   ]
  },
  {
   "cell_type": "code",
   "execution_count": 18,
   "id": "d4a2cbf7-415c-4b2a-9eb7-97362dfbf147",
   "metadata": {},
   "outputs": [],
   "source": [
    "class bike:\n",
    "    def __init__(self,bike_name,model,year,speed):\n",
    "        self.bike_name=bike_name\n",
    "        self.model=model\n",
    "        self.year=year\n",
    "        self.speed=speed\n",
    "        "
   ]
  },
  {
   "cell_type": "markdown",
   "id": "4ea5b7e8-8bc8-45fb-bd43-0b42c206417f",
   "metadata": {},
   "source": [
    "## Question-4: why self is used in oops?"
   ]
  },
  {
   "cell_type": "code",
   "execution_count": 19,
   "id": "4b018d06-9c25-41de-9cd2-41817496d677",
   "metadata": {},
   "outputs": [],
   "source": [
    " ## self represents the instance of class. by using self we can access the attributes and methods of class.it binds the attributes with given argument."
   ]
  },
  {
   "cell_type": "code",
   "execution_count": 20,
   "id": "906ba095-7162-471e-921d-6d1b7dd4d243",
   "metadata": {},
   "outputs": [],
   "source": [
    "class test1:\n",
    "    def message(self):\n",
    "        return \"this is for test1\""
   ]
  },
  {
   "cell_type": "code",
   "execution_count": 21,
   "id": "991215d9-31f1-4ed7-9bf0-fd1b8e2f9251",
   "metadata": {},
   "outputs": [],
   "source": [
    "class_object=test1()"
   ]
  },
  {
   "cell_type": "code",
   "execution_count": 22,
   "id": "339b91ed-709b-49a7-971a-44dd18a428aa",
   "metadata": {},
   "outputs": [
    {
     "data": {
      "text/plain": [
       "'this is for test1'"
      ]
     },
     "execution_count": 22,
     "metadata": {},
     "output_type": "execute_result"
    }
   ],
   "source": [
    "class_object.message()"
   ]
  },
  {
   "cell_type": "markdown",
   "id": "c3f0b926-1b8f-494d-95c8-971e893da1e9",
   "metadata": {},
   "source": [
    "## Question-5: What is inheritance? give example for each for type of inheritance."
   ]
  },
  {
   "cell_type": "code",
   "execution_count": 23,
   "id": "302293c9-9109-44f0-9bd0-c86a815d0d53",
   "metadata": {},
   "outputs": [],
   "source": [
    "## inheritance is a mechanism in which one class acquire the property of another class. with inheritance we can use the ields and methods of existing class."
   ]
  },
  {
   "cell_type": "code",
   "execution_count": 26,
   "id": "8afa04e1-eb87-42af-9740-24ed53548e36",
   "metadata": {},
   "outputs": [],
   "source": [
    "## there are five type of inheritance:\n",
    "     ##   1.single inheritance\n",
    "    ##    2.multiple inheritance\n",
    "    ##    3. multilevel inheritance\n",
    "    ##    4. hierarchical inheritance\n",
    "    ##    5. hybrid inheritance"
   ]
  },
  {
   "cell_type": "code",
   "execution_count": 34,
   "id": "fe84934f-244d-436a-96c2-d9a5c695b24b",
   "metadata": {},
   "outputs": [],
   "source": [
    "## single inheritance:\n",
    "class parent:\n",
    "        def func1(self):\n",
    "            print(\"this function is in parent class\")\n",
    "            \n",
    "class child(parent):\n",
    "        def func2(self):\n",
    "            print(\"this is function in child class\")"
   ]
  },
  {
   "cell_type": "code",
   "execution_count": 35,
   "id": "074ce140-4134-4032-965c-47a96ec4c4e2",
   "metadata": {},
   "outputs": [],
   "source": [
    "object=child()"
   ]
  },
  {
   "cell_type": "code",
   "execution_count": 36,
   "id": "3bb9f8bb-6ca8-409b-a066-6e85b44e396c",
   "metadata": {},
   "outputs": [
    {
     "name": "stdout",
     "output_type": "stream",
     "text": [
      "this function is in parent class\n"
     ]
    }
   ],
   "source": [
    "object.func1()"
   ]
  },
  {
   "cell_type": "code",
   "execution_count": 38,
   "id": "a4582523-e9db-454d-84b8-20cd0197d4ce",
   "metadata": {},
   "outputs": [
    {
     "name": "stdout",
     "output_type": "stream",
     "text": [
      "this is function in child class\n"
     ]
    }
   ],
   "source": [
    "object.func2()"
   ]
  },
  {
   "cell_type": "code",
   "execution_count": 41,
   "id": "ddb8254b-e860-42c9-a390-c50382b86111",
   "metadata": {},
   "outputs": [],
   "source": [
    "## multiple inheritance:\n",
    "class mother:\n",
    "    mothername=\"\"\n",
    "    \n",
    "    def Mother(self):\n",
    "        print(self.mothername)\n",
    "        \n",
    "class father:\n",
    "    fathername=\"\"\n",
    "    \n",
    "    def father(self):\n",
    "        print(self.fathername)\n",
    "        \n",
    "class son(mother,father):\n",
    "    def parents(self):\n",
    "        print(\"father:\",self.fathername)\n",
    "        print(\"mother:\",self.mothername)"
   ]
  },
  {
   "cell_type": "code",
   "execution_count": 42,
   "id": "5e365fa1-9dd8-492a-8f25-1e0098737b29",
   "metadata": {},
   "outputs": [],
   "source": [
    "s1=son()"
   ]
  },
  {
   "cell_type": "code",
   "execution_count": 43,
   "id": "50aaf994-049b-4e5b-a33f-d13a8a9cc803",
   "metadata": {},
   "outputs": [],
   "source": [
    "s1.fathername=\"ram\""
   ]
  },
  {
   "cell_type": "code",
   "execution_count": 44,
   "id": "8a4c04f1-7f2d-44fb-a3d2-7f7fce25be76",
   "metadata": {},
   "outputs": [],
   "source": [
    "s1.mothername=\"sita\""
   ]
  },
  {
   "cell_type": "code",
   "execution_count": 45,
   "id": "5a573363-e3ea-4be5-be46-df10c76f101c",
   "metadata": {},
   "outputs": [
    {
     "name": "stdout",
     "output_type": "stream",
     "text": [
      "father: ram\n",
      "mother: sita\n"
     ]
    }
   ],
   "source": [
    "s1.parents()"
   ]
  },
  {
   "cell_type": "code",
   "execution_count": 46,
   "id": "2019f68d-20ee-45d7-abc4-9c89cf2c375d",
   "metadata": {},
   "outputs": [],
   "source": [
    "## Multilevel inheritance\n",
    "\n",
    "class class1:\n",
    "    def class4(self):\n",
    "        return \" this is function for class1\"\n",
    "    \n",
    "class class2(class1):\n",
    "    def class6(self):\n",
    "        return \" this is function of class2\"\n",
    "    \n",
    "class class3(class2):\n",
    "    pass"
   ]
  },
  {
   "cell_type": "code",
   "execution_count": 48,
   "id": "5b4af75b-a292-414f-9acc-cc67b029d006",
   "metadata": {},
   "outputs": [],
   "source": [
    "class_object=class3()"
   ]
  },
  {
   "cell_type": "code",
   "execution_count": 49,
   "id": "5b8527f0-5aa3-4377-9b95-476667c9a6be",
   "metadata": {},
   "outputs": [
    {
     "data": {
      "text/plain": [
       "' this is function for class1'"
      ]
     },
     "execution_count": 49,
     "metadata": {},
     "output_type": "execute_result"
    }
   ],
   "source": [
    "class_object.class4()"
   ]
  },
  {
   "cell_type": "code",
   "execution_count": 50,
   "id": "d6fe2fc9-5132-4f4b-843e-ac610a590cee",
   "metadata": {},
   "outputs": [
    {
     "data": {
      "text/plain": [
       "' this is function of class2'"
      ]
     },
     "execution_count": 50,
     "metadata": {},
     "output_type": "execute_result"
    }
   ],
   "source": [
    "class_object.class6()"
   ]
  },
  {
   "cell_type": "code",
   "execution_count": 19,
   "id": "85b1c265-311d-4127-8511-f374425a07a4",
   "metadata": {},
   "outputs": [],
   "source": [
    "## Hierarchical \n",
    "class CLASSA:\n",
    "     def function_1(self):\n",
    "        print(\"parent of class B and C\")\n",
    "              \n",
    "class B(CLASSA):\n",
    "     def function_2(self):\n",
    "        print(\"child class of A\")\n",
    "class C(CLASSA):\n",
    "    def function_3(self):\n",
    "        print(\"parent class of A\")"
   ]
  },
  {
   "cell_type": "code",
   "execution_count": 21,
   "id": "51046012-30f7-44a4-8cfd-a6431229512a",
   "metadata": {},
   "outputs": [],
   "source": [
    "object_b=B()"
   ]
  },
  {
   "cell_type": "code",
   "execution_count": 22,
   "id": "20e9cb52-5498-4527-8771-19840689f040",
   "metadata": {},
   "outputs": [],
   "source": [
    "object_c=C()"
   ]
  },
  {
   "cell_type": "code",
   "execution_count": 23,
   "id": "592a87b3-e300-4e9f-bb51-65bdc83e1f58",
   "metadata": {},
   "outputs": [
    {
     "name": "stdout",
     "output_type": "stream",
     "text": [
      "parent of class B and C\n"
     ]
    }
   ],
   "source": [
    "object_b.function_1()"
   ]
  },
  {
   "cell_type": "code",
   "execution_count": 24,
   "id": "772eaad0-beaa-40df-b1b5-e7439756d443",
   "metadata": {},
   "outputs": [
    {
     "name": "stdout",
     "output_type": "stream",
     "text": [
      "parent of class B and C\n"
     ]
    }
   ],
   "source": [
    "object_c.function_1()"
   ]
  },
  {
   "cell_type": "code",
   "execution_count": 26,
   "id": "3d75dc44-3f7a-42b9-93c1-5f3efa7d3a47",
   "metadata": {},
   "outputs": [],
   "source": [
    "## Hybrid inheritance:\n",
    "class office:\n",
    "     def class1(self):\n",
    "        print(\"this function is in office\")\n",
    "class employee_1(office):\n",
    "    def employee(self):\n",
    "        print(\"this function is in employee\")\n",
    "class chairman:\n",
    "    def chair(self):\n",
    "        print(\"this function is in chairman\")\n",
    "class head(employee_1,chairman):\n",
    "    pass"
   ]
  },
  {
   "cell_type": "code",
   "execution_count": 27,
   "id": "befa9804-a1db-4921-b589-4bc8c87268bc",
   "metadata": {},
   "outputs": [],
   "source": [
    "object=head()"
   ]
  },
  {
   "cell_type": "code",
   "execution_count": 29,
   "id": "5894696b-34b0-47c8-8d1e-6d81b5fbf420",
   "metadata": {},
   "outputs": [
    {
     "name": "stdout",
     "output_type": "stream",
     "text": [
      "this function is in employee\n"
     ]
    }
   ],
   "source": [
    "object.employee()"
   ]
  },
  {
   "cell_type": "code",
   "execution_count": 30,
   "id": "aaea78bc-a0b5-4ec1-bd4e-009db41d9bad",
   "metadata": {},
   "outputs": [
    {
     "name": "stdout",
     "output_type": "stream",
     "text": [
      "this function is in office\n"
     ]
    }
   ],
   "source": [
    "object.class1()"
   ]
  },
  {
   "cell_type": "code",
   "execution_count": null,
   "id": "d77bbba3-a07b-4a3c-b97d-6ac96992a126",
   "metadata": {},
   "outputs": [],
   "source": []
  }
 ],
 "metadata": {
  "kernelspec": {
   "display_name": "Python 3 (ipykernel)",
   "language": "python",
   "name": "python3"
  },
  "language_info": {
   "codemirror_mode": {
    "name": "ipython",
    "version": 3
   },
   "file_extension": ".py",
   "mimetype": "text/x-python",
   "name": "python",
   "nbconvert_exporter": "python",
   "pygments_lexer": "ipython3",
   "version": "3.10.8"
  }
 },
 "nbformat": 4,
 "nbformat_minor": 5
}
