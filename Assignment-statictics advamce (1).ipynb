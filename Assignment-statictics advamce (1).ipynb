{
 "cells": [
  {
   "cell_type": "markdown",
   "id": "633b0a5d-5658-4246-896e-cea952d8b862",
   "metadata": {},
   "source": [
    "## Question-1 :What is the Probability density function?"
   ]
  },
  {
   "cell_type": "code",
   "execution_count": 1,
   "id": "713bdb1b-e2c2-4a3d-b5b1-346ae83d7945",
   "metadata": {},
   "outputs": [],
   "source": [
    "## probability density function is used for distribution of continuos data.\n",
    "## for example-Heigths of students."
   ]
  },
  {
   "cell_type": "markdown",
   "id": "4f221016-ba5e-41a5-bd05-784e9d400f1a",
   "metadata": {},
   "source": [
    "## Question-2: What are the types of Probability distribution?"
   ]
  },
  {
   "cell_type": "code",
   "execution_count": 2,
   "id": "ec25f098-4223-4211-bde4-f121fa5a4681",
   "metadata": {},
   "outputs": [],
   "source": [
    "## Common probability distributions include the binomial distribution, Poisson distribution, and uniform distribution."
   ]
  },
  {
   "cell_type": "markdown",
   "id": "63fa2937-c9bf-49ed-98b4-d10676959f69",
   "metadata": {},
   "source": [
    "## Question-3: Write a Python function to calculate the probability density function of a normal distribution with given mean and standard deviation at a given point."
   ]
  },
  {
   "cell_type": "code",
   "execution_count": 3,
   "id": "d472af7e-76a0-4329-8078-176498dd5f88",
   "metadata": {},
   "outputs": [],
   "source": [
    "import math\n",
    "def normpdf(x, mean, sd):\n",
    "    var = float(sd)**2\n",
    "    denom = (2*math.pi*var)**.5\n",
    "    num = math.exp(-(float(x)-float(mean))**2/(2*var))\n",
    "    return num/denom"
   ]
  },
  {
   "cell_type": "markdown",
   "id": "864eabcc-5af4-4658-9e9c-2ee885869405",
   "metadata": {},
   "source": [
    "## Question-4: What are the properties of Binomial distribution? Give two examples of events where binomial distribution can be applied."
   ]
  },
  {
   "cell_type": "code",
   "execution_count": 5,
   "id": "74415c53-b5ff-4ae0-b0e4-ea948c637569",
   "metadata": {},
   "outputs": [],
   "source": [
    "## A binomial experiment is one that has the following properties: (1) The experiment consists of n identical trials. (2) Each trial results in one of the two outcomes, called a success S and failure F. (3) The probability of success on a single trial is equal to p and remains the same from trial to trial."
   ]
  },
  {
   "cell_type": "code",
   "execution_count": 6,
   "id": "9d4d9417-69a3-4a0d-812d-a59ca39ff0c6",
   "metadata": {},
   "outputs": [],
   "source": [
    "## Two examples of binomial distribution:\n",
    "## tossing of coin n times."
   ]
  },
  {
   "cell_type": "markdown",
   "id": "01c8731c-90ca-4885-83dd-4d990404eb25",
   "metadata": {},
   "source": [
    "## Question-5: Generate a random sample of size 1000 from a binomial distribution with probability of success 0.4 and plot a histogram of the results using matplotlib.\n"
   ]
  },
  {
   "cell_type": "code",
   "execution_count": 7,
   "id": "602a5578-e2e0-4a5f-8cf9-b07297f55885",
   "metadata": {},
   "outputs": [
    {
     "name": "stderr",
     "output_type": "stream",
     "text": [
      "/tmp/ipykernel_119/2228759954.py:5: UserWarning: \n",
      "\n",
      "`distplot` is a deprecated function and will be removed in seaborn v0.14.0.\n",
      "\n",
      "Please adapt your code to use either `displot` (a figure-level function with\n",
      "similar flexibility) or `histplot` (an axes-level function for histograms).\n",
      "\n",
      "For a guide to updating your code to use the new functions, please see\n",
      "https://gist.github.com/mwaskom/de44147ed2974457ad6372750bbe5751\n",
      "\n",
      "  sns.distplot(random.binomial(n=10, p=0.4, size=1000), hist=True, kde=False)\n"
     ]
    },
    {
     "data": {
      "image/png": "[encoded data removed]",
      "text/plain": [
       "<Figure size 640x480 with 1 Axes>"
      ]
     },
     "metadata": {},
     "output_type": "display_data"
    }
   ],
   "source": [
    "from numpy import random\n",
    "import matplotlib.pyplot as plt\n",
    "import seaborn as sns\n",
    "\n",
    "sns.distplot(random.binomial(n=10, p=0.4, size=1000), hist=True, kde=False)\n",
    "\n",
    "plt.show()"
   ]
  },
  {
   "cell_type": "markdown",
   "id": "a9d96196-156f-4a94-a8bb-b0a1f7976751",
   "metadata": {},
   "source": [
    "## Question-7: How Binomial distribution different from Poisson distribution?"
   ]
  },
  {
   "cell_type": "code",
   "execution_count": 8,
   "id": "cff24e41-84a9-4d38-8b41-9227e3ae6d5a",
   "metadata": {},
   "outputs": [],
   "source": [
    "##  Binomial distribution is the one in which the number of outcomes are only 2 and whereas Poisson distribution is the one in which the number of outcomes are unlimited."
   ]
  },
  {
   "cell_type": "markdown",
   "id": "9cf43e7a-60eb-4f5c-a1fb-808bcc9f4f30",
   "metadata": {},
   "source": [
    "## Question-9: How mean and variance are related in Binomial distribution and Poisson distribution?"
   ]
  },
  {
   "cell_type": "code",
   "execution_count": 9,
   "id": "bf91fdfa-f7c1-43b1-b880-06836e8587d4",
   "metadata": {},
   "outputs": [],
   "source": [
    "## In a binomial distribution, there are only two possible outcomes, i.e. success or failure. Conversely, there are an unlimited number of possible outcomes in the case of poisson distribution. In binomial distribution Mean > Variance while in poisson distribution mean = variance."
   ]
  },
  {
   "cell_type": "markdown",
   "id": "3b9d0dc9-6006-4881-9024-1813fad3f38c",
   "metadata": {},
   "source": [
    "## Question-10: In normal distribution with respect to mean position, where does the least frequent data appear?"
   ]
  },
  {
   "cell_type": "code",
   "execution_count": 7,
   "id": "5221dcde-e92f-448b-9429-8a6279dbefb1",
   "metadata": {},
   "outputs": [],
   "source": [
    "## In statistics, the mode is the most commonly observed value in a set of data. For the normal distribution, the mode is also the same value as the mean and median. In many cases, the modal value will differ from the average value in the data."
   ]
  },
  {
   "cell_type": "markdown",
   "id": "a97e0102-6741-4ffc-a0c6-d9326bf6aae3",
   "metadata": {},
   "source": [
    "## Question-8 :Generate a random sample of size 1000 from a Poisson distribution with mean 5 and calculate the sample mean and variance."
   ]
  },
  {
   "cell_type": "code",
   "execution_count": 1,
   "id": "b360754f-1296-4191-b6d5-2a1eaa9ed6d5",
   "metadata": {},
   "outputs": [],
   "source": [
    "import numpy as np\n",
    "s = np.random.poisson(5, 10000)"
   ]
  },
  {
   "cell_type": "code",
   "execution_count": 5,
   "id": "be36ba7d-8fb5-4a69-af61-79e90dc19f3e",
   "metadata": {},
   "outputs": [
    {
     "data": {
      "text/plain": [
       "5.002"
      ]
     },
     "execution_count": 5,
     "metadata": {},
     "output_type": "execute_result"
    }
   ],
   "source": [
    "np.mean(s)"
   ]
  },
  {
   "cell_type": "code",
   "execution_count": 6,
   "id": "6a4630e1-a849-4eda-ad8a-df106258379b",
   "metadata": {},
   "outputs": [
    {
     "data": {
      "text/plain": [
       "2.225577677817604"
      ]
     },
     "execution_count": 6,
     "metadata": {},
     "output_type": "execute_result"
    }
   ],
   "source": [
    "np.std(s)"
   ]
  },
  {
   "cell_type": "code",
   "execution_count": 3,
   "id": "1eacc7c3-b0bd-4a0f-9082-10600fe2488f",
   "metadata": {},
   "outputs": [
    {
     "data": {
      "image/png": "[encoded data removed]",
      "text/plain": [
       "<Figure size 640x480 with 1 Axes>"
      ]
     },
     "metadata": {},
     "output_type": "display_data"
    }
   ],
   "source": [
    "import matplotlib.pyplot as plt\n",
    "count, bins, ignored = plt.hist(s, 14, density=True)\n",
    "plt.show()"
   ]
  },
  {
   "cell_type": "code",
   "execution_count": null,
   "id": "d0bf7de1-8f41-49f9-966c-cfef87e281b6",
   "metadata": {},
   "outputs": [],
   "source": []
  }
 ],
 "metadata": {
  "kernelspec": {
   "display_name": "Python 3 (ipykernel)",
   "language": "python",
   "name": "python3"
  },
  "language_info": {
   "codemirror_mode": {
    "name": "ipython",
    "version": 3
   },
   "file_extension": ".py",
   "mimetype": "text/x-python",
   "name": "python",
   "nbconvert_exporter": "python",
   "pygments_lexer": "ipython3",
   "version": "3.10.8"
  }
 },
 "nbformat": 4,
 "nbformat_minor": 5
}
