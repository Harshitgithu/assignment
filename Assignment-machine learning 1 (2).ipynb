{
 "cells": [
  {
   "cell_type": "markdown",
   "id": "951e665f-5fa5-4020-9fd3-3ad1a5f90b1d",
   "metadata": {
    "tags": []
   },
   "source": [
    "## Question-1: Explain the following with an example\n",
    "## a) Artificial Intelligence\n",
    "## b) Machine learning \n",
    "## c) Deep learning "
   ]
  },
  {
   "cell_type": "code",
   "execution_count": 3,
   "id": "6eeaf8c3-8951-4197-a2c3-6e29248599c6",
   "metadata": {},
   "outputs": [],
   "source": [
    "## a) AI is an smart apllication that can perform its own tasks without any human interaction.\n",
    "## for example-self driving car ,robots."
   ]
  },
  {
   "cell_type": "code",
   "execution_count": 4,
   "id": "81947b8a-4c87-4f6a-b429-d6a0eb6089ca",
   "metadata": {},
   "outputs": [],
   "source": [
    "## b) it provides the stats tool to learn,visualize and develop predictive models from the data.\n",
    "## for example: amazon,netflix."
   ]
  },
  {
   "cell_type": "code",
   "execution_count": 5,
   "id": "de06e59b-e229-4d3f-b7c5-893a2489d35f",
   "metadata": {},
   "outputs": [],
   "source": [
    "## c) it used to mimic human brain. it has multi layered neural network.\n",
    "## for example: object detection,image recognition."
   ]
  },
  {
   "cell_type": "markdown",
   "id": "f32d3c36-2928-4eb4-9f02-af185a064ece",
   "metadata": {},
   "source": [
    "## Question-2: What is supervised learning? List some examples of supervised learning."
   ]
  },
  {
   "cell_type": "code",
   "execution_count": 6,
   "id": "7d5a844c-b7de-4f88-a622-14ca9af98003",
   "metadata": {},
   "outputs": [],
   "source": [
    "## By analyzing patterns and relationships between input and output variables in labeled data, the algorithm learns to make predictions. Image and speech recognition, recommendation systems, and fraud detection are all examples of how supervised learning is used."
   ]
  },
  {
   "cell_type": "markdown",
   "id": "4fbadf5c-2030-451b-bc7b-7815932274e1",
   "metadata": {},
   "source": [
    "## Question-3: what is unsupervised learning? list some examples of unsupervised learning."
   ]
  },
  {
   "cell_type": "code",
   "execution_count": 7,
   "id": "0a0d900c-64b9-43a0-b425-5c42d240c2f0",
   "metadata": {},
   "outputs": [],
   "source": [
    "## Unsupervised learning, also known as unsupervised machine learning, uses machine learning algorithms to analyze and cluster unlabeled datasets. These algorithms discover hidden patterns or data groupings without the need for human intervention."
   ]
  },
  {
   "cell_type": "markdown",
   "id": "48147749-6323-49cc-aaa1-3e61a58fc036",
   "metadata": {},
   "source": [
    "## Question-4: what is difference between AI,ML,DL and DS?"
   ]
  },
  {
   "cell_type": "code",
   "execution_count": 9,
   "id": "748dd240-a5f5-4ab0-80cc-555aa1bcf8e6",
   "metadata": {},
   "outputs": [],
   "source": [
    "## Artificial Intelligence uses logic and decision trees. Machine Learning uses statistical models. Data Science deals with structured and unstructured data. Chatbots, and Voice assistants are popular applications of AI."
   ]
  },
  {
   "cell_type": "markdown",
   "id": "e73343fb-36e7-4d72-a36d-17561bedbded",
   "metadata": {},
   "source": [
    "## Question-5: What are main difference between supervised,unsupervised and semi-supervised learning?"
   ]
  },
  {
   "cell_type": "code",
   "execution_count": 10,
   "id": "b623bc79-de7e-4833-99d2-b02c364438be",
   "metadata": {},
   "outputs": [],
   "source": [
    "## Supervised learning is a problem with labeled data, expecting to develop predictive capability. Unsupervised learning is discovering process, diving into unlabeled data to capture hidden information. Semi-supervised learning is a blend of supervised and unsupervised learning.\n"
   ]
  },
  {
   "cell_type": "markdown",
   "id": "d08bef45-6e32-41d7-a99e-1a269344314b",
   "metadata": {},
   "source": [
    "## Question-6: What is train, test and validation split? Explain the importance of each term."
   ]
  },
  {
   "cell_type": "code",
   "execution_count": 11,
   "id": "52c6b849-8a86-478a-937c-097916c34c67",
   "metadata": {},
   "outputs": [],
   "source": [
    "## Training data is the set of the data on which the actual training takes place. Validation split helps to improve the model performance by fine-tuning the model after each epoch. The test set informs us about the final accuracy of the model after completing the training phase."
   ]
  },
  {
   "cell_type": "markdown",
   "id": "a54af52b-60fa-40db-9d9e-662c6085f23f",
   "metadata": {},
   "source": [
    "## Question-7: How can unsupervised learning be used in anomaly detection?"
   ]
  },
  {
   "cell_type": "code",
   "execution_count": 12,
   "id": "fba1e622-75cf-4d90-b8d9-2376349a4c86",
   "metadata": {},
   "outputs": [],
   "source": [
    "##  This method does require any training data and instead assumes two things about the data ie Only a small percentage of data is anomalous and Any anomaly is statistically different from the normal samples."
   ]
  },
  {
   "cell_type": "markdown",
   "id": "3ae09887-0b36-4694-8a54-b9aed4ff390a",
   "metadata": {},
   "source": [
    "## Question-8: List down some commonly used supervised learning  algorithms and unsupervised learing algorithm."
   ]
  },
  {
   "cell_type": "code",
   "execution_count": 13,
   "id": "64b44193-2720-4ca8-b134-b2eb6e6d5f42",
   "metadata": {},
   "outputs": [],
   "source": [
    "## The most commonly used Supervised Learning algorithms are decision tree, logistic regression, linear regression, support vector machine. The most commonly used Unsupervised Learning algorithms are k-means clustering, hierarchical clustering, and apriori algorithm."
   ]
  },
  {
   "cell_type": "code",
   "execution_count": null,
   "id": "7992a886-cd89-4749-87ac-2a6780d8fb9f",
   "metadata": {},
   "outputs": [],
   "source": []
  }
 ],
 "metadata": {
  "kernelspec": {
   "display_name": "Python 3 (ipykernel)",
   "language": "python",
   "name": "python3"
  },
  "language_info": {
   "codemirror_mode": {
    "name": "ipython",
    "version": 3
   },
   "file_extension": ".py",
   "mimetype": "text/x-python",
   "name": "python",
   "nbconvert_exporter": "python",
   "pygments_lexer": "ipython3",
   "version": "3.10.8"
  }
 },
 "nbformat": 4,
 "nbformat_minor": 5
}
