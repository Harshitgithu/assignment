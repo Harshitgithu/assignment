{
 "cells": [
  {
   "cell_type": "markdown",
   "id": "527074ad-b0e2-4e39-b12e-866f8d5ccc48",
   "metadata": {},
   "source": [
    "## Question-1: create a pandas series that contain the following data : 4,8,16,23and 42.then,print the series."
   ]
  },
  {
   "cell_type": "code",
   "execution_count": 1,
   "id": "e87d628b-47b5-48b6-9744-1c4fe23ac5cb",
   "metadata": {},
   "outputs": [],
   "source": [
    "import pandas as pd"
   ]
  },
  {
   "cell_type": "code",
   "execution_count": 2,
   "id": "cae547ce-864d-4104-bca4-5ddcbde383d4",
   "metadata": {},
   "outputs": [
    {
     "name": "stdout",
     "output_type": "stream",
     "text": [
      "Requirement already satisfied: pandas in /opt/conda/lib/python3.10/site-packages (1.5.2)\n",
      "Requirement already satisfied: python-dateutil>=2.8.1 in /opt/conda/lib/python3.10/site-packages (from pandas) (2.8.2)\n",
      "Requirement already satisfied: pytz>=2020.1 in /opt/conda/lib/python3.10/site-packages (from pandas) (2022.6)\n",
      "Requirement already satisfied: numpy>=1.21.0 in /opt/conda/lib/python3.10/site-packages (from pandas) (1.23.5)\n",
      "Requirement already satisfied: six>=1.5 in /opt/conda/lib/python3.10/site-packages (from python-dateutil>=2.8.1->pandas) (1.16.0)\n",
      "Note: you may need to restart the kernel to use updated packages.\n"
     ]
    }
   ],
   "source": [
    "pip install pandas"
   ]
  },
  {
   "cell_type": "code",
   "execution_count": 4,
   "id": "820d845a-160e-4bf5-91cf-31670c4c33bf",
   "metadata": {},
   "outputs": [],
   "source": [
    "s1=pd.Series([4,8,16,23],index=[0,1,2,3])"
   ]
  },
  {
   "cell_type": "code",
   "execution_count": 5,
   "id": "054572bc-4b37-47d2-b7ef-f18c98cd707d",
   "metadata": {},
   "outputs": [
    {
     "data": {
      "text/plain": [
       "0     4\n",
       "1     8\n",
       "2    16\n",
       "3    23\n",
       "dtype: int64"
      ]
     },
     "execution_count": 5,
     "metadata": {},
     "output_type": "execute_result"
    }
   ],
   "source": [
    "s1"
   ]
  },
  {
   "cell_type": "markdown",
   "id": "62f248f5-19c6-482e-ac59-a9658d4e214e",
   "metadata": {},
   "source": [
    "## Question-2: Create a variable of list type containing 10 elements in it, and apply pandas.Series function on the variable print it."
   ]
  },
  {
   "cell_type": "code",
   "execution_count": 10,
   "id": "3e7018fd-d08d-4c7b-9b14-b44ab3584f59",
   "metadata": {},
   "outputs": [],
   "source": [
    "l=[1,2,3,4,5,6,7,8,9,10]"
   ]
  },
  {
   "cell_type": "code",
   "execution_count": 11,
   "id": "d497c04f-89ac-4360-9bd3-9906575588fb",
   "metadata": {},
   "outputs": [
    {
     "data": {
      "text/plain": [
       "0     1\n",
       "1     2\n",
       "2     3\n",
       "3     4\n",
       "4     5\n",
       "5     6\n",
       "6     7\n",
       "7     8\n",
       "8     9\n",
       "9    10\n",
       "dtype: int64"
      ]
     },
     "execution_count": 11,
     "metadata": {},
     "output_type": "execute_result"
    }
   ],
   "source": [
    "pd.Series(l)"
   ]
  },
  {
   "cell_type": "markdown",
   "id": "5ba5e52c-6877-425b-9879-98dd80011330",
   "metadata": {},
   "source": [
    "## Question-4:What is ‘DataFrame’ in pandas and how is it different from pandas.series? Explain with an example."
   ]
  },
  {
   "cell_type": "code",
   "execution_count": 12,
   "id": "afe50f2e-f699-41e8-8633-e98419134e5a",
   "metadata": {},
   "outputs": [],
   "source": [
    "##Series can only contain single list with index, whereas dataframe can be made of more than one series or we can say that a dataframe is a collection of series that can be used to analyse the data."
   ]
  },
  {
   "cell_type": "code",
   "execution_count": 13,
   "id": "6ad3ddc9-c34c-432e-9640-612ae7688405",
   "metadata": {},
   "outputs": [],
   "source": [
    "l=[1,2,3,4,5,6,7,8,9,10]"
   ]
  },
  {
   "cell_type": "code",
   "execution_count": 15,
   "id": "ea934ea1-1417-4b3e-bc29-32597696000a",
   "metadata": {},
   "outputs": [
    {
     "data": {
      "text/plain": [
       "0     1\n",
       "1     2\n",
       "2     3\n",
       "3     4\n",
       "4     5\n",
       "5     6\n",
       "6     7\n",
       "7     8\n",
       "8     9\n",
       "9    10\n",
       "dtype: int64"
      ]
     },
     "execution_count": 15,
     "metadata": {},
     "output_type": "execute_result"
    }
   ],
   "source": [
    "pd.Series(l)"
   ]
  },
  {
   "cell_type": "markdown",
   "id": "ad5ca22e-b2f2-451c-851f-d2445d9f4ecb",
   "metadata": {},
   "source": [
    "## Question-5:What are some common functions you can use to manipulate data in a Pandas DataFrame? Can you give an example of when you might use one of these functions?"
   ]
  },
  {
   "cell_type": "code",
   "execution_count": 16,
   "id": "bb8f5404-4a27-4cb4-a50e-3a9956ffc66a",
   "metadata": {},
   "outputs": [],
   "source": [
    "## read_csv() This is one of the most crucial pandas methods in Python"
   ]
  },
  {
   "cell_type": "code",
   "execution_count": 17,
   "id": "facccc51-2641-4855-95f2-6a2ff8afc065",
   "metadata": {},
   "outputs": [],
   "source": [
    "## head() head(n) is used to return the first n rows of a dataset."
   ]
  },
  {
   "cell_type": "code",
   "execution_count": 18,
   "id": "9a87ed47-7d20-4a5f-b8c2-04b75884e7c4",
   "metadata": {},
   "outputs": [],
   "source": [
    "## tail()"
   ]
  },
  {
   "cell_type": "code",
   "execution_count": 19,
   "id": "199bf5b6-46a7-4fec-900c-ca127c14109c",
   "metadata": {},
   "outputs": [],
   "source": [
    "## describe()"
   ]
  },
  {
   "cell_type": "code",
   "execution_count": 20,
   "id": "d18a2b20-e656-4410-9776-3a8a278dc2c0",
   "metadata": {},
   "outputs": [],
   "source": [
    "## drop()"
   ]
  },
  {
   "cell_type": "code",
   "execution_count": 21,
   "id": "10b70767-55f3-4822-a2d6-af244c9343ba",
   "metadata": {},
   "outputs": [],
   "source": [
    "df=pd.read_csv(\"data.csv\")"
   ]
  },
  {
   "cell_type": "code",
   "execution_count": 22,
   "id": "df3f35ba-28b5-4acc-93a0-5071c9307094",
   "metadata": {},
   "outputs": [
    {
     "data": {
      "text/html": [
       "<div>\n",
       "<style scoped>\n",
       "    .dataframe tbody tr th:only-of-type {\n",
       "        vertical-align: middle;\n",
       "    }\n",
       "\n",
       "    .dataframe tbody tr th {\n",
       "        vertical-align: top;\n",
       "    }\n",
       "\n",
       "    .dataframe thead th {\n",
       "        text-align: right;\n",
       "    }\n",
       "</style>\n",
       "<table border=\"1\" class=\"dataframe\">\n",
       "  <thead>\n",
       "    <tr style=\"text-align: right;\">\n",
       "      <th></th>\n",
       "      <th>name</th>\n",
       "      <th>email_id</th>\n",
       "      <th>phone_number</th>\n",
       "    </tr>\n",
       "  </thead>\n",
       "  <tbody>\n",
       "    <tr>\n",
       "      <th>0</th>\n",
       "      <td>sudh</td>\n",
       "      <td>sudh@gamil.com</td>\n",
       "      <td>88654356</td>\n",
       "    </tr>\n",
       "    <tr>\n",
       "      <th>1</th>\n",
       "      <td>krish</td>\n",
       "      <td>krish@gmail.com</td>\n",
       "      <td>868455487</td>\n",
       "    </tr>\n",
       "  </tbody>\n",
       "</table>\n",
       "</div>"
      ],
      "text/plain": [
       "    name         email_id  phone_number\n",
       "0   sudh   sudh@gamil.com      88654356\n",
       "1  krish  krish@gmail.com     868455487"
      ]
     },
     "execution_count": 22,
     "metadata": {},
     "output_type": "execute_result"
    }
   ],
   "source": [
    "df.head()"
   ]
  },
  {
   "cell_type": "code",
   "execution_count": 23,
   "id": "9bf194ec-f2ec-4520-8054-25f44fa85590",
   "metadata": {},
   "outputs": [
    {
     "data": {
      "text/html": [
       "<div>\n",
       "<style scoped>\n",
       "    .dataframe tbody tr th:only-of-type {\n",
       "        vertical-align: middle;\n",
       "    }\n",
       "\n",
       "    .dataframe tbody tr th {\n",
       "        vertical-align: top;\n",
       "    }\n",
       "\n",
       "    .dataframe thead th {\n",
       "        text-align: right;\n",
       "    }\n",
       "</style>\n",
       "<table border=\"1\" class=\"dataframe\">\n",
       "  <thead>\n",
       "    <tr style=\"text-align: right;\">\n",
       "      <th></th>\n",
       "      <th>name</th>\n",
       "      <th>email_id</th>\n",
       "      <th>phone_number</th>\n",
       "    </tr>\n",
       "  </thead>\n",
       "  <tbody>\n",
       "    <tr>\n",
       "      <th>0</th>\n",
       "      <td>sudh</td>\n",
       "      <td>sudh@gamil.com</td>\n",
       "      <td>88654356</td>\n",
       "    </tr>\n",
       "    <tr>\n",
       "      <th>1</th>\n",
       "      <td>krish</td>\n",
       "      <td>krish@gmail.com</td>\n",
       "      <td>868455487</td>\n",
       "    </tr>\n",
       "  </tbody>\n",
       "</table>\n",
       "</div>"
      ],
      "text/plain": [
       "    name         email_id  phone_number\n",
       "0   sudh   sudh@gamil.com      88654356\n",
       "1  krish  krish@gmail.com     868455487"
      ]
     },
     "execution_count": 23,
     "metadata": {},
     "output_type": "execute_result"
    }
   ],
   "source": [
    "df.tail()"
   ]
  },
  {
   "cell_type": "code",
   "execution_count": 31,
   "id": "1561231c-fb28-4574-a193-f41718c0f468",
   "metadata": {},
   "outputs": [
    {
     "data": {
      "text/html": [
       "<div>\n",
       "<style scoped>\n",
       "    .dataframe tbody tr th:only-of-type {\n",
       "        vertical-align: middle;\n",
       "    }\n",
       "\n",
       "    .dataframe tbody tr th {\n",
       "        vertical-align: top;\n",
       "    }\n",
       "\n",
       "    .dataframe thead th {\n",
       "        text-align: right;\n",
       "    }\n",
       "</style>\n",
       "<table border=\"1\" class=\"dataframe\">\n",
       "  <thead>\n",
       "    <tr style=\"text-align: right;\">\n",
       "      <th></th>\n",
       "      <th>email_id</th>\n",
       "      <th>phone_number</th>\n",
       "    </tr>\n",
       "  </thead>\n",
       "  <tbody>\n",
       "    <tr>\n",
       "      <th>0</th>\n",
       "      <td>sudh@gamil.com</td>\n",
       "      <td>88654356</td>\n",
       "    </tr>\n",
       "    <tr>\n",
       "      <th>1</th>\n",
       "      <td>krish@gmail.com</td>\n",
       "      <td>868455487</td>\n",
       "    </tr>\n",
       "  </tbody>\n",
       "</table>\n",
       "</div>"
      ],
      "text/plain": [
       "          email_id  phone_number\n",
       "0   sudh@gamil.com      88654356\n",
       "1  krish@gmail.com     868455487"
      ]
     },
     "execution_count": 31,
     "metadata": {},
     "output_type": "execute_result"
    }
   ],
   "source": [
    "df.drop(\"name\",axis=1)"
   ]
  },
  {
   "cell_type": "markdown",
   "id": "226700ab-2cae-4772-b5fe-c8b9c903b6bd",
   "metadata": {},
   "source": [
    "## Question-6 Which of the following is mutable in nature Series, DataFrame, Panel?"
   ]
  },
  {
   "cell_type": "code",
   "execution_count": 32,
   "id": "e87a2a71-6680-4556-8eb4-252f331671fe",
   "metadata": {},
   "outputs": [],
   "source": [
    "## All Pandas data structures are value mutable (can be changed) and except Series all are size mutable. Series is size immutable. Note − DataFrame is widely used and one of the most important data structures."
   ]
  },
  {
   "cell_type": "markdown",
   "id": "75cf859e-b011-46c9-9bda-55e3436e9d20",
   "metadata": {},
   "source": [
    "## Question-3: Create a Pandas DataFrame that contains the following data:\n",
    "\n",
    "## Then, print the DataFrame.\n"
   ]
  },
  {
   "cell_type": "code",
   "execution_count": 34,
   "id": "bb07cfa5-bf05-4066-b997-38e06dfd46e0",
   "metadata": {},
   "outputs": [],
   "source": [
    "d={'Name':['Alice','Bob','Claire'],'Age':[25,30,27],'Gender':['female','male','female']}"
   ]
  },
  {
   "cell_type": "code",
   "execution_count": 35,
   "id": "2cf316d0-2cfc-45e6-93be-2f16356b3791",
   "metadata": {},
   "outputs": [
    {
     "data": {
      "text/html": [
       "<div>\n",
       "<style scoped>\n",
       "    .dataframe tbody tr th:only-of-type {\n",
       "        vertical-align: middle;\n",
       "    }\n",
       "\n",
       "    .dataframe tbody tr th {\n",
       "        vertical-align: top;\n",
       "    }\n",
       "\n",
       "    .dataframe thead th {\n",
       "        text-align: right;\n",
       "    }\n",
       "</style>\n",
       "<table border=\"1\" class=\"dataframe\">\n",
       "  <thead>\n",
       "    <tr style=\"text-align: right;\">\n",
       "      <th></th>\n",
       "      <th>Name</th>\n",
       "      <th>Age</th>\n",
       "      <th>Gender</th>\n",
       "    </tr>\n",
       "  </thead>\n",
       "  <tbody>\n",
       "    <tr>\n",
       "      <th>0</th>\n",
       "      <td>Alice</td>\n",
       "      <td>25</td>\n",
       "      <td>female</td>\n",
       "    </tr>\n",
       "    <tr>\n",
       "      <th>1</th>\n",
       "      <td>Bob</td>\n",
       "      <td>30</td>\n",
       "      <td>male</td>\n",
       "    </tr>\n",
       "    <tr>\n",
       "      <th>2</th>\n",
       "      <td>Claire</td>\n",
       "      <td>27</td>\n",
       "      <td>female</td>\n",
       "    </tr>\n",
       "  </tbody>\n",
       "</table>\n",
       "</div>"
      ],
      "text/plain": [
       "     Name  Age  Gender\n",
       "0   Alice   25  female\n",
       "1     Bob   30    male\n",
       "2  Claire   27  female"
      ]
     },
     "execution_count": 35,
     "metadata": {},
     "output_type": "execute_result"
    }
   ],
   "source": [
    "pd.DataFrame(d)"
   ]
  },
  {
   "cell_type": "markdown",
   "id": "69da748a-d979-46df-831f-2eb673af1266",
   "metadata": {},
   "source": [
    "## Question-7: Create a DataFrame using multiple Series. Explain with an example."
   ]
  },
  {
   "cell_type": "code",
   "execution_count": 36,
   "id": "5a9866a0-15f8-4d03-9f0c-7c7840b47293",
   "metadata": {},
   "outputs": [
    {
     "name": "stdout",
     "output_type": "stream",
     "text": [
      "         0      1     2\n",
      "0    Spark  22000  1000\n",
      "1  PySpark  25000  2300\n",
      "2   Hadoop  23000  1000\n"
     ]
    }
   ],
   "source": [
    "import pandas as pd\n",
    "# Create pandas Series\n",
    "courses = pd.Series([\"Spark\",\"PySpark\",\"Hadoop\"])\n",
    "fees = pd.Series([22000,25000,23000])\n",
    "discount  = pd.Series([1000,2300,1000])\n",
    "\n",
    "# Combine two series.\n",
    "df=pd.concat([courses,fees],axis=1)\n",
    "\n",
    "# It also supports to combine multiple series.\n",
    "df=pd.concat([courses,fees,discount],axis=1)\n",
    "print(df)"
   ]
  },
  {
   "cell_type": "code",
   "execution_count": null,
   "id": "229815f5-aadc-437e-b9bf-001c206d5bdb",
   "metadata": {},
   "outputs": [],
   "source": []
  }
 ],
 "metadata": {
  "kernelspec": {
   "display_name": "Python 3 (ipykernel)",
   "language": "python",
   "name": "python3"
  },
  "language_info": {
   "codemirror_mode": {
    "name": "ipython",
    "version": 3
   },
   "file_extension": ".py",
   "mimetype": "text/x-python",
   "name": "python",
   "nbconvert_exporter": "python",
   "pygments_lexer": "ipython3",
   "version": "3.10.8"
  }
 },
 "nbformat": 4,
 "nbformat_minor": 5
}
