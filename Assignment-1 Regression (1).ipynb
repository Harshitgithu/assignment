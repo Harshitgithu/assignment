{
 "cells": [
  {
   "cell_type": "markdown",
   "id": "1b2aebd2-a135-4e39-82a9-999033610543",
   "metadata": {},
   "source": [
    "## Question-1 :Explain the difference between simple linear regression and multiple linear regression. Provide an example of each."
   ]
  },
  {
   "cell_type": "code",
   "execution_count": 1,
   "id": "3b477be7-5311-4bc6-9257-a80075aa2ec3",
   "metadata": {},
   "outputs": [],
   "source": [
    "## Simple linear regression has only one x and one y variable. Multiple linear regression has one y and two or more x variables. For instance, when we predict rent based on square feet alone that is simple linear regression."
   ]
  },
  {
   "cell_type": "code",
   "execution_count": 2,
   "id": "b0eceae6-c2ba-4099-8e7b-fd1fbd026a21",
   "metadata": {},
   "outputs": [],
   "source": [
    "## example of multiple linear regression :  Prediction of CO2 emission based on engine size and number of cylinders in a car."
   ]
  },
  {
   "cell_type": "markdown",
   "id": "770b1271-05f4-48e8-a91d-cf1dc0ed6181",
   "metadata": {},
   "source": [
    "## Question-2: Discuss the assumptions of linear regression. How can you check whether these assumptions hold in a given dataset?"
   ]
  },
  {
   "cell_type": "markdown",
   "id": "e618d394-6d18-4815-a619-1b61fa46ddad",
   "metadata": {},
   "source": [
    "## They are:\n",
    "1) There is a linear relationship between the predictors (x) and the outcome (y)\n",
    "2) Predictors (x) are independent and observed with negligible error.\n",
    "3) Residual Errors have a mean value of zero.\n",
    "4) Residual Errors have constant variance.\n",
    "5) Residual Errors are independent from each other and predictors (x)"
   ]
  },
  {
   "cell_type": "markdown",
   "id": "f5afa46d-bcc8-4052-8cb5-05137b06a4cc",
   "metadata": {},
   "source": [
    "## Question-3 : How do you interpret the slope and intercept in a linear regression model? Provide an example using a real-world scenario."
   ]
  },
  {
   "cell_type": "markdown",
   "id": "7a3e2c7c-e1e1-451a-ae11-a310bda4b692",
   "metadata": {},
   "source": [
    "## Example 1. Data were collected on the depth of a dive of penguins and the duration of\n",
    "the dive. The following linear model is a fairly good summary of the data, where t is the\n",
    "duration of the dive in minutes and d is the depth of the dive in yards. The equation for\n",
    "the model is d t = + 0.015 2.915\n",
    "Interpret the slope: If the duration of the dive increases by 1 minute, we predict the\n",
    "depth of the dive will increase by approximately 2.915 yards.\n",
    "Interpret the intercept. If the duration of the dive is 0 seconds, then we predict the\n",
    "depth of the dive is 0.015 yards. "
   ]
  },
  {
   "cell_type": "markdown",
   "id": "b2c9e8bc-67d2-406b-b0ec-85d371414ba6",
   "metadata": {},
   "source": [
    "## Question-4 :Explain the concept of gradient descent. How is it used in machine learning?"
   ]
  },
  {
   "cell_type": "code",
   "execution_count": 4,
   "id": "821938dc-0e38-46e3-8e08-491981196c77",
   "metadata": {},
   "outputs": [],
   "source": [
    "## Gradient Descent is an optimization algorithm for finding a local minimum of a differentiable function. Gradient descent in machine learning is simply used to find the values of a function's parameters (coefficients) that minimize a cost function as far as possible."
   ]
  },
  {
   "cell_type": "markdown",
   "id": "3d717743-a36e-4d8d-9fe3-dd24f4be14d6",
   "metadata": {},
   "source": [
    "## Question-5 :Describe the multiple linear regression model. How does it differ from simple linear regression?"
   ]
  },
  {
   "cell_type": "code",
   "execution_count": 5,
   "id": "ac8a967a-d6f9-491f-9fbd-f9400aa44432",
   "metadata": {},
   "outputs": [],
   "source": [
    "## Simple linear regression is a linear approach to model the relationship between a dependent variable and one independent variable. Multiple linear regression uses a linear function to predict the value of a dependent variable containing the function n independent variables."
   ]
  },
  {
   "cell_type": "markdown",
   "id": "ffd5fed9-6d36-4c08-93d5-1b1217f9fa65",
   "metadata": {},
   "source": [
    "## Question-7 Describe the polynomial regression model. How is it different from linear regression?"
   ]
  },
  {
   "cell_type": "code",
   "execution_count": 1,
   "id": "81efa0bd-1970-4729-ba7c-b0c31ea68c26",
   "metadata": {},
   "outputs": [],
   "source": [
    "## A polynomial regression model is a machine learning model that can capture non-linear relationships between variables by fitting a non-linear regression line, which may not be possible with simple linear regression. It is used when linear regression models may not adequately capture the complexity of the relationship"
   ]
  },
  {
   "cell_type": "markdown",
   "id": "969296ba-98ed-4920-9aea-449ed927c7ca",
   "metadata": {},
   "source": [
    "## Question-8 What are the advantages and disadvantages of polynomial regression compared to linear regression? In what situations would you prefer to use polynomial regression?"
   ]
  },
  {
   "cell_type": "code",
   "execution_count": 2,
   "id": "fc2a6ef5-b052-46f0-bea8-854448381544",
   "metadata": {},
   "outputs": [],
   "source": [
    "## This flexibility is helpful when the underlying relationship is curvilinear. Improved fit: By allowing for more flexible curve fitting, polynomial regression can often provide a better fit to the data compared to linear regression. This can help in finding the best-fitting curve among different options."
   ]
  },
  {
   "cell_type": "code",
   "execution_count": null,
   "id": "18910336-b758-4a5e-bec8-852801cb339a",
   "metadata": {},
   "outputs": [],
   "source": []
  }
 ],
 "metadata": {
  "kernelspec": {
   "display_name": "Python 3 (ipykernel)",
   "language": "python",
   "name": "python3"
  },
  "language_info": {
   "codemirror_mode": {
    "name": "ipython",
    "version": 3
   },
   "file_extension": ".py",
   "mimetype": "text/x-python",
   "name": "python",
   "nbconvert_exporter": "python",
   "pygments_lexer": "ipython3",
   "version": "3.10.8"
  }
 },
 "nbformat": 4,
 "nbformat_minor": 5
}
