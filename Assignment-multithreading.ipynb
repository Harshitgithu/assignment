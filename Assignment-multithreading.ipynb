{
 "cells": [
  {
   "cell_type": "markdown",
   "id": "76fd3003-c1b2-4554-9abb-a2328206081d",
   "metadata": {},
   "source": [
    "## Question-1: what is multithreading in python? hy is it used? Name the module used to handle threads in python"
   ]
  },
  {
   "cell_type": "code",
   "execution_count": 1,
   "id": "073bfd57-638e-48a5-9f6d-9d4a96c38516",
   "metadata": {},
   "outputs": [],
   "source": [
    "## Multithreading refers to concurrently executing multiple threads by rapidly switching the control of the CPU between threads (called context switching). The Python Global Interpreter Lock limits one thread to run at a time even if the machine contains multiple processors.​"
   ]
  },
  {
   "cell_type": "code",
   "execution_count": 2,
   "id": "e4f11a92-ba08-4ef4-87ec-ba000824bcd9",
   "metadata": {},
   "outputs": [],
   "source": [
    "## Threading Modules. The threading module is a high-level implementation of multithreading used to deploy an application in Python. To use multithreading, we need to import the threading module in Python Program. A start() method is used to initiate the activity of a thread."
   ]
  },
  {
   "cell_type": "markdown",
   "id": "167bf2de-da57-42e1-99ab-f6139da5e164",
   "metadata": {},
   "source": [
    "## Question-2 why threading module used? rite the use of the following functions\n",
    "##  activeCount()\n",
    "##  currentThread()\n",
    "##  enumerate()"
   ]
  },
  {
   "cell_type": "code",
   "execution_count": 4,
   "id": "3a46df8b-48f2-4c57-9c6a-9ad8579ddbd8",
   "metadata": {},
   "outputs": [],
   "source": [
    "## The threading module exposes all the methods of the thread module and provides some additional methods."
   ]
  },
  {
   "cell_type": "code",
   "execution_count": 5,
   "id": "2a19d9be-aace-4882-94b4-4e034116c25b",
   "metadata": {},
   "outputs": [],
   "source": [
    "## threading.activeCount() − Returns the number of thread objects that are active."
   ]
  },
  {
   "cell_type": "code",
   "execution_count": 6,
   "id": "ff61ade5-c3b8-48e7-9547-85d94471456d",
   "metadata": {},
   "outputs": [],
   "source": [
    "## threading.currentThread() − Returns the number of thread objects in the caller's thread control."
   ]
  },
  {
   "cell_type": "code",
   "execution_count": 7,
   "id": "85781b1d-4a11-4da9-979e-7cafcc3945db",
   "metadata": {},
   "outputs": [],
   "source": [
    "## threading.enumerate() − Returns a list of all thread objects that are currently active."
   ]
  },
  {
   "cell_type": "markdown",
   "id": "c1c928c3-1896-4f05-a9c6-d2e018c967d2",
   "metadata": {},
   "source": [
    "## Question-3: Explain the following functions\n",
    "##  run()\n",
    "## start()\n",
    "## join()\n",
    "## isAlive()"
   ]
  },
  {
   "cell_type": "code",
   "execution_count": 8,
   "id": "559e41d2-7a79-4ff9-b8b6-430c39bf5cc3",
   "metadata": {},
   "outputs": [],
   "source": [
    "## run()  − The run() method is the entry point for a thread.\n",
    "## start()  − The start() method starts a thread by calling the run method.\n",
    "## join([time])  − The join() waits for threads to terminate.\n",
    "## isAlive()  − The isAlive() method checks whether a thread is still executing."
   ]
  },
  {
   "cell_type": "markdown",
   "id": "243f7c29-6b40-49ae-a2e0-3afeed14021e",
   "metadata": {},
   "source": [
    "## Question-5 State advantages and disadvantages of multithreading"
   ]
  },
  {
   "cell_type": "code",
   "execution_count": 9,
   "id": "7010869d-ab29-4a79-b447-54365dde31e8",
   "metadata": {},
   "outputs": [],
   "source": [
    "## This model provides more concurrency than the many-to-one model. It also allows another thread to run when a thread makes a blocking system call. It supports multiple threads to execute in parallel on microprocessors. Disadvantage of this model is that creating user thread requires the corresponding Kernel thread."
   ]
  },
  {
   "cell_type": "markdown",
   "id": "b4ab8946-4708-4bc9-810b-862908d6093f",
   "metadata": {},
   "source": [
    "## Question-6 Explain deadlocks and race conditions."
   ]
  },
  {
   "cell_type": "code",
   "execution_count": 10,
   "id": "cf173819-989c-455a-a4a9-e5ae7171b9f3",
   "metadata": {},
   "outputs": [],
   "source": [
    "## A race condition occurs when two threads use the same variable at a given time. Deadlock exists when two threads seek one lock simultaneously. This situation will stop both threads from processing or executing the functions."
   ]
  },
  {
   "cell_type": "code",
   "execution_count": null,
   "id": "3b53b9da-7158-4b2a-ab32-1a6a8c729cfd",
   "metadata": {},
   "outputs": [],
   "source": []
  }
 ],
 "metadata": {
  "kernelspec": {
   "display_name": "Python 3 (ipykernel)",
   "language": "python",
   "name": "python3"
  },
  "language_info": {
   "codemirror_mode": {
    "name": "ipython",
    "version": 3
   },
   "file_extension": ".py",
   "mimetype": "text/x-python",
   "name": "python",
   "nbconvert_exporter": "python",
   "pygments_lexer": "ipython3",
   "version": "3.10.8"
  }
 },
 "nbformat": 4,
 "nbformat_minor": 5
}
