{
 "cells": [
  {
   "cell_type": "markdown",
   "id": "642f51e5-0744-4ee9-895b-e4600364751a",
   "metadata": {},
   "source": [
    "##  Question 1- create a vehicle class with an init method having instance variable as name_of_vehicle ,max_speed and average_of_vehicle"
   ]
  },
  {
   "cell_type": "code",
   "execution_count": 1,
   "id": "19875ecf-cbf5-48b0-b412-b0ba2b1292de",
   "metadata": {},
   "outputs": [],
   "source": [
    "class vehicle:\n",
    "    def __init__(self,name_of_vehicle,max_speed,average_of_vehicle):\n",
    "        self.name_of_vehicle=name_of_vehicle\n",
    "        self.max_speed=max_speed\n",
    "        self.average_of_vehicle=average_of_vehicle\n",
    "    def get_results(self):\n",
    "        return self.name_of_vehicle,self.max_speed,self.average_of_vehicle\n",
    "        \n",
    "        "
   ]
  },
  {
   "cell_type": "code",
   "execution_count": 2,
   "id": "e4b92c51-ce39-49c3-a367-1c7f578980ab",
   "metadata": {},
   "outputs": [],
   "source": [
    "mercedes=vehicle(\"mercedes\",150,12)"
   ]
  },
  {
   "cell_type": "code",
   "execution_count": 4,
   "id": "5741d3fc-a0e3-4dc4-92d2-b2a711c7efd4",
   "metadata": {},
   "outputs": [
    {
     "data": {
      "text/plain": [
       "('mercedes', 150, 12)"
      ]
     },
     "execution_count": 4,
     "metadata": {},
     "output_type": "execute_result"
    }
   ],
   "source": [
    "mercedes.get_results()"
   ]
  },
  {
   "cell_type": "markdown",
   "id": "59af8a1d-b8da-4d76-9f86-74826934e969",
   "metadata": {},
   "source": [
    "## Question-4 What are getter and setter in python? create a class and create method for getter and setter."
   ]
  },
  {
   "cell_type": "code",
   "execution_count": 5,
   "id": "d64e83c1-5616-4dd1-8561-b14f65595c95",
   "metadata": {},
   "outputs": [],
   "source": [
    "##getter: a method that allow you to access a given attribute in the class.\n",
    "##setter: a method that allow you to set a value of attribute of class."
   ]
  },
  {
   "cell_type": "code",
   "execution_count": 12,
   "id": "eea68a70-394e-4934-a211-3805a7592727",
   "metadata": {},
   "outputs": [],
   "source": [
    "class car :\n",
    "    def __init__(self,year,model,speed):\n",
    "        self.__year=year\n",
    "        self.__model=model\n",
    "        self.__speed=0\n",
    "    def set_speed(self,speed):\n",
    "        self.__speed=0 if speed<0 else speed\n",
    "    def get_speed(self):\n",
    "        return self.__speed"
   ]
  },
  {
   "cell_type": "code",
   "execution_count": 13,
   "id": "3757a730-4177-4348-8aec-dd3469f0a758",
   "metadata": {},
   "outputs": [],
   "source": [
    "benz=car(2024,\"craze\",120)"
   ]
  },
  {
   "cell_type": "code",
   "execution_count": 14,
   "id": "3b28bb7e-9969-490d-ad26-47d089fa6041",
   "metadata": {},
   "outputs": [],
   "source": [
    "benz.set_speed(120)"
   ]
  },
  {
   "cell_type": "code",
   "execution_count": 15,
   "id": "971ed0e5-57c2-4b4b-babd-7899f2bc127d",
   "metadata": {},
   "outputs": [
    {
     "data": {
      "text/plain": [
       "120"
      ]
     },
     "execution_count": 15,
     "metadata": {},
     "output_type": "execute_result"
    }
   ],
   "source": [
    "benz.get_speed()"
   ]
  },
  {
   "cell_type": "markdown",
   "id": "94c3121c-bf70-4666-875c-cddc0b19001c",
   "metadata": {},
   "source": [
    "## Question-3 what is multiple inheritance? write a code for it."
   ]
  },
  {
   "cell_type": "code",
   "execution_count": 1,
   "id": "49fe9a02-d7f4-4529-81b9-59134d530df1",
   "metadata": {},
   "outputs": [],
   "source": [
    " ## multiple inheritance is a feature in which  a class can inherit methods of one or more classes."
   ]
  },
  {
   "cell_type": "code",
   "execution_count": 16,
   "id": "a0e1735e-f06d-407c-9ca7-c33041664a6a",
   "metadata": {},
   "outputs": [],
   "source": [
    "class class1: \n",
    "    def test1(self):\n",
    "        return \"this is for class1\"\n",
    "        "
   ]
  },
  {
   "cell_type": "code",
   "execution_count": 17,
   "id": "7953a399-9d93-4899-a2f6-66225239eec1",
   "metadata": {},
   "outputs": [],
   "source": [
    "class class2:\n",
    "    def test2(self):\n",
    "        return \"this is for class2\""
   ]
  },
  {
   "cell_type": "code",
   "execution_count": 18,
   "id": "67ecd03d-6146-499c-9fa1-0d58d8faf793",
   "metadata": {},
   "outputs": [],
   "source": [
    "class class3(class1,class2):\n",
    "    pass"
   ]
  },
  {
   "cell_type": "code",
   "execution_count": 19,
   "id": "dcfb985d-f0aa-47ee-baeb-40d5c7be4c44",
   "metadata": {},
   "outputs": [],
   "source": [
    "c= class3()"
   ]
  },
  {
   "cell_type": "code",
   "execution_count": 20,
   "id": "58e4e5e8-0eee-4cbe-9181-0e4cc840a988",
   "metadata": {},
   "outputs": [
    {
     "data": {
      "text/plain": [
       "'this is for class1'"
      ]
     },
     "execution_count": 20,
     "metadata": {},
     "output_type": "execute_result"
    }
   ],
   "source": [
    "c.test1()"
   ]
  },
  {
   "cell_type": "code",
   "execution_count": 21,
   "id": "ae79d124-556c-4744-bb39-036340c21e1d",
   "metadata": {},
   "outputs": [
    {
     "data": {
      "text/plain": [
       "'this is for class2'"
      ]
     },
     "execution_count": 21,
     "metadata": {},
     "output_type": "execute_result"
    }
   ],
   "source": [
    "c.test2()"
   ]
  },
  {
   "cell_type": "markdown",
   "id": "dddc5970-58bc-4674-8d4f-aeeb72335c79",
   "metadata": {},
   "source": [
    "## Question-2 create a child class from class vehicle created in Question 1 ."
   ]
  },
  {
   "cell_type": "code",
   "execution_count": 43,
   "id": "dbcfacea-41f7-4bfd-aaa9-02f9f8f66a9b",
   "metadata": {},
   "outputs": [],
   "source": [
    "class vehicle:\n",
    "    def __init__(self,name_of_vehicle,max_speed,average_of_vehicle):\n",
    "        self.name_of_vehicle=mercedes\n",
    "        self.max_speed=max_speed\n",
    "        self.average_of_vehicle=average_of_vehicle\n",
    "    def get_results(self):\n",
    "        return self.name_of_vehicle,self.max_speed,self.average_of_vehicle\n",
    "        \n",
    "        "
   ]
  },
  {
   "cell_type": "code",
   "execution_count": 44,
   "id": "36bbee07-73a5-4232-9518-a9351f18879a",
   "metadata": {},
   "outputs": [],
   "source": [
    "class child_class(vehicle):\n",
    "    def __init__(self,capacity):\n",
    "        self.capacity=capacity\n",
    "    def seating_capacity(self):\n",
    "        return self.capacity\n",
    "    "
   ]
  },
  {
   "cell_type": "code",
   "execution_count": 45,
   "id": "8083e2f8-1b3d-41bd-a195-fdda35a0618a",
   "metadata": {},
   "outputs": [],
   "source": [
    "c=child_class(6)"
   ]
  },
  {
   "cell_type": "code",
   "execution_count": 47,
   "id": "3ec5cf9d-048c-4377-8af9-5d63aa156fab",
   "metadata": {},
   "outputs": [
    {
     "data": {
      "text/plain": [
       "6"
      ]
     },
     "execution_count": 47,
     "metadata": {},
     "output_type": "execute_result"
    }
   ],
   "source": [
    "c.seating_capacity()"
   ]
  },
  {
   "cell_type": "code",
   "execution_count": null,
   "id": "5466f3f4-ea53-4f55-9e81-2eb480dd7792",
   "metadata": {},
   "outputs": [],
   "source": [
    "## Question"
   ]
  },
  {
   "cell_type": "code",
   "execution_count": 49,
   "id": "a5f0c70e-3b64-4f66-a65e-5cce6398e96f",
   "metadata": {},
   "outputs": [],
   "source": [
    "## method overridng provide a special implmentation of method that is already provide by parent class."
   ]
  },
  {
   "cell_type": "code",
   "execution_count": 50,
   "id": "17a52728-6a04-491c-8f6e-9068ee6bc32b",
   "metadata": {},
   "outputs": [],
   "source": [
    "class employee:\n",
    "    def __init__(self,name,base_pay):\n",
    "        self.name=name\n",
    "        self.base_pay=base_pay\n",
    "        "
   ]
  },
  {
   "cell_type": "code",
   "execution_count": 51,
   "id": "3e3e55f1-a905-4b89-a5de-f99a8e8e686e",
   "metadata": {},
   "outputs": [],
   "source": [
    "class saleemploye(employee):\n",
    "    def __init__(self,name,base_pay,sales_incentive):\n",
    "        self.name=name\n",
    "        self.base_pay=base_pay\n",
    "        self.sales_incentive=sales_incentive\n",
    "        "
   ]
  },
  {
   "cell_type": "code",
   "execution_count": null,
   "id": "a197c1d0-7c21-4db4-bd24-a688de7a2b3b",
   "metadata": {},
   "outputs": [],
   "source": []
  }
 ],
 "metadata": {
  "kernelspec": {
   "display_name": "Python 3 (ipykernel)",
   "language": "python",
   "name": "python3"
  },
  "language_info": {
   "codemirror_mode": {
    "name": "ipython",
    "version": 3
   },
   "file_extension": ".py",
   "mimetype": "text/x-python",
   "name": "python",
   "nbconvert_exporter": "python",
   "pygments_lexer": "ipython3",
   "version": "3.10.8"
  }
 },
 "nbformat": 4,
 "nbformat_minor": 5
}
