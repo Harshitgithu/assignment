{
 "cells": [
  {
   "cell_type": "markdown",
   "id": "c38a0905-4676-42e2-a1e2-05df1f6d8cb6",
   "metadata": {},
   "source": [
    "## Question-1 :What is Elastic Net Regression and how does it differ from other regression techniques?"
   ]
  },
  {
   "cell_type": "code",
   "execution_count": 1,
   "id": "5cc6fa80-4dee-47a8-a5e1-f9fffca7753f",
   "metadata": {},
   "outputs": [],
   "source": [
    "##  Elastic net linear regression uses the penalties from both the lasso and ridge techniques to regularize regression models. The technique combines both the lasso and ridge regression methods by learning from their shortcomings to improve the regularization of statistical models."
   ]
  },
  {
   "cell_type": "markdown",
   "id": "331cba16-7428-417f-9caf-507cd6ae8601",
   "metadata": {},
   "source": [
    "## Question-2 :How do you choose the optimal values of the regularization parameters for Elastic Net Regression?"
   ]
  },
  {
   "cell_type": "code",
   "execution_count": 2,
   "id": "0fc3b213-be4a-42c6-a8b6-488fd68250c2",
   "metadata": {},
   "outputs": [],
   "source": [
    "## Larger values of alpha imply stronger regularization (less-overfitting, may be underfitting!). Smaller values imply weak regularization (overfitting). We want to build a model that neither overfits nor underfit the data. So, we need to choose an optimal value for alpha."
   ]
  },
  {
   "cell_type": "markdown",
   "id": "80103233-761c-4241-9251-7c9879cb081e",
   "metadata": {},
   "source": [
    "## Question-3 :What are the advantages and disadvantages of Elastic Net Regression?"
   ]
  },
  {
   "cell_type": "code",
   "execution_count": 3,
   "id": "53d989c2-308d-4055-b06e-ee5228afcb39",
   "metadata": {},
   "outputs": [],
   "source": [
    "## Handling Multicollinearity: ElasticNet can handle multicollinearity between variables by grouping them, which can be very useful in certain datasets. Bias-Variance Trade-off: ElasticNet manages the bias-variance trade-off by balancing between Ridge and Lasso regression."
   ]
  },
  {
   "cell_type": "code",
   "execution_count": 4,
   "id": "7f4f566e-3777-4690-bc2b-b538296f05e2",
   "metadata": {},
   "outputs": [],
   "source": [
    "## a disadvantage of the classical elastic net is that the sequential cross-validation procedure used to determine the penalty parameters results in overshrinkage of the coefficients."
   ]
  },
  {
   "cell_type": "markdown",
   "id": "6bc3d84b-1939-48b1-b966-15fe86f6394a",
   "metadata": {},
   "source": [
    "## Question-4 :What are some common use cases for Elastic Net Regression?"
   ]
  },
  {
   "cell_type": "code",
   "execution_count": 5,
   "id": "4a771243-61a6-4503-9350-eddf06f4b74e",
   "metadata": {},
   "outputs": [],
   "source": [
    "## Elastic net can also be used in other applications, such as in sparse PCA, where it obtains principal components that are modified by sparse loadings. The other application is in the kernel elastic net, where the generation of class kernel machines takes place with support vectors."
   ]
  },
  {
   "cell_type": "markdown",
   "id": "ff1391b6-8193-47ce-9148-a626e91084e9",
   "metadata": {},
   "source": [
    "## Question-5 :How do you interpret the coefficients in Elastic Net Regression?"
   ]
  },
  {
   "cell_type": "code",
   "execution_count": 6,
   "id": "133858fa-2cb4-448c-9b30-fa9cf07e6df8",
   "metadata": {},
   "outputs": [],
   "source": [
    "## The coefficients of elastic net regression represent the linear relationship between the features and the target variable, adjusted by the regularization terms. The larger the absolute value of a coefficient, the stronger the effect of the corresponding feature on the target variable."
   ]
  },
  {
   "cell_type": "markdown",
   "id": "6ee12895-3e83-4e38-a596-a317584f73a6",
   "metadata": {},
   "source": [
    "## Question-6 :How do you handle missing values when using Elastic Net Regression?"
   ]
  },
  {
   "cell_type": "code",
   "execution_count": 7,
   "id": "a929f21f-4560-4643-8f9e-d17c97f20de7",
   "metadata": {},
   "outputs": [],
   "source": [
    "## It's the best to omit variables for which most observations are missing.\n",
    "## Omitting the rows/observations/cases with missing values. ...\n",
    "## Different imputation techniques: mean/median/mode substitution, regression inputation, expectation-maximization (EM), multiple inputation, etc."
   ]
  },
  {
   "cell_type": "markdown",
   "id": "a9664021-bf06-4d2d-bfdc-1d428bfaad08",
   "metadata": {},
   "source": [
    "## Quesion-7 :How do you use Elastic Net Regression for feature selection?"
   ]
  },
  {
   "cell_type": "code",
   "execution_count": 8,
   "id": "5adbe9c2-19bc-4daa-854e-a718b9b98c28",
   "metadata": {},
   "outputs": [],
   "source": [
    "## These two penalty terms are the L1 and L2 norms of the coefficient vector, which are multiplied by two hyperparameters, alpha and lambda. The L1 norm is used to perform feature selection, whereas the L2 norm is used to perform feature shrinkage."
   ]
  },
  {
   "cell_type": "markdown",
   "id": "d2e141dd-5d08-4ab4-b150-a6fddd1b89db",
   "metadata": {},
   "source": [
    "## Question-8 :How do you pickle and unpickle a trained Elastic Net Regression model in Python?"
   ]
  },
  {
   "cell_type": "code",
   "execution_count": 9,
   "id": "23c928fd-45ec-4c0e-8dd2-afdd7e35ca21",
   "metadata": {},
   "outputs": [],
   "source": [
    "## Using pickle , simply save your model on disc with dump() function and de-pickle it into your python code with load() function. Use open() function to create and/or read from a . pkl file and make sure you open the file in the binary format by wb for write and rb for read mode."
   ]
  },
  {
   "cell_type": "markdown",
   "id": "e7f07908-301d-4e44-b4d2-734c2a4916a1",
   "metadata": {},
   "source": [
    "## Question-9 :What is the purpose of pickling a model in machine learning?"
   ]
  },
  {
   "cell_type": "code",
   "execution_count": null,
   "id": "5cc39ede-2a70-4c4b-ac74-03c3cb29a07e",
   "metadata": {},
   "outputs": [],
   "source": [
    "## In Python, the “pickle” module provides a way to serialize and deserialize Python objects, including trained machine learning models. By saving a trained model using the pickle module, you can reuse the model for making predictions on new data, without having to retrain the model from scratch."
   ]
  }
 ],
 "metadata": {
  "kernelspec": {
   "display_name": "Python 3 (ipykernel)",
   "language": "python",
   "name": "python3"
  },
  "language_info": {
   "codemirror_mode": {
    "name": "ipython",
    "version": 3
   },
   "file_extension": ".py",
   "mimetype": "text/x-python",
   "name": "python",
   "nbconvert_exporter": "python",
   "pygments_lexer": "ipython3",
   "version": "3.10.8"
  }
 },
 "nbformat": 4,
 "nbformat_minor": 5
}
