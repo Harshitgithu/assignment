{
 "cells": [
  {
   "cell_type": "code",
   "execution_count": 1,
   "id": "58cc64f4-4eaf-4024-94ad-f4790a17d56d",
   "metadata": {},
   "outputs": [],
   "source": [
    "s=\"Harshit\"\n"
   ]
  },
  {
   "cell_type": "code",
   "execution_count": 2,
   "id": "ed425935-b8f8-4d20-a250-a49ad2bdecc0",
   "metadata": {},
   "outputs": [],
   "source": [
    "l=[1,35.68,\"Harshit\"]"
   ]
  },
  {
   "cell_type": "code",
   "execution_count": 3,
   "id": "45b43a51-1067-4b2e-b2f8-b24a7a2b25fa",
   "metadata": {},
   "outputs": [],
   "source": [
    "f=78.68"
   ]
  },
  {
   "cell_type": "code",
   "execution_count": 4,
   "id": "3720bd37-cc58-4c36-921d-523f06d3c588",
   "metadata": {},
   "outputs": [],
   "source": [
    "t=(1,2,'Harshit',21.26)"
   ]
  },
  {
   "cell_type": "code",
   "execution_count": 5,
   "id": "7bf43ae6-d0a0-4f40-b17b-82d77b56a383",
   "metadata": {},
   "outputs": [],
   "source": [
    "var1=''"
   ]
  },
  {
   "cell_type": "code",
   "execution_count": 6,
   "id": "2beabf2d-da84-4102-8aa4-b9540505d419",
   "metadata": {},
   "outputs": [
    {
     "data": {
      "text/plain": [
       "str"
      ]
     },
     "execution_count": 6,
     "metadata": {},
     "output_type": "execute_result"
    }
   ],
   "source": [
    "type(var1)"
   ]
  },
  {
   "cell_type": "code",
   "execution_count": 7,
   "id": "eb2aa2d8-4910-4bd1-bf26-af48d40bc28e",
   "metadata": {},
   "outputs": [],
   "source": [
    "var2='[DS,ML,Python]'"
   ]
  },
  {
   "cell_type": "code",
   "execution_count": 8,
   "id": "900f6c3b-dca1-438c-8acb-ee00023f45bc",
   "metadata": {},
   "outputs": [
    {
     "data": {
      "text/plain": [
       "str"
      ]
     },
     "execution_count": 8,
     "metadata": {},
     "output_type": "execute_result"
    }
   ],
   "source": [
    "type(var2)"
   ]
  },
  {
   "cell_type": "code",
   "execution_count": 9,
   "id": "0d1ef708-64b5-423d-aeb1-14608ed56cb6",
   "metadata": {},
   "outputs": [],
   "source": [
    "var3=['DS','ML','Python']"
   ]
  },
  {
   "cell_type": "code",
   "execution_count": 10,
   "id": "3c626b24-c77c-4f17-9a47-34d97d472a80",
   "metadata": {},
   "outputs": [
    {
     "data": {
      "text/plain": [
       "list"
      ]
     },
     "execution_count": 10,
     "metadata": {},
     "output_type": "execute_result"
    }
   ],
   "source": [
    "type(var3)"
   ]
  },
  {
   "cell_type": "code",
   "execution_count": 11,
   "id": "f3a72a3b-5574-45c1-84b0-f6ef007a0165",
   "metadata": {},
   "outputs": [],
   "source": [
    "var4=1"
   ]
  },
  {
   "cell_type": "code",
   "execution_count": 12,
   "id": "ddc22c02-9665-4125-b384-22f647c073f5",
   "metadata": {},
   "outputs": [
    {
     "data": {
      "text/plain": [
       "int"
      ]
     },
     "execution_count": 12,
     "metadata": {},
     "output_type": "execute_result"
    }
   ],
   "source": [
    "type(var4)"
   ]
  },
  {
   "cell_type": "code",
   "execution_count": 14,
   "id": "fd2b5902-fe49-4e7a-89a9-a59fda99a4eb",
   "metadata": {},
   "outputs": [
    {
     "data": {
      "text/plain": [
       "2.0"
      ]
     },
     "execution_count": 14,
     "metadata": {},
     "output_type": "execute_result"
    }
   ],
   "source": [
    "4/2 ##it is used for division##"
   ]
  },
  {
   "cell_type": "code",
   "execution_count": 15,
   "id": "7b76bef5-8691-4805-940b-09df6d2e6572",
   "metadata": {},
   "outputs": [
    {
     "data": {
      "text/plain": [
       "1"
      ]
     },
     "execution_count": 15,
     "metadata": {},
     "output_type": "execute_result"
    }
   ],
   "source": [
    "5%2 ##modulus operator to get remainder in integer divison##"
   ]
  },
  {
   "cell_type": "code",
   "execution_count": 16,
   "id": "a34efcc5-fc24-4d58-8e6d-0544da664d62",
   "metadata": {},
   "outputs": [
    {
     "data": {
      "text/plain": [
       "2"
      ]
     },
     "execution_count": 16,
     "metadata": {},
     "output_type": "execute_result"
    }
   ],
   "source": [
    "5//2 ##it is used for integer division ##"
   ]
  },
  {
   "cell_type": "code",
   "execution_count": 17,
   "id": "cc1e33a0-3781-4424-94f9-d2da49d0116e",
   "metadata": {},
   "outputs": [
    {
     "data": {
      "text/plain": [
       "25"
      ]
     },
     "execution_count": 17,
     "metadata": {},
     "output_type": "execute_result"
    }
   ],
   "source": [
    "5**2 ##exponent ##"
   ]
  },
  {
   "cell_type": "code",
   "execution_count": 18,
   "id": "a21ac671-0789-48d2-a8bd-8663fd497282",
   "metadata": {},
   "outputs": [],
   "source": [
    "l=[4,6,5,\"Harshit\",35.68,(4+6j),True,1,False,\"harsh\"]"
   ]
  },
  {
   "cell_type": "code",
   "execution_count": 20,
   "id": "009827f5-12c8-4064-aeb0-d6eb9cc3aa5f",
   "metadata": {},
   "outputs": [
    {
     "name": "stdout",
     "output_type": "stream",
     "text": [
      "<class 'int'>\n",
      "4\n",
      "<class 'int'>\n",
      "6\n",
      "<class 'int'>\n",
      "5\n",
      "<class 'str'>\n",
      "Harshit\n",
      "<class 'float'>\n",
      "35.68\n",
      "<class 'complex'>\n",
      "(4+6j)\n",
      "<class 'bool'>\n",
      "True\n",
      "<class 'int'>\n",
      "1\n",
      "<class 'bool'>\n",
      "False\n",
      "<class 'str'>\n",
      "harsh\n"
     ]
    }
   ],
   "source": [
    "for i in l :\n",
    "    print(type(i))\n",
    "    print(i)"
   ]
  },
  {
   "cell_type": "code",
   "execution_count": 21,
   "id": "a1d321f5-8920-486c-b1db-283ab974ae67",
   "metadata": {},
   "outputs": [],
   "source": [
    "l=[2,4,6,7,9,]"
   ]
  },
  {
   "cell_type": "code",
   "execution_count": 22,
   "id": "0a743b87-3f7d-43e1-a6b5-482668a1539d",
   "metadata": {},
   "outputs": [],
   "source": [
    "l[2]=6 \n"
   ]
  },
  {
   "cell_type": "code",
   "execution_count": 25,
   "id": "b4fdd4d2-7a3c-4b2d-ad18-ea5debdb0d46",
   "metadata": {},
   "outputs": [
    {
     "data": {
      "text/plain": [
       "[2, 4, 6, 7, 9]"
      ]
     },
     "execution_count": 25,
     "metadata": {},
     "output_type": "execute_result"
    }
   ],
   "source": [
    "l \n",
    "## l is a list which is an example of mutable data type , in mutable data type we deal with index numbers and we can change data of a list ##"
   ]
  },
  {
   "cell_type": "code",
   "execution_count": 26,
   "id": "7a3c9a6b-6a18-4372-b0f5-e2457291de94",
   "metadata": {},
   "outputs": [],
   "source": [
    "H=\"Harshit\"\n"
   ]
  },
  {
   "cell_type": "code",
   "execution_count": 1,
   "id": "bbd19f5d-b448-48a4-9f75-4cab39895d27",
   "metadata": {},
   "outputs": [
    {
     "ename": "NameError",
     "evalue": "name 'H' is not defined",
     "output_type": "error",
     "traceback": [
      "\u001b[0;31m---------------------------------------------------------------------------\u001b[0m",
      "\u001b[0;31mNameError\u001b[0m                                 Traceback (most recent call last)",
      "Cell \u001b[0;32mIn[1], line 1\u001b[0m\n\u001b[0;32m----> 1\u001b[0m \u001b[43mH\u001b[49m[\u001b[38;5;241m2\u001b[39m]\u001b[38;5;241m=\u001b[39m\u001b[38;5;241m3\u001b[39m \u001b[38;5;66;03m## H is a string which is an example of immutable data type and we cannot change data or element of the string with help of index number\u001b[39;00m\n",
      "\u001b[0;31mNameError\u001b[0m: name 'H' is not defined"
     ]
    }
   ],
   "source": [
    "H[2]=3 ## H is a string which is an example of immutable data type and we cannot change data or element of the string with help of index number"
   ]
  },
  {
   "cell_type": "code",
   "execution_count": 4,
   "id": "81893518-19c9-4840-9834-31580b4f68cb",
   "metadata": {},
   "outputs": [],
   "source": [
    "i = [1,2,3,4,6,7,8,9,10,11,12,13,14,15,16,17,18,19,20,21,22,23,24,25]"
   ]
  },
  {
   "cell_type": "code",
   "execution_count": 5,
   "id": "4e2b7a89-aae7-4ffa-b9f2-47585094c1ce",
   "metadata": {},
   "outputs": [
    {
     "data": {
      "text/plain": [
       "list"
      ]
     },
     "execution_count": 5,
     "metadata": {},
     "output_type": "execute_result"
    }
   ],
   "source": [
    "type(i)"
   ]
  },
  {
   "cell_type": "code",
   "execution_count": 6,
   "id": "46871058-9334-4d3d-ab8d-5104a7b60b13",
   "metadata": {},
   "outputs": [
    {
     "name": "stdout",
     "output_type": "stream",
     "text": [
      "number is not divisble by 3\n",
      "number is not divisble by 3\n",
      "number is divisible by 3 \n",
      "number is not divisble by 3\n",
      "number is divisible by 3 \n",
      "number is not divisble by 3\n",
      "number is not divisble by 3\n",
      "number is divisible by 3 \n",
      "number is not divisble by 3\n",
      "number is not divisble by 3\n",
      "number is divisible by 3 \n",
      "number is not divisble by 3\n",
      "number is not divisble by 3\n",
      "number is divisible by 3 \n",
      "number is not divisble by 3\n",
      "number is not divisble by 3\n",
      "number is divisible by 3 \n",
      "number is not divisble by 3\n",
      "number is not divisble by 3\n",
      "number is divisible by 3 \n",
      "number is not divisble by 3\n",
      "number is not divisble by 3\n",
      "number is divisible by 3 \n",
      "number is not divisble by 3\n"
     ]
    }
   ],
   "source": [
    "for l in i :\n",
    "    if l%3==0:\n",
    "        print(\"number is divisible by 3 \")\n",
    "    else :\n",
    "        print(\"number is not divisble by 3\")"
   ]
  },
  {
   "cell_type": "code",
   "execution_count": 7,
   "id": "0e0ebf7f-a1be-4ca2-884d-c451853b111a",
   "metadata": {},
   "outputs": [
    {
     "ename": "SyntaxError",
     "evalue": "expected ':' (3714123832.py, line 3)",
     "output_type": "error",
     "traceback": [
      "\u001b[0;36m  Cell \u001b[0;32mIn[7], line 3\u001b[0;36m\u001b[0m\n\u001b[0;31m    while A>B\u001b[0m\n\u001b[0m             ^\u001b[0m\n\u001b[0;31mSyntaxError\u001b[0m\u001b[0;31m:\u001b[0m expected ':'\n"
     ]
    }
   ],
   "source": [
    "A=int(input())\n",
    "B=int(input())\n",
    "while A>B:\n",
    "if A%B==0:\n",
    "    print(\"A is purely divisble by b\")"
   ]
  },
  {
   "cell_type": "code",
   "execution_count": null,
   "id": "8a19066a-b73b-4475-a0b4-2dcf394f27cd",
   "metadata": {},
   "outputs": [],
   "source": []
  }
 ],
 "metadata": {
  "kernelspec": {
   "display_name": "Python 3 (ipykernel)",
   "language": "python",
   "name": "python3"
  },
  "language_info": {
   "codemirror_mode": {
    "name": "ipython",
    "version": 3
   },
   "file_extension": ".py",
   "mimetype": "text/x-python",
   "name": "python",
   "nbconvert_exporter": "python",
   "pygments_lexer": "ipython3",
   "version": "3.10.8"
  }
 },
 "nbformat": 4,
 "nbformat_minor": 5
}
