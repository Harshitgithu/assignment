{
 "cells": [
  {
   "cell_type": "markdown",
   "id": "01287a1a-f49a-4214-81ff-e08f44e7278f",
   "metadata": {},
   "source": [
    "## Question-1: Define overfitting and underfitting in machine learning. What are the consequences of each, and how can they be mitigated?"
   ]
  },
  {
   "cell_type": "code",
   "execution_count": 1,
   "id": "39680b93-af56-4167-9b48-c652fb079057",
   "metadata": {},
   "outputs": [],
   "source": [
    "## overfitting occurs when the algorithm produces widely diverse predictions for the same data. "
   ]
  },
  {
   "cell_type": "code",
   "execution_count": 2,
   "id": "22b4692f-6f63-4d19-b08a-5106e804c94d",
   "metadata": {},
   "outputs": [],
   "source": [
    "## underfitting occurs when the algorithm produces comparable predictions for similar data, but the predictions are incorrect."
   ]
  },
  {
   "cell_type": "code",
   "execution_count": 3,
   "id": "eef5d361-2924-4a6b-aba7-142790f94908",
   "metadata": {},
   "outputs": [],
   "source": [
    "## An underfit model results in high prediction errors for both training and test data. An overfit model gives a very low prediction error on training data, but a very high prediction error on test data. Both types of models result in poor accuracy."
   ]
  },
  {
   "cell_type": "code",
   "execution_count": 5,
   "id": "e5bfc3d6-89b5-4b40-ba77-4983d200a609",
   "metadata": {},
   "outputs": [],
   "source": [
    "## Early stopping. Early stopping pauses the training phase before the machine learning model learns the noise in the data. \n",
    "## Pruning. \n",
    "## Regularization.\n",
    "## Ensembling.\n",
    "## Data augmentation.\n"
   ]
  },
  {
   "cell_type": "markdown",
   "id": "e9a19d6e-01d8-4df9-b7f7-7448845642e9",
   "metadata": {},
   "source": [
    "## Question-2: How can we reduce overfitting? Explain in brief."
   ]
  },
  {
   "cell_type": "code",
   "execution_count": 6,
   "id": "cb037316-e008-4f0f-909c-27315db1de5d",
   "metadata": {},
   "outputs": [],
   "source": [
    "## You can prevent overfitting by diversifying and scaling your training data set or using some other data science strategies, like those given below.\n",
    "## Early stopping. Early stopping pauses the training phase before the machine learning model learns the noise in the data. \n",
    "## Pruning. \n",
    "## Regularization.\n",
    "## Data augmentation.\n"
   ]
  },
  {
   "cell_type": "markdown",
   "id": "996e7431-9771-477b-8c77-13b9279c02aa",
   "metadata": {},
   "source": [
    "## Question-3: Explain underfitting. List scenarios where underfitting can occur in ML."
   ]
  },
  {
   "cell_type": "code",
   "execution_count": 7,
   "id": "919af1ae-3426-4326-a3e1-55b1846039a0",
   "metadata": {},
   "outputs": [],
   "source": [
    "## A statistical model or a machine learning algorithm is said to have underfitting when a model is too simple to capture data complexities. It represents the inability of the model to learn the training data effectively result in poor performance both on the training and testing data."
   ]
  },
  {
   "cell_type": "code",
   "execution_count": 8,
   "id": "f385efd3-3638-4f01-b242-bc2e595e50aa",
   "metadata": {},
   "outputs": [],
   "source": [
    "## Underfitting occurs when a model is too simple — informed by too few features or regularized too much — which makes it inflexible in learning from the dataset. Simple learners tend to have less variance in their predictions but more bias towards wrong outcomes."
   ]
  },
  {
   "cell_type": "markdown",
   "id": "03192150-0bd0-466e-8422-e157436679b8",
   "metadata": {},
   "source": [
    "## Question-4 : Explain the bias-variance tradeoff in machine learning. What is the relationship between bias and variance, and how do they affect model performance?"
   ]
  },
  {
   "cell_type": "code",
   "execution_count": 9,
   "id": "a3bef693-f834-4ba6-b670-740bb1be182a",
   "metadata": {},
   "outputs": [],
   "source": [
    "## In machine learning, as you try to minimize one component of the error (e.g., bias), the other component (e.g., variance) tends to increase, and vice versa. Finding the right balance of bias and variance is key to creating an effective and accurate model. This is called the bias-variance tradeoff."
   ]
  },
  {
   "cell_type": "markdown",
   "id": "e4cee490-bc8e-4b9a-a071-9e9ba4a05049",
   "metadata": {},
   "source": [
    "## Question-5: Discuss some common methods for detecting overfitting and underfitting in machine learning models. How can you determine whether your model is overfitting or underfitting?"
   ]
  },
  {
   "cell_type": "code",
   "execution_count": 10,
   "id": "7f6d5ea0-729c-43b5-86eb-bcd770ba41ad",
   "metadata": {},
   "outputs": [],
   "source": [
    "## We can determine whether a predictive model is underfitting or overfitting the training data by looking at the prediction error on the training data and the evaluation data. Your model is underfitting the training data when the model performs poorly on the training data."
   ]
  },
  {
   "cell_type": "markdown",
   "id": "e4d905df-4216-43c6-97a8-d4e110ca2d17",
   "metadata": {},
   "source": [
    "## Question-6: Compare and contrast bias and variance in machine learning. What are some examples of high bias and high variance models, and how do they differ in terms of their performance?"
   ]
  },
  {
   "cell_type": "code",
   "execution_count": null,
   "id": "2c38eae9-2262-4a88-93fd-8818c64d03f3",
   "metadata": {},
   "outputs": [],
   "source": [
    "## Machine Learning Algorithm\tBias\tVariance\n",
    "\n",
    "Decision Tree\tLow Bias\tHigh Variance\n",
    "Random Forest\tLow Bias\tHigh Variance\n",
    "Bagging\t        Low Bias\tHigh Variance\n"
   ]
  },
  {
   "cell_type": "markdown",
   "id": "3a505931-ead1-43b1-9b08-0dfcbc21c73f",
   "metadata": {},
   "source": [
    "## Question-7 :What is regularization in machine learning, and how can it be used to prevent overfitting? Describe some common regularization techniques and how they work."
   ]
  },
  {
   "cell_type": "code",
   "execution_count": 1,
   "id": "d92e4d25-09b7-4d41-8134-d792f373ceaa",
   "metadata": {},
   "outputs": [],
   "source": [
    "## In short, Regularization in machine learning is the process of regularizing the parameters that constrain, regularizes, or shrinks the coefficient estimates towards zero. In other words, this technique discourages learning a more complex or flexible model, avoiding the risk of Overfitting."
   ]
  },
  {
   "cell_type": "code",
   "execution_count": null,
   "id": "17ff3ad9-61f7-4a6b-9b1d-f48fa62362c3",
   "metadata": {},
   "outputs": [],
   "source": []
  }
 ],
 "metadata": {
  "kernelspec": {
   "display_name": "Python 3 (ipykernel)",
   "language": "python",
   "name": "python3"
  },
  "language_info": {
   "codemirror_mode": {
    "name": "ipython",
    "version": 3
   },
   "file_extension": ".py",
   "mimetype": "text/x-python",
   "name": "python",
   "nbconvert_exporter": "python",
   "pygments_lexer": "ipython3",
   "version": "3.10.8"
  }
 },
 "nbformat": 4,
 "nbformat_minor": 5
}
