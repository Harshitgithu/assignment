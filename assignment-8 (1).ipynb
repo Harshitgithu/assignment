{
 "cells": [
  {
   "cell_type": "markdown",
   "id": "cef51a42-886f-4249-b56e-2b7df3a8f39c",
   "metadata": {
    "tags": []
   },
   "source": [
    "## Question-1: Explain why we have to use exception class while creating a custom Exception."
   ]
  },
  {
   "cell_type": "code",
   "execution_count": 1,
   "id": "42c254d7-4541-4c59-8831-966c0c4b4acc",
   "metadata": {},
   "outputs": [],
   "source": [
    "## Built-in exceptions offer information about python related problems and custom exception will add information about project related problems. "
   ]
  },
  {
   "cell_type": "markdown",
   "id": "c02d8577-e9b7-454e-8937-4f9b2cb2ccf4",
   "metadata": {},
   "source": [
    "## Question-2: write a python program to print python exception hierarchy."
   ]
  },
  {
   "cell_type": "code",
   "execution_count": 1,
   "id": "42cb0cae-d7c7-4f5b-9edd-b2ca6a591f91",
   "metadata": {},
   "outputs": [
    {
     "name": "stdout",
     "output_type": "stream",
     "text": [
      "invalid literal for int() with base 10: 'sudh'\n"
     ]
    }
   ],
   "source": [
    "try:\n",
    "    int(\"sudh\")\n",
    "except (ValueError,TypeError) as e:\n",
    "    print(e)\n",
    "\n"
   ]
  },
  {
   "cell_type": "code",
   "execution_count": 2,
   "id": "5d6b048c-3147-4bb8-8504-5d292884bbfa",
   "metadata": {},
   "outputs": [
    {
     "name": "stdout",
     "output_type": "stream",
     "text": [
      "division by zero\n"
     ]
    }
   ],
   "source": [
    "try:\n",
    "    a=10/0\n",
    "except ZeroDivisionError as e   :\n",
    "    print(\"O)"
   ]
  },
  {
   "cell_type": "markdown",
   "id": "ad16e365-65fd-43dc-b574-56ed1f3135cf",
   "metadata": {},
   "source": [
    "## Question-3: what errors are define in arithematicerrorclass? explain any two with example."
   ]
  },
  {
   "cell_type": "code",
   "execution_count": 3,
   "id": "6d66c2cc-81eb-4844-90ce-a778320aecce",
   "metadata": {},
   "outputs": [],
   "source": [
    "## Aritheamtic error is simply an error that occur during numeric calculations.\n",
    "## Arithematic error type in python:\n",
    "## 1.overflowerror\n",
    "## 2.ZeroDivisonerror\n",
    "## 3.FloatingPointerror"
   ]
  },
  {
   "cell_type": "code",
   "execution_count": 10,
   "id": "810e0e6e-8e65-4841-940b-8d002f421d6a",
   "metadata": {},
   "outputs": [
    {
     "name": "stdout",
     "output_type": "stream",
     "text": [
      "division by zero\n"
     ]
    }
   ],
   "source": [
    "## ZeroDivisonError Example:\n",
    "try:\n",
    "    a=10/0\n",
    "except ZeroDivisionError as e   :\n",
    "    print(e)"
   ]
  },
  {
   "cell_type": "code",
   "execution_count": null,
   "id": "0989ae3b-7e98-4786-b951-df58a4ed4033",
   "metadata": {},
   "outputs": [],
   "source": [
    "## floatingpointerror:\n",
    "num1=input(\"enter the first number\")\n",
    "num2=input(\"enter the second number\")\n",
    "def div(a,b):\n",
    "    try:\n",
    "        result=a/b\n",
    "        print(result)\n",
    "    except ArithematicError as e :\n",
    "        print(e)"
   ]
  },
  {
   "cell_type": "markdown",
   "id": "7242049d-4fbb-4f6a-8ec3-7ff1c4405137",
   "metadata": {},
   "source": [
    "## Question-4: why lookuperror class is used ? explain with an example keyerror and indexerror. "
   ]
  },
  {
   "cell_type": "code",
   "execution_count": 1,
   "id": "f862f9f8-574a-4c62-b449-af785630914f",
   "metadata": {},
   "outputs": [],
   "source": [
    "## the lookup error exception in python forms the base for all exception that are raised when an index or key is not found for a sequence or dictionary. we uses lookup exception class to handle both keyerror and indexerror exception class."
   ]
  },
  {
   "cell_type": "code",
   "execution_count": 2,
   "id": "1977a579-f5ed-41d6-a291-693079ebc689",
   "metadata": {},
   "outputs": [
    {
     "name": "stdout",
     "output_type": "stream",
     "text": [
      "list index out of range\n"
     ]
    }
   ],
   "source": [
    "## Indexerror: indexerror is an exception in python is occur when we try to access element in list or tuple that is not present in it.\n",
    "## Example:\n",
    "try:\n",
    "    x=[1,2,3,4,5,6,7]\n",
    "    print(x[10])\n",
    "except IndexError as e:\n",
    "    print(e)"
   ]
  },
  {
   "cell_type": "code",
   "execution_count": 10,
   "id": "98c34107-61b2-4c89-bb46-c512290dfc25",
   "metadata": {},
   "outputs": [
    {
     "name": "stdout",
     "output_type": "stream",
     "text": [
      "'course'\n"
     ]
    }
   ],
   "source": [
    "## Keyerror: keyerror is an exception in pyhton is occur when we try to access a key that isn't in dictionary.\n",
    "## Example:\n",
    "try:\n",
    "    student={\"class\":\"data_science\",\"id\":246}\n",
    "    print(student[\"course\"])\n",
    "except KeyError as e:\n",
    "    print(e)\n",
    "    "
   ]
  },
  {
   "cell_type": "markdown",
   "id": "4d8983da-eeb6-4144-9623-d2560dbded6d",
   "metadata": {},
   "source": [
    "## Question-5: explain importerror. what is modulenotfounderror?"
   ]
  },
  {
   "cell_type": "code",
   "execution_count": 9,
   "id": "49024f54-f2ed-4ade-a145-7c0d9fdee9db",
   "metadata": {},
   "outputs": [],
   "source": [
    "## ImportError: ImportError occurs when you try to import library or module that python cannot find or access. "
   ]
  },
  {
   "cell_type": "code",
   "execution_count": 11,
   "id": "64f476ca-efc9-4432-9809-67ff6ea33339",
   "metadata": {},
   "outputs": [
    {
     "name": "stdout",
     "output_type": "stream",
     "text": [
      "No module named 'sudh'\n"
     ]
    }
   ],
   "source": [
    "try:\n",
    "    import sudh\n",
    "except ImportError as e:\n",
    "    print(e)"
   ]
  },
  {
   "cell_type": "code",
   "execution_count": 12,
   "id": "f8bd9383-e56a-41c8-a082-ed122109b0d4",
   "metadata": {},
   "outputs": [],
   "source": [
    "## ModuleNotFoundError: MOdukenotfounderror occurs when you are trying to import a module that is not installed in your dependies. the module we are trying to import is in different directory."
   ]
  },
  {
   "cell_type": "markdown",
   "id": "ab48bfa9-332b-4dd9-ba58-cbb956ae539f",
   "metadata": {},
   "source": [
    "## Question-6: list down some best practices for exception handling in python."
   ]
  },
  {
   "cell_type": "code",
   "execution_count": 13,
   "id": "a4aabe7b-df1b-4184-9605-bb94ea4f2580",
   "metadata": {},
   "outputs": [
    {
     "name": "stdout",
     "output_type": "stream",
     "text": [
      "division by zero\n"
     ]
    }
   ],
   "source": [
    "try:\n",
    "    a=10/0\n",
    "except ZeroDivisionError as e   :\n",
    "    print(e)"
   ]
  },
  {
   "cell_type": "code",
   "execution_count": 14,
   "id": "23bb9fa3-782d-43c4-b5e5-1036a46977da",
   "metadata": {},
   "outputs": [
    {
     "name": "stdout",
     "output_type": "stream",
     "text": [
      "invalid literal for int() with base 10: 'sudh'\n"
     ]
    }
   ],
   "source": [
    "try:\n",
    "    int(\"sudh\")\n",
    "except (ValueError,TypeError) as e:\n",
    "    print(e)\n",
    "\n"
   ]
  },
  {
   "cell_type": "code",
   "execution_count": 15,
   "id": "36801f29-9fa6-4f22-845b-675093bf2cc6",
   "metadata": {},
   "outputs": [
    {
     "name": "stdout",
     "output_type": "stream",
     "text": [
      "'key2'\n"
     ]
    }
   ],
   "source": [
    "try:\n",
    "    d={\"key\":\"sudh\",1:[2,3,4,5]}\n",
    "    print(d[\"key2\"])\n",
    "except KeyError as e :\n",
    "    print(e)"
   ]
  },
  {
   "cell_type": "code",
   "execution_count": 16,
   "id": "3ec78932-ab91-46f2-9721-712323c99b71",
   "metadata": {},
   "outputs": [
    {
     "name": "stdout",
     "output_type": "stream",
     "text": [
      "'str' object has no attribute 'test'\n"
     ]
    }
   ],
   "source": [
    "try:\n",
    "    \"sudh\".test()\n",
    "except AttributeError as e:\n",
    "    print(e)"
   ]
  },
  {
   "cell_type": "code",
   "execution_count": 17,
   "id": "8f07c3b5-c141-4951-893c-c20a09e45955",
   "metadata": {},
   "outputs": [
    {
     "name": "stdout",
     "output_type": "stream",
     "text": [
      "list index out of range\n"
     ]
    }
   ],
   "source": [
    "try:\n",
    "    l=[1,2,3,4,5]\n",
    "    print(l[6])\n",
    "except IndexError as e:\n",
    "    print(e)"
   ]
  },
  {
   "cell_type": "code",
   "execution_count": 19,
   "id": "8afa2185-6b65-4485-a59b-498a61ab8440",
   "metadata": {},
   "outputs": [
    {
     "name": "stdout",
     "output_type": "stream",
     "text": [
      "[Errno 2] No such file or directory: 'text.test16'\n"
     ]
    }
   ],
   "source": [
    "try:\n",
    "    with open(\"text.test16\",'r') as f :\n",
    "        test=f.read()\n",
    "except  FileNotFoundError as e :\n",
    "    print(e)\n",
    "        "
   ]
  },
  {
   "cell_type": "code",
   "execution_count": null,
   "id": "f41432fa-bc0c-4225-954e-b06b4aea5cd2",
   "metadata": {},
   "outputs": [],
   "source": []
  }
 ],
 "metadata": {
  "kernelspec": {
   "display_name": "Python 3 (ipykernel)",
   "language": "python",
   "name": "python3"
  },
  "language_info": {
   "codemirror_mode": {
    "name": "ipython",
    "version": 3
   },
   "file_extension": ".py",
   "mimetype": "text/x-python",
   "name": "python",
   "nbconvert_exporter": "python",
   "pygments_lexer": "ipython3",
   "version": "3.10.8"
  }
 },
 "nbformat": 4,
 "nbformat_minor": 5
}
