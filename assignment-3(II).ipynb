{
 "cells": [
  {
   "cell_type": "markdown",
   "id": "68d96b76-7c14-455d-a3e4-fd31ac47a6ea",
   "metadata": {},
   "source": [
    "## Question-2:write a python  program to find square of all the numbers in given list."
   ]
  },
  {
   "cell_type": "code",
   "execution_count": 9,
   "id": "47d7b4ff-aab2-4880-a1e5-a4c1a3f8caae",
   "metadata": {},
   "outputs": [],
   "source": [
    "l=[1,2,3,4,5,6,7,8,9,10]"
   ]
  },
  {
   "cell_type": "code",
   "execution_count": 10,
   "id": "3db2d3f4-3b2b-41a3-bd9a-e7943385de47",
   "metadata": {},
   "outputs": [],
   "source": [
    "def sq(x):\n",
    "    return x**2"
   ]
  },
  {
   "cell_type": "code",
   "execution_count": 13,
   "id": "ff5b7903-9baf-4d49-85d8-67de4264b9ed",
   "metadata": {},
   "outputs": [],
   "source": [
    "square=list(map(sq,l))"
   ]
  },
  {
   "cell_type": "code",
   "execution_count": 14,
   "id": "be29cff6-e1d8-4b22-98ed-a1256478c4e7",
   "metadata": {},
   "outputs": [
    {
     "data": {
      "text/plain": [
       "[1, 4, 9, 16, 25, 36, 49, 64, 81, 100]"
      ]
     },
     "execution_count": 14,
     "metadata": {},
     "output_type": "execute_result"
    }
   ],
   "source": [
    "square"
   ]
  },
  {
   "cell_type": "markdown",
   "id": "603c71d3-4009-4b54-8bda-4245e3420e4b",
   "metadata": {},
   "source": [
    "## Question-3: wite a program to convert given list of integers into tuple of strings."
   ]
  },
  {
   "cell_type": "code",
   "execution_count": 16,
   "id": "ee82f87f-3dfa-444a-9cbe-99929100a4f3",
   "metadata": {},
   "outputs": [],
   "source": [
    "s=[1,2,3,4,5,6,7,8,9,10]"
   ]
  },
  {
   "cell_type": "code",
   "execution_count": 26,
   "id": "748c531f-05da-4023-8f01-a06b7340760a",
   "metadata": {},
   "outputs": [],
   "source": [
    "a=tuple(map(lambda x: str(x) , s))\n",
    "    "
   ]
  },
  {
   "cell_type": "code",
   "execution_count": 27,
   "id": "09839173-7cdd-452b-992a-8853a00a466d",
   "metadata": {},
   "outputs": [
    {
     "data": {
      "text/plain": [
       "('1', '2', '3', '4', '5', '6', '7', '8', '9', '10')"
      ]
     },
     "execution_count": 27,
     "metadata": {},
     "output_type": "execute_result"
    }
   ],
   "source": [
    "a"
   ]
  },
  {
   "cell_type": "markdown",
   "id": "48b6203c-f918-4bc1-81e2-30c055926424",
   "metadata": {},
   "source": [
    "## Question-4: write a python program using reduce function to compute product of list containng numbers."
   ]
  },
  {
   "cell_type": "code",
   "execution_count": 28,
   "id": "9eef18a6-d2ec-4b11-90db-91d8a21b3d05",
   "metadata": {},
   "outputs": [],
   "source": [
    "l=[1,2,3,4,5,6,7,8,9,10,11,12,13,14,15,16,17,18,19,20,21,22,23,24,25]"
   ]
  },
  {
   "cell_type": "code",
   "execution_count": 30,
   "id": "bb68782b-0cfb-4b6a-b1bf-3a220eb693d0",
   "metadata": {},
   "outputs": [],
   "source": [
    "from functools import reduce"
   ]
  },
  {
   "cell_type": "code",
   "execution_count": 31,
   "id": "4f9dc3f3-ded9-43a7-83f9-9e6e8554ff78",
   "metadata": {},
   "outputs": [],
   "source": [
    "a=reduce(lambda x,y:x*y , l)"
   ]
  },
  {
   "cell_type": "code",
   "execution_count": 32,
   "id": "8d5f0562-8ec7-44bb-af0d-3be7cf941d28",
   "metadata": {},
   "outputs": [
    {
     "data": {
      "text/plain": [
       "15511210043330985984000000"
      ]
     },
     "execution_count": 32,
     "metadata": {},
     "output_type": "execute_result"
    }
   ],
   "source": [
    "a"
   ]
  },
  {
   "cell_type": "markdown",
   "id": "31e4ea7b-948d-4400-bc8c-6588216b2336",
   "metadata": {},
   "source": [
    "## Question-5: write a python program to filter the numbers in a given list that are divisible by 2 and 3 using filter function."
   ]
  },
  {
   "cell_type": "code",
   "execution_count": 33,
   "id": "ac307766-c25f-4623-8697-ee1b6e85672e",
   "metadata": {},
   "outputs": [],
   "source": [
    "l=[2,3,6,9,27,60,90,120,55,46]"
   ]
  },
  {
   "cell_type": "code",
   "execution_count": 36,
   "id": "9ac43b6b-a523-4e79-9c4f-6f235b1b6402",
   "metadata": {},
   "outputs": [],
   "source": [
    "a=list(filter(lambda x:x%2==0 and x%3==0,l))"
   ]
  },
  {
   "cell_type": "code",
   "execution_count": 37,
   "id": "5550e956-0afa-4a83-918d-5f6a024581a5",
   "metadata": {},
   "outputs": [
    {
     "data": {
      "text/plain": [
       "[6, 60, 90, 120]"
      ]
     },
     "execution_count": 37,
     "metadata": {},
     "output_type": "execute_result"
    }
   ],
   "source": [
    "a"
   ]
  },
  {
   "cell_type": "markdown",
   "id": "27aa1c40-01f6-482f-939a-35e0ad9371cc",
   "metadata": {},
   "source": [
    "## Question-6: write a phython program to find palindromes in givrn list of strings using filter and lambda function."
   ]
  },
  {
   "cell_type": "code",
   "execution_count": 19,
   "id": "e52cce48-3408-41e8-8141-37af82f0abfe",
   "metadata": {},
   "outputs": [],
   "source": [
    "l=[\"python\",\"php\",\"aba\",\"radar\",\"level\"]"
   ]
  },
  {
   "cell_type": "code",
   "execution_count": 20,
   "id": "5e0e7cc7-6fa8-48c5-b9e6-d93eeced5c62",
   "metadata": {},
   "outputs": [],
   "source": [
    "a=list(filter(lambda x : x==x[::-1],l))"
   ]
  },
  {
   "cell_type": "code",
   "execution_count": 21,
   "id": "d9addd20-fbf9-4d3c-ac25-512257a6f98e",
   "metadata": {},
   "outputs": [
    {
     "data": {
      "text/plain": [
       "['php', 'aba', 'radar', 'level']"
      ]
     },
     "execution_count": 21,
     "metadata": {},
     "output_type": "execute_result"
    }
   ],
   "source": [
    "a"
   ]
  },
  {
   "cell_type": "markdown",
   "id": "f5099d48-1416-4729-9cc9-fb4f8a372d39",
   "metadata": {},
   "source": [
    "## Question-1: create program to sort given list of tuples based on integer value using lambda function."
   ]
  },
  {
   "cell_type": "code",
   "execution_count": 33,
   "id": "e1779cea-00dd-4a6f-ade9-eddf55ce1fed",
   "metadata": {},
   "outputs": [],
   "source": [
    "l=[('Sachin Tendulkar',34357),('Ricky Pointing',27483),('Jack Kallis',25534),('Virat Kohli',24936)]"
   ]
  },
  {
   "cell_type": "code",
   "execution_count": 34,
   "id": "94bf0815-98a0-4925-898f-c564cf60c180",
   "metadata": {},
   "outputs": [
    {
     "data": {
      "text/plain": [
       "[('Virat Kohli', 24936),\n",
       " ('Jack Kallis', 25534),\n",
       " ('Ricky Pointing', 27483),\n",
       " ('Sachin Tendulkar', 34357)]"
      ]
     },
     "execution_count": 34,
     "metadata": {},
     "output_type": "execute_result"
    }
   ],
   "source": [
    "sorted(l,key=lambda x:x[1])"
   ]
  },
  {
   "cell_type": "code",
   "execution_count": null,
   "id": "1810177f-19a1-4227-af44-d4862abea0bd",
   "metadata": {},
   "outputs": [],
   "source": []
  }
 ],
 "metadata": {
  "kernelspec": {
   "display_name": "Python 3 (ipykernel)",
   "language": "python",
   "name": "python3"
  },
  "language_info": {
   "codemirror_mode": {
    "name": "ipython",
    "version": 3
   },
   "file_extension": ".py",
   "mimetype": "text/x-python",
   "name": "python",
   "nbconvert_exporter": "python",
   "pygments_lexer": "ipython3",
   "version": "3.10.8"
  }
 },
 "nbformat": 4,
 "nbformat_minor": 5
}
