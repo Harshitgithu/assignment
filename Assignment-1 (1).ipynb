{
 "cells": [
  {
   "cell_type": "code",
   "execution_count": null,
   "id": "58cc64f4-4eaf-4024-94ad-f4790a17d56d",
   "metadata": {},
   "outputs": [],
   "source": [
    "s=\"Harshit\" ## Question-1 ##\n",
    "type(s)\n"
   ]
  },
  {
   "cell_type": "code",
   "execution_count": null,
   "id": "ed425935-b8f8-4d20-a250-a49ad2bdecc0",
   "metadata": {},
   "outputs": [],
   "source": [
    "l=[1,35.68,\"Harshit\"]\n",
    "type(l)"
   ]
  },
  {
   "cell_type": "code",
   "execution_count": null,
   "id": "45b43a51-1067-4b2e-b2f8-b24a7a2b25fa",
   "metadata": {},
   "outputs": [],
   "source": [
    "f=78.68\n",
    "type(f)"
   ]
  },
  {
   "cell_type": "code",
   "execution_count": null,
   "id": "3720bd37-cc58-4c36-921d-523f06d3c588",
   "metadata": {},
   "outputs": [],
   "source": [
    "t=(1,2,'Harshit',21.26)\n",
    "type(t)"
   ]
  },
  {
   "cell_type": "code",
   "execution_count": null,
   "id": "7bf43ae6-d0a0-4f40-b17b-82d77b56a383",
   "metadata": {},
   "outputs": [],
   "source": [
    "var1=''  ## Question-2 ##"
   ]
  },
  {
   "cell_type": "code",
   "execution_count": null,
   "id": "2beabf2d-da84-4102-8aa4-b9540505d419",
   "metadata": {},
   "outputs": [],
   "source": [
    "type(var1)"
   ]
  },
  {
   "cell_type": "code",
   "execution_count": null,
   "id": "eb2aa2d8-4910-4bd1-bf26-af48d40bc28e",
   "metadata": {},
   "outputs": [],
   "source": [
    "var2='[DS,ML,Python]'"
   ]
  },
  {
   "cell_type": "code",
   "execution_count": null,
   "id": "900f6c3b-dca1-438c-8acb-ee00023f45bc",
   "metadata": {},
   "outputs": [],
   "source": [
    "type(var2)"
   ]
  },
  {
   "cell_type": "code",
   "execution_count": null,
   "id": "0d1ef708-64b5-423d-aeb1-14608ed56cb6",
   "metadata": {},
   "outputs": [],
   "source": [
    "var3=['DS','ML','Python']"
   ]
  },
  {
   "cell_type": "code",
   "execution_count": null,
   "id": "3c626b24-c77c-4f17-9a47-34d97d472a80",
   "metadata": {},
   "outputs": [],
   "source": [
    "type(var3)"
   ]
  },
  {
   "cell_type": "code",
   "execution_count": null,
   "id": "f3a72a3b-5574-45c1-84b0-f6ef007a0165",
   "metadata": {},
   "outputs": [],
   "source": [
    "var4=1"
   ]
  },
  {
   "cell_type": "code",
   "execution_count": null,
   "id": "ddc22c02-9665-4125-b384-22f647c073f5",
   "metadata": {},
   "outputs": [],
   "source": [
    "type(var4)"
   ]
  },
  {
   "cell_type": "code",
   "execution_count": null,
   "id": "fd2b5902-fe49-4e7a-89a9-a59fda99a4eb",
   "metadata": {},
   "outputs": [],
   "source": [
    "4/2                ## Question-3 ##\n",
    "##it is used for division##   "
   ]
  },
  {
   "cell_type": "code",
   "execution_count": null,
   "id": "7b76bef5-8691-4805-940b-09df6d2e6572",
   "metadata": {},
   "outputs": [],
   "source": [
    "5%2 ##modulus operator to get remainder in integer divison##"
   ]
  },
  {
   "cell_type": "code",
   "execution_count": null,
   "id": "a34efcc5-fc24-4d58-8e6d-0544da664d62",
   "metadata": {},
   "outputs": [],
   "source": [
    "5//2 ##it is used for integer division ##"
   ]
  },
  {
   "cell_type": "code",
   "execution_count": null,
   "id": "cc1e33a0-3781-4424-94f9-d2da49d0116e",
   "metadata": {},
   "outputs": [],
   "source": [
    "5**2 ##exponent ##"
   ]
  },
  {
   "cell_type": "code",
   "execution_count": null,
   "id": "a21ac671-0789-48d2-a8bd-8663fd497282",
   "metadata": {},
   "outputs": [],
   "source": [
    "l=[4,6,5,\"Harshit\",35.68,(4+6j),True,1,False,\"harsh\"]   ## Question -4 ##"
   ]
  },
  {
   "cell_type": "code",
   "execution_count": null,
   "id": "009827f5-12c8-4064-aeb0-d6eb9cc3aa5f",
   "metadata": {},
   "outputs": [],
   "source": [
    "for i in l :\n",
    "    print(type(i))\n",
    "    print(i)"
   ]
  },
  {
   "cell_type": "code",
   "execution_count": null,
   "id": "a1d321f5-8920-486c-b1db-283ab974ae67",
   "metadata": {},
   "outputs": [],
   "source": [
    "l=[2,4,6,7,9,]  ## Question-7 ##"
   ]
  },
  {
   "cell_type": "code",
   "execution_count": null,
   "id": "0a743b87-3f7d-43e1-a6b5-482668a1539d",
   "metadata": {},
   "outputs": [],
   "source": [
    "l[2]=6 \n"
   ]
  },
  {
   "cell_type": "code",
   "execution_count": null,
   "id": "b4fdd4d2-7a3c-4b2d-ad18-ea5debdb0d46",
   "metadata": {},
   "outputs": [],
   "source": [
    "l \n",
    "## l is a list which is an example of mutable data type , in mutable data type we deal with index numbers and we can change data of a list ##"
   ]
  },
  {
   "cell_type": "code",
   "execution_count": null,
   "id": "7a3c9a6b-6a18-4372-b0f5-e2457291de94",
   "metadata": {},
   "outputs": [],
   "source": [
    "H=\"Harshit\"\n"
   ]
  },
  {
   "cell_type": "code",
   "execution_count": null,
   "id": "bbd19f5d-b448-48a4-9f75-4cab39895d27",
   "metadata": {},
   "outputs": [],
   "source": [
    "H[2]=3   ## H is a string which is an example of immutable data type and we cannot change data or element of the string with help of index number.this is ccalled immutable data type##"
   ]
  },
  {
   "cell_type": "code",
   "execution_count": 1,
   "id": "81893518-19c9-4840-9834-31580b4f68cb",
   "metadata": {},
   "outputs": [],
   "source": [
    "l = [1,2,3,4,6,7,8,9,10,11,12,13,14,15,16,17,18,19,20,21,22,23,24,25]  ## Question -6 ##"
   ]
  },
  {
   "cell_type": "code",
   "execution_count": 2,
   "id": "4e2b7a89-aae7-4ffa-b9f2-47585094c1ce",
   "metadata": {},
   "outputs": [
    {
     "data": {
      "text/plain": [
       "list"
      ]
     },
     "execution_count": 2,
     "metadata": {},
     "output_type": "execute_result"
    }
   ],
   "source": [
    "type(l)"
   ]
  },
  {
   "cell_type": "code",
   "execution_count": 3,
   "id": "46871058-9334-4d3d-ab8d-5104a7b60b13",
   "metadata": {},
   "outputs": [
    {
     "name": "stdout",
     "output_type": "stream",
     "text": [
      "number is not divisble by 3\n",
      "number is not divisble by 3\n",
      "number is divisible by 3 \n",
      "number is not divisble by 3\n",
      "number is divisible by 3 \n",
      "number is not divisble by 3\n",
      "number is not divisble by 3\n",
      "number is divisible by 3 \n",
      "number is not divisble by 3\n",
      "number is not divisble by 3\n",
      "number is divisible by 3 \n",
      "number is not divisble by 3\n",
      "number is not divisble by 3\n",
      "number is divisible by 3 \n",
      "number is not divisble by 3\n",
      "number is not divisble by 3\n",
      "number is divisible by 3 \n",
      "number is not divisble by 3\n",
      "number is not divisble by 3\n",
      "number is divisible by 3 \n",
      "number is not divisble by 3\n",
      "number is not divisble by 3\n",
      "number is divisible by 3 \n",
      "number is not divisble by 3\n"
     ]
    }
   ],
   "source": [
    "for i in l :\n",
    "    if i%3==0:\n",
    "        print(\"number is divisible by 3 \")\n",
    "    else :\n",
    "        print(\"number is not divisble by 3\")"
   ]
  },
  {
   "cell_type": "code",
   "execution_count": null,
   "id": "0e0ebf7f-a1be-4ca2-884d-c451853b111a",
   "metadata": {},
   "outputs": [],
   "source": [
    "A=int(input())    ## Question-5 ##   \n",
    "B=int(input())\n",
    "if A>B:\n",
    "     if A%B==0:\n",
    "        print(\"A is purely divisble by B\")\n",
    "else:\n",
    " print(\"A is not divisible by B\")\n",
    "        \n",
    "        \n",
    "        \n",
    "        "
   ]
  },
  {
   "cell_type": "code",
   "execution_count": null,
   "id": "b27f2f8b-41fd-404c-970d-e520d76d5104",
   "metadata": {},
   "outputs": [],
   "source": []
  }
 ],
 "metadata": {
  "kernelspec": {
   "display_name": "Python 3 (ipykernel)",
   "language": "python",
   "name": "python3"
  },
  "language_info": {
   "codemirror_mode": {
    "name": "ipython",
    "version": 3
   },
   "file_extension": ".py",
   "mimetype": "text/x-python",
   "name": "python",
   "nbconvert_exporter": "python",
   "pygments_lexer": "ipython3",
   "version": "3.10.8"
  }
 },
 "nbformat": 4,
 "nbformat_minor": 5
}
